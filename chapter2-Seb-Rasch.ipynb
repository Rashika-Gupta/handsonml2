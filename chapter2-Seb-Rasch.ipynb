{
 "cells": [
  {
   "cell_type": "code",
   "execution_count": 1,
   "metadata": {},
   "outputs": [
    {
     "name": "stderr",
     "output_type": "stream",
     "text": [
      "/home/rhythm/anaconda3/lib/python3.7/site-packages/pandas/compat/_optional.py:138: UserWarning: Pandas requires version '2.7.0' or newer of 'numexpr' (version '2.6.9' currently installed).\n",
      "  warnings.warn(msg, UserWarning)\n"
     ]
    },
    {
     "name": "stdout",
     "output_type": "stream",
     "text": [
      "0.11.0\n"
     ]
    }
   ],
   "source": [
    "#loading all the important libraries\n",
    "import numpy as np\n",
    "import pandas as pd\n",
    "import matplotlib.pyplot as plt\n",
    "%matplotlib inline\n",
    "import sklearn\n",
    "import seaborn as sns\n",
    "import math\n",
    "import warnings\n",
    "import scipy\n",
    "warnings.filterwarnings('ignore')\n",
    "plt.rcParams[\"figure.figsize\"] = [10,5]\n",
    "print(sns.__version__)"
   ]
  },
  {
   "cell_type": "code",
   "execution_count": 4,
   "id": "99525b9c",
   "metadata": {},
   "outputs": [],
   "source": [
    "#reading dataset\n",
    "df_train = pd.read_csv('./dataSet/train.csv')"
   ]
  },
  {
   "cell_type": "code",
   "execution_count": 3,
   "id": "deffc153",
   "metadata": {},
   "outputs": [],
   "source": [
    "#removing feaure f_27, and adding other features\n",
    "#df_train = df_train.drop('f_27', axis =1)"
   ]
  },
  {
   "cell_type": "code",
   "execution_count": 5,
   "id": "4d99f110",
   "metadata": {},
   "outputs": [],
   "source": [
    "#engineerign other characters in  the dataset from other notebook\n",
    "import string\n",
    "alphabet_upper = list(string.ascii_uppercase)\n",
    "\n",
    "char_counts = []\n",
    "#char_counts_test = []\n",
    "for character in alphabet_upper:\n",
    "    char_counts.append(df_train[\"f_27\"].str.count(character).sum())\n",
    "char_counts_df = pd.DataFrame({\"Character\": alphabet_upper, \"Character Count\": char_counts})\n",
    "char_counts_df = char_counts_df.loc[char_counts_df[\"Character Count\"] > 0]\n",
    "char_counts_df = char_counts_df.set_index(\"Character\", drop = False)\n",
    "for i in range(10):\n",
    "    char_counts_df[\"character\"+str(i+1)] = df_train[\"f_27\"].str[i].value_counts()\n",
    "char_counts_df = char_counts_df.fillna(0)\n",
    "\n"
   ]
  },
  {
   "cell_type": "code",
   "execution_count": 6,
   "id": "f7fd7f31",
   "metadata": {},
   "outputs": [],
   "source": [
    "def feature_engineer(df):\n",
    "    new_df = df.copy()\n",
    "  #  display(new_df.head())\n",
    "    for i in range(10):\n",
    "        new_df['f_27_' + str(i)]= new_df[\"f_27\"].str[i].apply(lambda x : ord(x) - ord(\"A\"))\n",
    "    new_df['unique_character'] = new_df[\"f_27\"].apply(lambda x :len(set(x)))\n",
    "    return new_df\n"
   ]
  },
  {
   "cell_type": "code",
   "execution_count": 7,
   "id": "a019cb3b",
   "metadata": {},
   "outputs": [],
   "source": [
    "training_set = feature_engineer(df_train)"
   ]
  },
  {
   "cell_type": "code",
   "execution_count": 65,
   "id": "cc3f1175",
   "metadata": {},
   "outputs": [],
   "source": [
    "\n",
    "class Perceptron:\n",
    "    \"\"\" Perceptron Classifier\n",
    "    Parameters:\n",
    "    eta : float \n",
    "    Learning rate btwn 0.0 1.0\n",
    "    random_state : initalisation seed\n",
    "    n_iter : int\n",
    "    passes over training dataset\n",
    "\n",
    "    Attributes : \n",
    "    w_ : single array random generated\n",
    "\n",
    "    \"\"\"\n",
    "    # constructor to initialise the object's state (data member of class)\n",
    "    # when object of class state is created\n",
    "    #The keyword self represents the instance of a class \n",
    "    #and binds the attributes with the given arguments\n",
    "    def __init__(self, eta = 0.01, n_iter = 50, random_state = 1):\n",
    "        self.eta = eta\n",
    "        self.n_iter = n_iter #of epochs\n",
    "        self.random_state = random_state\n",
    "    \n",
    "    def fit(self, X, y):\n",
    "        #initialise the weight \n",
    "        # number drawn from random generator of normal dstb std of 0.01 \n",
    "        #randomstarte helps in the reproducing the same resule\n",
    "        rgen = np.random.RandomState(self.random_state)\n",
    "        self.w_ = rgen.normal(loc = 0.0, scale = 0.01, size = X.shape[1] )\n",
    "        self.b_ = np.float_(0.)\n",
    "        \n",
    "        self.errors_ = []\n",
    "        for _ in range (self.n_iter) :\n",
    "            errors = 0\n",
    "            for xi, target in zip(X, y):\n",
    "                update = self.eta*(target - self.predict(xi))\n",
    "                self.w_+= update*xi\n",
    "                self.b_ += update\n",
    "                errors += int(update!= 0.0)\n",
    "            self.errors_.append(errors)\n",
    "        return self\n",
    "    def net_input(self, X):\n",
    "        \"\"\" net input = w'.x \n",
    "        where self.w_[0] is the bias\n",
    "      \n",
    "        \"\"\"\n",
    "        return np.dot(X, self.w_) + self.b_\n",
    "    \n",
    "    def predict(self, X) :\n",
    "        \"\"\" predicted class label\n",
    "               where if phi(z) activation function  = 1 if z>0, -1 else\n",
    "        \"\"\"\n",
    "        return np.where(self.net_input(X) >= 0.0, 1, 0)\n",
    "        "
   ]
  },
  {
   "cell_type": "markdown",
   "id": "8c403b3b",
   "metadata": {},
   "source": [
    "$ y = 1  if \\sum w_i *x_i >= \\theta or \\sum w_i *x_i - \\theta >= 0 $\n",
    "where $\\theta$ is threshold / refered as bias"
   ]
  },
  {
   "cell_type": "code",
   "execution_count": null,
   "id": "acc6ab91",
   "metadata": {},
   "outputs": [],
   "source": []
  },
  {
   "cell_type": "code",
   "execution_count": 73,
   "id": "40a05bb7",
   "metadata": {},
   "outputs": [
    {
     "data": {
      "text/plain": [
       "(100, 2)"
      ]
     },
     "metadata": {},
     "output_type": "display_data"
    },
    {
     "data": {
      "text/plain": [
       "(100,)"
      ]
     },
     "metadata": {},
     "output_type": "display_data"
    }
   ],
   "source": [
    "#assigining only two variables \n",
    "X = training_set.iloc[0:100, [1,7]].values\n",
    "y = training_set.iloc[0:100, 32 ].values\n",
    "display(X.shape)\n",
    "display(y.shape)\n"
   ]
  },
  {
   "cell_type": "markdown",
   "id": "a54ee276",
   "metadata": {},
   "source": []
  },
  {
   "cell_type": "code",
   "execution_count": 69,
   "id": "e530e584",
   "metadata": {},
   "outputs": [
    {
     "data": {
      "image/png": "[encoded data removed]",
      "text/plain": [
       "<Figure size 432x288 with 1 Axes>"
      ]
     },
     "metadata": {
      "needs_background": "light"
     },
     "output_type": "display_data"
    }
   ],
   "source": [
    "#running the classifier that we designed\n",
    "ppn = Perceptron(eta = 0.1, n_iter = 20)\n",
    "ppn.fit(X,y)\n",
    "plt.plot(range(1, len(ppn.errors_) +1), ppn.errors_, marker = 'o')\n",
    "plt.xlabel('Epochs')\n",
    "plt.ylabel('Number of updates')\n",
    "plt.show()"
   ]
  },
  {
   "cell_type": "markdown",
   "id": "c02e05d6",
   "metadata": {},
   "source": [
    "* we can see that since the parameters are not linearly separable it becomes difficult to vlassify\n",
    "* rge perceptron didn't converge "
   ]
  },
  {
   "cell_type": "code",
   "execution_count": null,
   "id": "b8ec3feb",
   "metadata": {},
   "outputs": [],
   "source": []
  },
  {
   "cell_type": "code",
   "execution_count": 68,
   "id": "8f788783",
   "metadata": {},
   "outputs": [
    {
     "data": {
      "image/png": "[encoded data removed]",
      "text/plain": [
       "<Figure size 432x288 with 1 Axes>"
      ]
     },
     "metadata": {
      "needs_background": "light"
     },
     "output_type": "display_data"
    }
   ],
   "source": [
    "%matplotlib inline\n",
    "import matplotlib.pyplot as plt\n",
    "import numpy as np\n",
    "\n",
    "# plot data\n",
    "plt.scatter(X[:50, 0], X[:50, 1],\n",
    "            color='red', marker='o', label='0')\n",
    "plt.scatter(X[50:100, 0], X[50:100, 1],\n",
    "            color='blue', marker='s', label='1')\n",
    "\n",
    "plt.xlabel('X_0')\n",
    "plt.ylabel('X_1')\n",
    "plt.legend(loc='upper left')\n",
    "\n",
    "# plt.savefig('images/02_06.png', dpi=300)\n",
    "plt.show()"
   ]
  },
  {
   "cell_type": "code",
   "execution_count": 93,
   "id": "e2b2e769",
   "metadata": {},
   "outputs": [],
   "source": [
    "class AdalineGD:\n",
    "    \"\"\" Adaline Classifier\n",
    "    Parameters:\n",
    "    eta : float \n",
    "    Learning rate btwn 0.0 1.0\n",
    "    random_state : initalisation seed\n",
    "    n_iter : int\n",
    "    passes over training dataset\n",
    "\n",
    "    Attributes : \n",
    "    w_ : single array random generated\n",
    "    b_ : scalar \n",
    "    bias unit after fitting\n",
    "    losses_ : list\n",
    "    MSE loss funtion values in each epoch\n",
    "    \"\"\"\n",
    "   \n",
    "    def __init__(self, eta = 0.01, n_iter = 50, random_state = 1):\n",
    "        self.eta = eta\n",
    "        self.n_iter = n_iter #of epochs\n",
    "        self.random_state = random_state\n",
    "\n",
    "    def fit(self, X, y):\n",
    "        rgen = np.random.RandomState(self.random_state)\n",
    "        self.w_ = rgen.normal(loc = 0.0, scale = 0.01, size = 1+ X.shape[1] )\n",
    "       \n",
    "        \n",
    "        self.cost_ = []\n",
    "        for _ in range (self.n_iter) :\n",
    "            output = self.activation(self.net_input(X))\n",
    "            errors = y - output\n",
    "            self.w_[1:] = self.w_[1:] + self.eta*X.T.dot(errors) #here [X] = n*m and [error] = 1*m \n",
    "            self.w_[0] += self.eta*(errors.sum())\n",
    "            cost = (errors**2).sum()/2\n",
    "            self.cost_.append(cost)\n",
    "        return self\n",
    "    def net_input(self, X):\n",
    "        \"\"\" net input = w'.x \n",
    "        where self.w_[0] is the bias  also refered as the activation\n",
    "        \"\"\" \n",
    "        return np.dot(X, self.w_[1:]) + self.w_[0]\n",
    "\n",
    "    def activation(self, X):\n",
    "        \"Compute linear activation\"\n",
    "        return X\n",
    "    \n",
    "    def predict(self, X):\n",
    "        return np.where(self.activation(self.net_input(X)) >= 0.5, 1, 0)\n",
    "       \n"
   ]
  },
  {
   "cell_type": "code",
   "execution_count": 94,
   "id": "dc747391",
   "metadata": {},
   "outputs": [
    {
     "data": {
      "text/plain": [
       "Text(0.5, 1.0, 'Adaline - Learning rate 0.0001')"
      ]
     },
     "execution_count": 94,
     "metadata": {},
     "output_type": "execute_result"
    },
    {
     "data": {
      "image/png": "[encoded data removed]",
      "text/plain": [
       "<Figure size 720x288 with 2 Axes>"
      ]
     },
     "metadata": {
      "needs_background": "light"
     },
     "output_type": "display_data"
    }
   ],
   "source": [
    "fig, ax = plt.subplots(nrows=1, ncols=2, figsize=(10, 4))\n",
    "\n",
    "ada1 = AdalineGD(n_iter=15, eta=0.1).fit(X, y)\n",
    "ax[0].plot(range(1, len(ada1.cost_) + 1), np.log10(ada1.cost_), marker='o')\n",
    "ax[0].set_xlabel('Epochs')\n",
    "ax[0].set_ylabel('log(Mean squared error)')\n",
    "ax[0].set_title('Adaline - Learning rate 0.1')\n",
    "\n",
    "ada2 = AdalineGD(n_iter=15, eta=0.0001).fit(X, y)\n",
    "ax[1].plot(range(1, len(ada2.cost_) + 1), ada2.cost_, marker='o')\n",
    "ax[1].set_xlabel('Epochs')\n",
    "ax[1].set_ylabel('Mean squared error')\n",
    "ax[1].set_title('Adaline - Learning rate 0.0001')"
   ]
  },
  {
   "cell_type": "markdown",
   "id": "2b104d08",
   "metadata": {},
   "source": [
    "we see the cost-function relation. \n",
    "* left shows that if learnnig rate (eta)/ epochs/ n_itre (hyperparameters ) is large instead of minimising the error become too large overshooting the global minima\n",
    "* if eta is small on rihgt need large # of epochs to converge to cglobale cost minimum"
   ]
  },
  {
   "cell_type": "code",
   "execution_count": 97,
   "id": "99db834d",
   "metadata": {},
   "outputs": [],
   "source": [
    "#improving gradient through scaling. \n",
    "#need lesser step to optiise\n",
    "X_std = np.copy(X)\n",
    "X_std[:,0] = (X[:,0] - X[:,0].mean())/X[:,0].std()\n",
    "X_std[:,1] = (X[:,1] - X[:,1].mean())/X[:,1].std()"
   ]
  },
  {
   "cell_type": "code",
   "execution_count": 99,
   "id": "33cd06c4",
   "metadata": {},
   "outputs": [
    {
     "data": {
      "text/plain": [
       "Text(0.5, 1.0, 'Adaline - Learning rate 0.0001')"
      ]
     },
     "execution_count": 99,
     "metadata": {},
     "output_type": "execute_result"
    },
    {
     "data": {
      "image/png": "[encoded data removed]",
      "text/plain": [
       "<Figure size 432x288 with 1 Axes>"
      ]
     },
     "metadata": {
      "needs_background": "light"
     },
     "output_type": "display_data"
    }
   ],
   "source": [
    "ada3 = AdalineGD(n_iter = 15, eta = 0.01)\n",
    "ada3.fit(X_std, y)\n",
    "plt.plot(range(1, len(ada3.cost_) + 1), ada3.cost_, marker='o')\n",
    "plt.xlabel('Epochs')\n",
    "plt.ylabel('Mean squared error')\n",
    "plt.title('Adaline - Learning rate 0.0001')"
   ]
  },
  {
   "cell_type": "markdown",
   "id": "3cf5e800",
   "metadata": {},
   "source": [
    "mse  / cost function remains non zero (even though samples might be classified correctly)"
   ]
  },
  {
   "cell_type": "markdown",
   "id": "1b9b7ed7",
   "metadata": {},
   "source": [
    "converged after scaling with small rate \n",
    "* we were minimising the function by takig step in opposite direction of gradient calculated\n",
    "https://pabloinsente.github.io/the-adaline"
   ]
  },
  {
   "cell_type": "code",
   "execution_count": 107,
   "id": "4e19e519",
   "metadata": {},
   "outputs": [],
   "source": [
    "class AdalineSGD(object):\n",
    "    \"\"\" Adaline Classifier\n",
    "    Parameters:\n",
    "    eta : float \n",
    "    Learning rate btwn 0.0 1.0\n",
    "    random_state : initalisation seed\n",
    "    n_iter : int\n",
    "    passes over training dataset\n",
    "    shuffle : shuffles training data every epoch if true to prevent cycles\n",
    "    radom_state : int\n",
    "\n",
    "    Attributes : \n",
    "    w_ : single array random generated\n",
    "    cost_ : scalar \n",
    "    bias unit after fitting\n",
    "    losses_ : list\n",
    "    MSE loss funtion values in each epoch\n",
    "    \"\"\"\n",
    "   \n",
    "    def __init__(self, eta = 0.01, n_iter = 50, shuffle = True, random_state = 1):\n",
    "        self.eta = eta\n",
    "        self.n_iter = n_iter #of epochs\n",
    "        self.random_state = random_state\n",
    "        self.shuffle = shuffle\n",
    "        self.w_initialised = False\n",
    "\n",
    "    def fit(self, X, y):\n",
    "        self.rgen = np.random.RandomState(self.random_state)\n",
    "        self.w_ = self.rgen.normal(loc = 0.0, scale = 0.01, size = 1+ X.shape[1] )\n",
    "        self.cost_ = []\n",
    "        for i in range (self.n_iter):\n",
    "            if self.shuffle :\n",
    "                X, y = self._shuffle(X,y)\n",
    "            cost = []\n",
    "            for xi, target in zip(X, y):\n",
    "                cost.append(self._update_weights(xi, target))\n",
    "            avg_cost  = sum(cost)/ len(y)\n",
    "            self.cost_.append(avg_cost)\n",
    "        return self\n",
    "    def net_input(self, X):\n",
    "        \"\"\" net input = w'.x \n",
    "        where self.w_[0] is the bias  also refered as the activation\n",
    "        \"\"\"\n",
    "        return np.dot(X, self.w_[1:]) + self.w_[0]\n",
    "\n",
    "    #def _initialise_weights(self, m):\n",
    "    #    \"\"\" initiating weights to small random number\"\"\"\n",
    "    #    self.rgen = np.random.RandomState(self.random_state)\n",
    "    #    self.w_ = self.rgen.normal(loc = 0.0, scale = 0.01, size = 1+m)\n",
    "    #    self.w_initialised = True\n",
    "    def _shuffle(self, X, y):\n",
    "        r = self.rgen.permutation(len(y))\n",
    "        return X[r], y[r]\n",
    "\n",
    "    def activation(self, X):\n",
    "        \"Compute linear activation\"\n",
    "        return X\n",
    "    \n",
    "    def predict(self, X):\n",
    "        return np.where(self.activation(self.net_input(X)) >= 0.0, 1, -1)\n",
    "    \n",
    "    def _update_weights(self, xi, target):\n",
    "        #update weights \n",
    "        output = self.activation(self.net_input(xi))\n",
    "        error = (target - output)\n",
    "        self.w_[1:] += self.eta * xi.dot(error) # dimension 1-m [xi] = 2*1; error [error]1*m\n",
    "        self.w_[0] += self.eta*error\n",
    "        cost = 0.5*error**2\n",
    "        return cost\n",
    "    \n",
    "\n",
    "\n",
    "       \n"
   ]
  },
  {
   "cell_type": "code",
   "execution_count": 108,
   "id": "44fda623",
   "metadata": {},
   "outputs": [
    {
     "data": {
      "text/plain": [
       "<__main__.AdalineSGD at 0x7f909e8e6da0>"
      ]
     },
     "execution_count": 108,
     "metadata": {},
     "output_type": "execute_result"
    }
   ],
   "source": [
    "ada = AdalineSGD(n_iter = 15, eta = 0.01, random_state=1)\n",
    "ada.fit(X_std, y)"
   ]
  },
  {
   "cell_type": "code",
   "execution_count": 109,
   "id": "aefceaa9",
   "metadata": {},
   "outputs": [
    {
     "data": {
      "text/plain": [
       "Text(0.5, 1.0, 'Adaline - SGD')"
      ]
     },
     "execution_count": 109,
     "metadata": {},
     "output_type": "execute_result"
    },
    {
     "data": {
      "image/png": "[encoded data removed]",
      "text/plain": [
       "<Figure size 432x288 with 1 Axes>"
      ]
     },
     "metadata": {
      "needs_background": "light"
     },
     "output_type": "display_data"
    }
   ],
   "source": [
    "plt.plot(range(1, len(ada.cost_) + 1), ada.cost_, marker='o')\n",
    "plt.xlabel('Epochs')\n",
    "plt.ylabel('average cost ')\n",
    "plt.title('Adaline - SGD')"
   ]
  },
  {
   "cell_type": "markdown",
   "id": "38736486",
   "metadata": {},
   "source": [
    "Avg cost goes down quicky.\n",
    "* can improvise on the online method by calling partial fit method"
   ]
  },
  {
   "cell_type": "code",
   "execution_count": null,
   "id": "2f934659",
   "metadata": {},
   "outputs": [],
   "source": []
  }
 ],
 "metadata": {
  "kernelspec": {
   "display_name": "Python 3.7.3 ('base')",
   "language": "python",
   "name": "python3"
  },
  "language_info": {
   "codemirror_mode": {
    "name": "ipython",
    "version": 3
   },
   "file_extension": ".py",
   "mimetype": "text/x-python",
   "name": "python",
   "nbconvert_exporter": "python",
   "pygments_lexer": "ipython3",
   "version": "3.7.3"
  },
  "vscode": {
   "interpreter": {
    "hash": "0908d9aff873dcb3cc2ddb69a47333019532e0791c0c30c9e347478999bc9d11"
   }
  }
 },
 "nbformat": 4,
 "nbformat_minor": 5
}
