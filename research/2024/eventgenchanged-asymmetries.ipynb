{
 "cells": [
  {
   "cell_type": "code",
   "execution_count": 1,
   "metadata": {},
   "outputs": [
    {
     "name": "stderr",
     "output_type": "stream",
     "text": [
      "/home/rhythm/anaconda3/lib/python3.7/site-packages/pandas/compat/_optional.py:138: UserWarning: Pandas requires version '2.7.0' or newer of 'numexpr' (version '2.6.9' currently installed).\n",
      "  warnings.warn(msg, UserWarning)\n"
     ]
    }
   ],
   "source": [
    "import numpy as np\n",
    "import pandas as pd\n",
    "import seaborn as sns\n",
    "import matplotlib.pyplot as plt\n",
    "import uproot\n",
    "from scipy.optimize import curve_fit\n"
   ]
  },
  {
   "cell_type": "code",
   "execution_count": 2,
   "metadata": {},
   "outputs": [],
   "source": [
    "ucnaP = {\n",
    " #   \"1\": \"/home/rhythm/Research/ml/research/2024/mar/uniformcosThDistributionMar22/ucnaP_asymmetry.root\",#ucnaP-cosTh-5kevbinwidth10kev100Mil.root\",/home/rhythm/Research/ml/research/2024/mar/checking-eventgenchangeddd/ucnaP_asymmetry_eventgenchanged_mar27_largeFiles.root\n",
    "# \"1\": \"/home/rhythm/Research/ml/research/2024/mar/checking-eventgenchangeddd/ucnaP_asymmetry_eventGenChanged_90Million.root\",#ucnaP-cosTh-5kevbinwidth10kev100Mil.root\",\n",
    " \"1\" :  \"/home/rhythm/Research/ml/research/2024/mar/checking-eventgenchangeddd/ucnaP_asymmetry_eventGenChanged_80Million_includingAllType.root\", # 1keV\n",
    "\n",
    "}"
   ]
  },
  {
   "cell_type": "code",
   "execution_count": null,
   "metadata": {},
   "outputs": [],
   "source": [
    "ucnaP_5 = {\"1\" :  \"/home/rhythm/Research/ml/research/2024/mar/checking-eventgenchangeddd/ucnaP_asymmetry_eventGenChanged_80Million_includingAllType_binwidth5kev.root\"\n",
    "}"
   ]
  },
  {
   "cell_type": "code",
   "execution_count": null,
   "metadata": {},
   "outputs": [],
   "source": [
    "#converting them to df\n",
    "ucna_p_1 = uproot.open(ucnaP[\"1\"])\n",
    "\n",
    "ucna_p_1.keys()"
   ]
  },
  {
   "cell_type": "code",
   "execution_count": null,
   "metadata": {},
   "outputs": [],
   "source": [
    "keys_direct = ['KE;1', 'eTrue1;1', 'eTrue2;1', 'direct01;1','direct11;1','direct02;1','direct12;1','misEdepType01;1','misEdepType11;1','misEdepType02;1','misEdepType12;1',]"
   ]
  },
  {
   "cell_type": "code",
   "execution_count": null,
   "metadata": {},
   "outputs": [],
   "source": [
    "keys_wBS = ['KE;1','eTrue1;1', 'eTrue2;1', 'EdepType01;1', 'EdepType11;1', 'EdepType02;1', 'EdepType12;1',]"
   ]
  },
  {
   "cell_type": "code",
   "execution_count": null,
   "metadata": {},
   "outputs": [],
   "source": [
    "keys_angle = ['pzE;1','pzKE0;1','pz01;1','pz02;1','pz11;1','pz12;1' ]"
   ]
  },
  {
   "cell_type": "code",
   "execution_count": null,
   "metadata": {},
   "outputs": [],
   "source": [
    "\n",
    "eLower = [50,100, 120,150,180,220,260,300]\n",
    "eUpper = 660\n",
    "nTot = {}\n",
    "for key, value in ucnaP_5.items():\n",
    "    root_file = uproot.open(value)\n",
    "\n",
    "    histogram = root_file['KE;1']\n",
    "    nTot[key]=[]\n",
    "    for energy in eLower:\n",
    "        # Define the range of bins you're interested in\n",
    "        lower_value = energy  # Replace with your lower bound\n",
    "        upper_value = eUpper  # Replace with your upper bound\n",
    "\n",
    "        # Get the bin edges and contents\n",
    "        bin_edges = histogram.axis().edges()\n",
    "        bin_contents = histogram.values()\n",
    "\n",
    "        # Find the indices corresponding to the bin edges\n",
    "        bin_start = (bin_edges >= lower_value).nonzero()[0][0]\n",
    "        bin_end = (bin_edges <= upper_value).nonzero()[0][-1]\n",
    "\n",
    "        # Calculate the total content within the specified range\n",
    "        total_content = sum(bin_contents[bin_start:bin_end])\n",
    "\n",
    "        nTot[key].append(total_content)"
   ]
  },
  {
   "cell_type": "code",
   "execution_count": null,
   "metadata": {},
   "outputs": [],
   "source": [
    "nTot"
   ]
  },
  {
   "cell_type": "code",
   "execution_count": null,
   "metadata": {},
   "outputs": [],
   "source": [
    "nTot =  [75596079.0,69727704.0,66948469.0,62449449.0,57650920.0,50962551.0,44139667.0,37381211.0]"
   ]
  },
  {
   "cell_type": "code",
   "execution_count": null,
   "metadata": {},
   "outputs": [],
   "source": [
    "ucnaP_df = {}\n",
    "for file_num, file_path in ucnaP_5.items():\n",
    "    # Open the ROOT file using uproot\n",
    "    print(f'file_num : {file_num}')\n",
    "    with uproot.open(file_path) as file:\n",
    "        # Access the TTree within the file (replace \"tree_name\" with the actual tree name)\n",
    "     #   tree = file[\"tree_name\"]\n",
    "\n",
    "        # Initialize dictionaries to store results\n",
    "        content_dict = {}\n",
    "        edge_dict = {}\n",
    "\n",
    "        # Loop through the list of keys\n",
    "        for key in keys_direct:\n",
    "            # Access the specific branch using the key\n",
    "            branch = file[key]\n",
    "            \n",
    "\n",
    "            # Extract values and edges\n",
    "            nVal = branch.values()\n",
    "            nEdge = branch.axis().edges()[:-1]\n",
    "\n",
    "            # Store results in dictionaries\n",
    "            content_dict[key] = nVal\n",
    "            edge_dict[key] = nEdge\n",
    "\n",
    "        # Create DataFrames from the dictionaries\n",
    "        values_df = pd.DataFrame(content_dict)\n",
    "        edge_df = pd.DataFrame(edge_dict)\n",
    "\n",
    "        # Take one column from edge_df and rename it\n",
    "        select_edge_col = edge_df['KE;1'].rename('Evals')\n",
    "\n",
    "        # Concatenate values_df and select_edge_col\n",
    "        ucnaP_df[file_num] = pd.concat([values_df, select_edge_col], axis=1)\n",
    "\n",
    "        # Delete temporary DataFrames to free up memory\n",
    "        del values_df, edge_df, select_edge_col\n"
   ]
  },
  {
   "cell_type": "code",
   "execution_count": null,
   "metadata": {},
   "outputs": [],
   "source": [
    "ucnaP_df[\"1\"]"
   ]
  },
  {
   "cell_type": "code",
   "execution_count": null,
   "metadata": {},
   "outputs": [],
   "source": [
    "ucnaPAngleInfo_df = {}\n",
    "for file_num, file_path in ucnaP.items():\n",
    "    # Open the ROOT file using uproot\n",
    "    print(f'file_num : {file_num}')\n",
    "    with uproot.open(file_path) as file:\n",
    "        # Access the TTree within the file (replace \"tree_name\" with the actual tree name)\n",
    "     #   tree = file[\"tree_name\"]\n",
    "\n",
    "        # Initialize dictionaries to store results\n",
    "        content_dict = {}\n",
    "        edge_dict = {}\n",
    "\n",
    "        # Loop through the list of keys\n",
    "        for key in keys_angle:\n",
    "            # Access the specific branch using the key\n",
    "            branch = file[key]\n",
    "\n",
    "            # Extract values and edges\n",
    "            nVal = branch.values()\n",
    "            nEdge = branch.axis().edges()[:-1]\n",
    "\n",
    "            # Store results in dictionaries\n",
    "            content_dict[key] = nVal\n",
    "            edge_dict[key] = nEdge\n",
    "\n",
    "        # Create DataFrames from the dictionaries\n",
    "        values_df = pd.DataFrame(content_dict)\n",
    "        edge_df = pd.DataFrame(edge_dict)\n",
    "\n",
    "        # Take one column from edge_df and rename it\n",
    "        select_edge_col = edge_df['pz01;1'].rename('cosTh')\n",
    "\n",
    "        # Concatenate values_df and select_edge_col\n",
    "        ucnaPAngleInfo_df[file_num] = pd.concat([values_df, select_edge_col], axis=1)\n",
    "\n",
    "        # Delete temporary DataFrames to free up memory\n",
    "        del values_df, edge_df, select_edge_col\n"
   ]
  },
  {
   "cell_type": "code",
   "execution_count": null,
   "metadata": {},
   "outputs": [],
   "source": [
    "plt.figure(figsize=(10,8))\n",
    "#plt.step(ucnaPAngleInfo_df[\"1\"][\"cosTh\"], ucnaPAngleInfo_df[\"1\"][\"pz01;1\"]/nEvents,c  = 'red',label = 'UCNA+ hits det1')\n",
    "#plt.step(ucnaPAngleInfo_df[\"1\"][\"cosTh\"], ucnaPAngleInfo_df[\"1\"][\"pz02;1\"]/nEvents,c  = 'orange',label = 'UCNA+ hits det2')\n",
    "plt.step(ucnaPAngleInfo_df[\"1\"][\"cosTh\"], ucnaPAngleInfo_df[\"1\"][\"pz01;1\"]/nEvents, c='blue', label = 'UCNA+ forward')\n",
    "plt.step(ucnaPAngleInfo_df[\"1\"][\"cosTh\"], ucnaPAngleInfo_df[\"1\"][\"pz02;1\"]/nEvents, c='green', label = 'UCNA+ backwar')\n",
    "#plt.step(ucnaPAngleInfo_df[\"1\"][\"cosTh\"], ucnaPAngleInfo_df[\"1\"][\"pzE;1\"]/nEvents,c  = 'red',label = 'cos theta distribution')\n",
    "\n",
    "#plt.yscale('log')\n",
    "plt.yticks(fontsize = 16)\n",
    "plt.ylim(0.0, 0.0055)\n",
    "plt.yticks(fontsize = 16)\n",
    "plt.xticks(fontsize = 16)\n",
    "plt.grid(linestyle = '--')\n",
    "plt.legend()\n",
    "plt.xlabel(r'$cos \\theta$', fontsize = 14)\n",
    "plt.ylabel('Normalised Count', fontsize = 14)\n",
    "plt.title(r\"$cos \\theta$ ditribution \", fontsize = 16)\n",
    "plt.savefig(f'./mar/checking-eventgenchangeddd/cosTh.png')"
   ]
  },
  {
   "cell_type": "code",
   "execution_count": null,
   "metadata": {},
   "outputs": [],
   "source": [
    "def beta (KE): # beta = p_E / Ee = np.sqrt((KE)^2 + 2*m_e*KE) / (m_e + KE)\n",
    "    m_e = 511; \n",
    "    beta = np.sqrt((KE*KE) + (2*m_e*KE)) / (m_e + KE)\n",
    "    return beta"
   ]
  },
  {
   "cell_type": "code",
   "execution_count": null,
   "metadata": {},
   "outputs": [],
   "source": [
    "def asymm_meas(df, col1, col2, col,errCol):\n",
    "    df[col] = (df[col1] - df[col2])/(df[col1] + df[col2])\n",
    "    df[errCol] = df[col]*np.sqrt((1/df[col1]) + (1/df[col2])) \n",
    "    \n",
    "    return df"
   ]
  },
  {
   "cell_type": "code",
   "execution_count": null,
   "metadata": {},
   "outputs": [],
   "source": [
    "def asymm_meas_withBetaCorr(df, col1, col2, col,errCol):\n",
    "    df['EMid'] = (df['Evals'] + df['Evals'].shift(-1)) / 2\n",
    "   # Set the first index of the new column to 0\n",
    "    df['EMidNew'] = df['EMid'].shift(1)\n",
    "    df.at[df.index[0], 'EMidNew'] = 0\n",
    "     \n",
    "    df['beta'] = beta(df['EMidNew'])\n",
    "    \n",
    "    df[col] = (df[col1] - df[col2])/(((df[col1] + df[col2])*(df['beta']/2)))\n",
    "    df[errCol] = df[col]*np.sqrt((1/df[col1]) + (1/df[col2])) \n",
    "    \n",
    "    return df"
   ]
  },
  {
   "cell_type": "code",
   "execution_count": null,
   "metadata": {},
   "outputs": [],
   "source": [
    "#cols =  ['KE;1', 'eTrue1;1', 'eTrue2;1', 'direct01;1','direct11;1','direct02;1','direct12;1','direct01Thr;1','direct11Thr;1','direct02Thr;1','direct12Thr;1',]\n",
    "\n",
    "for key in ucnaP_df.keys():\n",
    "   ucnap_item = asymm_meas(df = ucnaP_df[key], col1='eTrue1;1'       , col2 = 'eTrue2;1'     , col = 'a_true', errCol='erra_true')\n",
    "   ucnap_item = asymm_meas(df = ucnaP_df[key], col1='EdepType01;1'   , col2 = 'EdepType02;1' , col = 'a_type0', errCol='erra_type0')\n",
    "   ucnap_item = asymm_meas(df = ucnaP_df[key], col1='EdepType11;1'   , col2 = 'EdepType12;1' , col = 'a_type1', errCol='erra_type1')\n"
   ]
  },
  {
   "cell_type": "code",
   "execution_count": null,
   "metadata": {},
   "outputs": [],
   "source": [
    "#cols =  ['KE;1', 'eTrue1;1', 'eTrue2;1', 'direct01;1','direct11;1','direct02;1','direct12;1','direct01Thr;1','direct11Thr;1','direct02Thr;1','direct12Thr;1',]\n",
    "#keys_direct = ['KE;1', 'eTrue1;1', 'eTrue2;1', 'direct01;1','direct11;1','direct02;1','direct12;1','misEdepType01;1','misEdepType11;1','misEdepType02;1','misEdepType12;1',]\n",
    "\n",
    "for key in ucnaP_df.keys():\n",
    "   ucnap_item = asymm_meas_withBetaCorr(df = ucnaP_df[key], col1='eTrue1;1'     , col2 = 'eTrue2;1'     , col = 'a_true_beta',       errCol='erra_true_beta')\n",
    "   ucnap_item = asymm_meas_withBetaCorr(df = ucnaP_df[key], col1='direct01;1'   , col2 = 'direct02;1'   , col = 'a_type0_beta',      errCol='erra_type0_beta')\n",
    "   ucnap_item = asymm_meas_withBetaCorr(df = ucnaP_df[key], col1='direct11;1'   , col2 = 'direct12;1'   , col = 'a_type1_beta',      errCol='erra_type1_beta')\n",
    "   ucnap_item = asymm_meas_withBetaCorr(df = ucnaP_df[key], col1='misEdepType01;1', col2 = 'misEdepType02;1',col = 'a_type0mis_beta',errCol='erra_type0mis_beta')\n",
    "   ucnap_item = asymm_meas_withBetaCorr(df = ucnaP_df[key], col1='misEdepType11;1', col2 = 'misEdepType12;1',col = 'a_type1mis_beta',errCol='erra_type1mis_beta') \n"
   ]
  },
  {
   "cell_type": "code",
   "execution_count": null,
   "metadata": {},
   "outputs": [],
   "source": [
    "#nEvents = 80000000\n",
    "nEvents = 80000000\n",
    "for key in ucnaP_df.keys():\n",
    "    ucnap_item = ucnaP_df[key]\n",
    "   # ucna_item = ucna_df[key]\n",
    "\n",
    "    plt.figure(figsize=(12, 10))\n",
    "\n",
    "    # Assuming \"Evals\" is a column in your DataFrame\n",
    "   # plt.step(x=ucna_item[\"Evals\"], y=ucna_item[\"EdepType0;1\"] / NTot, c='blue'  ,alpha = 0.8, label='UCNA')\n",
    "    plt.step(x=ucnap_item[\"Evals\"], y=ucnap_item[\"KE;1\"] / nEvents, c='red',alpha = 0.8, label='KE')\n",
    "    #plt.step(x=ucnap_item[\"Evals\"], y=ucnap_item[\"eTrue1;1\"] / nEvents, c='blue',alpha = 0.8, label='KE cos(theta) > 0 ')\n",
    "    #plt.step(x=ucnap_item[\"Evals\"], y=ucnap_item[\"eTrue2;1\"] / nEvents, c='green',alpha = 0.8, label='KE cos(theta) < 0')\n",
    "#\n",
    "    #plt.step(x=ucnap_item[\"Evals\"], y=ucnap_item[\"direct01Thr;1\"] / nEvents, c='purple',alpha = 0.8, label='Type 0 detector 1 cos(theta) > 0')\n",
    "    #plt.step(x=ucnap_item[\"Evals\"], y=ucnap_item[\"direct02Thr;1\"] / nEvents, c='lime',alpha = 0.8, label='Type 0 detector 2  cos(theta) < 0')\n",
    "    plt.step(x=ucnap_item[\"Evals\"], y=ucnap_item[\"EdepType01;1\"] / nEvents, c='purple',alpha = 0.8, label='Type 0 detector 1')\n",
    "    plt.step(x=ucnap_item[\"Evals\"], y=ucnap_item[\"EdepType02;1\"] / nEvents, c='lime',alpha = 0.8, label='Type 0 detector 2 ')\n",
    "\n",
    "\n",
    "    plt.xlabel(\"Energy (keV)\", fontsize=16)\n",
    "    plt.ylabel(\"Normalized Count\", fontsize=16)\n",
    "    plt.title(f\"spectra for true and reconstructed events\", fontsize=16)\n",
    "    plt.ylim(0.0, 0.0020)\n",
    "    plt.yticks(np.arange(0, 0.0020, 0.0001), fontsize=16)\n",
    "    plt.xlim(0, 820)\n",
    "    plt.xticks(np.arange(0, 820, 50), fontsize=16)\n",
    "    plt.grid(linestyle='--')\n",
    "\n",
    "    # Add a legend if needed\n",
    "    plt.legend()\n",
    "  #  plt.savefig(f'./mar/checking-eventgenchangeddd/spectra1kevbinwidth{str(key)}.png')\n",
    "  "
   ]
  },
  {
   "cell_type": "code",
   "execution_count": null,
   "metadata": {},
   "outputs": [],
   "source": [
    "a0 = []\n",
    "erra0 = []\n",
    "\n",
    "a1 = []\n",
    "erra1 = []\n",
    "\n",
    "a_type0mis = []\n",
    "a_type1mis = []\n",
    "\n",
    "erra_type0mis = []\n",
    "erra_type1mis = []"
   ]
  },
  {
   "cell_type": "code",
   "execution_count": null,
   "metadata": {},
   "outputs": [],
   "source": [
    "\n",
    "def linear_function(x, m, b):\n",
    "    return m * x + b\n"
   ]
  },
  {
   "cell_type": "code",
   "execution_count": null,
   "metadata": {},
   "outputs": [],
   "source": [
    "atrue = []\n",
    "erratrue = []\n"
   ]
  },
  {
   "cell_type": "code",
   "execution_count": null,
   "metadata": {},
   "outputs": [],
   "source": [
    "# Define your linear function\n",
    "def linear_function(x, m, b):\n",
    "    return m * x + b\n",
    "\n",
    "# Define your data types\n",
    "data_types = ['a_true_beta', 'a_type0_beta', 'a_type1_beta', 'a_type0mis_beta','a_type1mis_beta']\n",
    "\n",
    "# Define your data types\n",
    "data_colors = ['skyblue', 'salmon', 'limegreen', 'chocolate', 'yellowgreen']  # Define colors for each data type\n",
    "plot_colors = ['blue', 'red', 'green', 'brown', 'green']  # Define colors for each data type\n",
    "\n",
    "data_ylims = [-0.2,-0.2,-0.5,-0.75,-0.75]#, 0.5, -0.1, -0.05]  # Define y-limits for each data type\n",
    "\n",
    "# Your list of energies\n",
    "E_list = [50,100, 120, 150, 180, 220, 260, 300]\n",
    "\n",
    "# Dictionary to store fitted parameters for each data type\n",
    "parameters_dict = {data_type: {'a_values': [], 'm_values': []} for data_type in data_types}\n",
    "\n",
    "# Iterate over each data type\n",
    "for data_index, data_type in enumerate(data_types):\n",
    "    # Iterate over each key in ucnaP_df\n",
    "    for key in ucnaP_df.keys():\n",
    "        # Temporary lists to store fitted parameters for the current key and data type\n",
    "        a_values = []\n",
    "        m_values = []\n",
    "        # Iterate over each energy in E_list\n",
    "        for Ewin in E_list:  \n",
    "            fitting_range = (Ewin, 660)  # Example: fit between x=2 and x=4\n",
    "            x_data = ucnaP_df[key]['EMidNew']\n",
    "            y_data = ucnaP_df[key][data_type]  # Use the current data type\n",
    "    \n",
    "            # Filter the data\n",
    "            mask = (x_data >= fitting_range[0]) & (x_data <= fitting_range[1]) & (~np.isnan(y_data))\n",
    "            x_data_filtered = x_data[mask]\n",
    "            y_data_filtered = y_data[mask]\n",
    "    \n",
    "            # Perform curve fitting\n",
    "            params, covariance = curve_fit(linear_function, x_data_filtered, y_data_filtered)\n",
    "            fitted_m = params[0]\n",
    "            fitted_b = params[1]\n",
    "            \n",
    "            # Append fitted parameters to temporary lists\n",
    "            a_values.append(fitted_b)\n",
    "            m_values.append(fitted_m)\n",
    "    \n",
    "            # Plotting\n",
    "            plt.figure(figsize=(12, 10))\n",
    "            plt.errorbar(x_data, y_data, alpha=0.8, yerr=ucnaP_df[key]['err'+data_type], color=data_colors[data_index], fmt='o', label=f'{data_type} events')\n",
    "            plt.plot(x_data_filtered, linear_function(x_data_filtered, *params), label='UCNA+ - fit', color=plot_colors[data_index], zorder=10)\n",
    "            plt.xlabel(\"Energy (keV)\", fontsize=16)\n",
    "            plt.ylabel(r\"$A_1 = \\frac{\\frac{\\Gamma_1 - \\Gamma_2}{\\Gamma_1 + \\Gamma_2}}{\\frac{\\beta}{2}}$\", fontsize=16)\n",
    "            plt.ylim(data_ylims[data_index], 0.0)  # Use different ylim for each data type\n",
    "            plt.yticks(fontsize=16)\n",
    "            plt.xlim(0, 800)\n",
    "            plt.xticks(np.arange(0, 800, 25), fontsize=14, rotation=45)\n",
    "            plt.grid(linestyle='--')\n",
    "            plt.legend(fontsize=16)\n",
    "            plt.title(f\"Asymmetry {data_type} E_thr > 10 [{Ewin}, 660] keV\", fontsize=16)\n",
    "            plt.text(0.5, 0.95, f\"Fitted A: {fitted_b:.4f}, Fitted m: {fitted_m:.6f}\", transform=plt.gca().transAxes, bbox=dict(facecolor='white', alpha=0.5), fontsize=16)\n",
    "            plt.savefig(f'./mar/checking-eventgenchangeddd/FiveKEVameas_{data_type}_noBS{str(Ewin)}660.png')\n",
    "            plt.close()  # Close the plot to avoid displaying it\n",
    "        \n",
    "        # Append the temporary lists of fitted parameters to the dictionary\n",
    "        parameters_dict[data_type]['a_values'].append(a_values)\n",
    "        parameters_dict[data_type]['m_values'].append(m_values)\n",
    "\n",
    "# Now parameters_dict contains fitted b and m values for each data type separately\n"
   ]
  },
  {
   "cell_type": "code",
   "execution_count": null,
   "metadata": {},
   "outputs": [],
   "source": [
    "a_type0_beta_params = parameters_dict['a_type0_beta']['a_values']\n",
    "#a_values = a_type0_beta_params['a_values']\n",
    "print(a_type0_beta_params[0])"
   ]
  },
  {
   "cell_type": "code",
   "execution_count": null,
   "metadata": {},
   "outputs": [],
   "source": [
    "def aTot(df, NTot, a0,a1, a_true,a0_misid,a1_misid, Ewin):\n",
    "   # parameters_dict[]['a_values']\n",
    "    df = df[(df[\"Evals\"] > Ewin )& (df[\"Evals\"] < 660)]\n",
    "    print(f'{Ewin}')\n",
    "    \n",
    "    n0 = df[\"direct01;1\"].sum()+df[\"direct02;1\"].sum()\n",
    "    n1 = df[\"direct11;1\"].sum()+df[\"direct12;1\"].sum()\n",
    "   \n",
    "    n0_misid = df[\"misEdepType01;1\"].sum() + df[\"misEdepType02;1\"].sum()\n",
    "    n1_misid = df[\"misEdepType11;1\"].sum() + df[\"misEdepType12;1\"].sum()    \n",
    "    \n",
    "    print(f'r0-misid : {n0_misid/NTot}, r1-misid : {n1_misid/NTot}')\n",
    "    a_misid = (n0_misid/NTot)*a0_misid + (n1_misid/NTot)*a1_misid\n",
    "    a_typei = (n0/NTot)*a0  +(n1/NTot)*a1  #includes misbackscattred\n",
    "\n",
    "    a_analysis = a_typei - a_misid\n",
    "    print(f'r_0 : {n0/NTot}, r1 : {n1/NTot}')\n",
    "    \n",
    "    delta = (a_true - a_analysis) /(a_true)\n",
    "    \n",
    "    return n0,n1,a_analysis, delta "
   ]
  },
  {
   "cell_type": "code",
   "execution_count": null,
   "metadata": {},
   "outputs": [],
   "source": []
  },
  {
   "cell_type": "code",
   "execution_count": null,
   "metadata": {},
   "outputs": [],
   "source": [
    "E_list = [50,100, 120,150,180,220,260,300]\n",
    "\n",
    "nWindow = len(E_list)\n",
    "N0 = {}\n",
    "N1 = {}\n",
    "aType0and1 = {}\n",
    "correction= {}\n",
    "for i, key in enumerate(ucnaP_df.keys()):\n",
    "    N0[key] = []\n",
    "    N1[key] = []\n",
    "    aType0and1[key] = [] \n",
    "    correction[key] = [] \n",
    "    x0 = parameters_dict['a_type0_beta']['a_values'][0]\n",
    "    x1 = parameters_dict['a_type1_beta']['a_values'][0]\n",
    "    xTrue = parameters_dict['a_true_beta']['a_values'][0]\n",
    "    print(f\"======= {key}0 keV cutoff =======\")\n",
    "    for j in np.arange(len(E_list)):\n",
    "        print(x0[j])\n",
    "        print(f'{j} analysis window ')\n",
    "        print(f'element number {nWindow*i + j}')\n",
    "        n0,n1,a_analysis, delta  = aTot(ucnaP_df[key], NTot = nTot[j], a0 = x0[j], a1= x1[j],a_true= x0[j],a0_misid = parameters_dict['a_type0mis_beta']['a_values'][0][j],a1_misid = parameters_dict['a_type1mis_beta']['a_values'][0][j], Ewin= E_list[j])\n",
    "        N0[key].append(n0)\n",
    "        N1[key].append(n1)\n",
    "        aType0and1[key].append(a_analysis)  \n",
    "        correction[key].append(delta) \n",
    "      \n",
    "     #   print(f'aCorrEvs : {a_corrEvts}, aMisid :{aMisid}, A_mc : {aMC}, correction : {delta}')\n",
    "        print('------------------------------------------')\n",
    "        \n"
   ]
  },
  {
   "cell_type": "code",
   "execution_count": null,
   "metadata": {},
   "outputs": [],
   "source": [
    "correction[\"1\"]"
   ]
  },
  {
   "cell_type": "code",
   "execution_count": null,
   "metadata": {},
   "outputs": [],
   "source": [
    "plt.figure(figsize=(12, 10))\n",
    "\n",
    "plt.scatter(x= E_list, y = correction[\"1\"],color='blue',label = '10 keV')\n",
    "plt.grid(linestyle = '--')\n",
    "plt.legend(fontsize = 14)\n",
    "plt.xticks(np.arange(25,350,25),fontsize = 16)\n",
    "plt.yticks(fontsize = 16)\n",
    "plt.ylabel(f\"Correction\", fontsize=16)\n",
    "plt.xlabel('E window', fontsize = 16)\n",
    "plt.title(f'Correction ALL w/ threshold , analysis window', fontsize = 14)\n",
    "plt.savefig(f'./mar/checking-eventgenchangeddd/FiveKeVcorrectionsAllincludesBSsumbtraction.png')\n"
   ]
  },
  {
   "cell_type": "code",
   "execution_count": null,
   "metadata": {},
   "outputs": [],
   "source": [
    "plt.figure(figsize=(12, 10))\n",
    "\n",
    "plt.scatter(x= E_list, y = aType0and1[\"1\"],marker = 's', facecolors='none', edgecolors='blue',label = 'A_MC')\n",
    "plt.scatter(x= E_list, y = xTrue,marker = '^', facecolors='none', edgecolors='red',label = r'$\\frac{Athrown}{\\frac{\\beta}{2}}$')\n",
    "\n",
    "plt.grid(linestyle = '--')\n",
    "plt.legend(fontsize = 14)\n",
    "plt.xticks(fontsize = 16)\n",
    "plt.yticks(fontsize = 16)\n",
    "\n",
    "plt.ylabel(r\"$\\frac{A_{meas}}{\\frac{\\beta}{2}}$\", fontsize=16)\n",
    "plt.xlabel('E window', fontsize = 16)\n",
    "plt.title(f'Asymmeter w/ threshold  , analysis window to 660 keV', fontsize = 14)\n",
    "plt.savefig(f'./mar/checking-eventgenchangeddd/FiveKeVasymmetriesAll.png')\n"
   ]
  },
  {
   "cell_type": "code",
   "execution_count": null,
   "metadata": {},
   "outputs": [],
   "source": [
    "plt.figure(figsize=(12, 10))\n",
    "\n",
    "plt.scatter(x= E_list, y = xTrue,marker = '^', color='red',label = r'$\\frac{Athrown}{\\frac{\\beta}{2}}$')\n",
    "plt.scatter(x= E_list, y = x0,marker = 's', color='blue',label = 'Type 0 only')\n",
    "plt.scatter(x= E_list, y = x1,marker = 'v', color='green',label = 'Type 1 only')\n",
    "plt.scatter(x= E_list, y = parameters_dict['a_type0mis_beta']['a_values'][0],marker = 'o',color='orange',label = 'Misid type 0')\n",
    "\n",
    "plt.grid(linestyle = '--')\n",
    "plt.legend(fontsize = 14)\n",
    "plt.xticks(np.arange(25,350,25),fontsize = 16)\n",
    "plt.yticks(fontsize = 16)\n",
    "\n",
    "plt.ylabel(r\"$\\frac{A_{meas}}{\\frac{\\beta}{2}}$\", fontsize=16)\n",
    "plt.xlabel('E window', fontsize = 16)\n",
    "plt.title(f'Asymmeter w/ threshold  , analysis window to 660 keV', fontsize = 14)\n",
    "plt.savefig(f'./mar/checking-eventgenchangeddd/FiveKeVasymmetries_individual.png')\n"
   ]
  },
  {
   "cell_type": "code",
   "execution_count": null,
   "metadata": {},
   "outputs": [],
   "source": [
    "plt.figure(figsize=(12, 10))\n",
    "\n",
    "plt.errorbar(x= E_list, y = atrue,yerr = erratrue,fmt= 'o',  color='blue',label = 'A_true')\n",
    "plt.errorbar(x= E_list, y = a0   ,yerr = erra0   ,fmt= 'o',  color='red', label = 'A_type 0')\n",
    "plt.errorbar(x= E_list, y = a1   ,yerr = erra1   ,fmt= 'o',  color='green',label = 'A_type 1')\n",
    "\n",
    "#plt.ylim(-0.14,-0.04)\n",
    "#plt.yticks(np.arange(-0.14,-0.10,0.002))\n",
    "plt.grid(linestyle = '--')\n",
    "plt.legend(fontsize = 14)\n",
    "plt.xticks(fontsize = 16)\n",
    "plt.yticks(fontsize = 16)\n",
    "plt.ylabel(r\"$A_{meas} = \\frac{\\Gamma_1 - \\Gamma_2}{\\Gamma_1 + \\Gamma_2}$\", fontsize=16)\n",
    "plt.xlabel('E window', fontsize = 16)\n",
    "plt.title(f'Asymmetry including scattering for 10 keV threshold across different window till 660 keV', fontsize = 14)\n",
    "plt.savefig(f'./mar/checking-eventgenchangeddd/asymmetry_meas_fit.png')\n"
   ]
  },
  {
   "cell_type": "code",
   "execution_count": null,
   "metadata": {},
   "outputs": [],
   "source": [
    "plt.figure(figsize=(12, 10))\n",
    "\n",
    "plt.scatter(x= E_list, y = correction[\"1\"],marker = 's', facecolors='none', edgecolors='blue',label = '10 keV')\n",
    "plt.grid(linestyle = '--')\n",
    "plt.legend(fontsize = 14)\n",
    "plt.xticks(fontsize = 16)\n",
    "plt.yticks(fontsize = 16)\n",
    "plt.ylabel(f\"Correction\", fontsize=16)\n",
    "plt.xlabel('E windoq', fontsize = 16)\n",
    "plt.title(f'Correction ALL w/ threshold , analysis window', fontsize = 14)\n",
    "#plt.savefig(f'./mar/uniformcosThDistributionMar22/plots/changedBetacorrectionsAllEthtype0includesBS.png')\n"
   ]
  },
  {
   "attachments": {},
   "cell_type": "markdown",
   "metadata": {},
   "source": [
    "There are two ways to get the correction $\\Delta_i$\n",
    "\n",
    "$\n",
    "\\begin{equation}\n",
    "    \\Delta_i = \\frac{(m * x_i + A_i) - A_{meas, i}}{(m * x_i + A_i)} where A_{meas, i} = \\frac{\\Gamma_1 - \\Gamma_2}{\\Gamma_1 + \\Gamma_2}   \n",
    "    for ith bin\n",
    "\\end{equation}  $\n",
    "and then fit for $\\Delta_i$\n",
    "\n",
    "or just use the intercepts i.e $A$"
   ]
  },
  {
   "cell_type": "code",
   "execution_count": null,
   "metadata": {},
   "outputs": [],
   "source": [
    "analysingwindow =(180,660)\n",
    "A_thrown = a_true0_beta_fit * weight_180 # weight_180_i = weight of events in window [180, 660] for \"i\" type of event\n",
    "A_mc = (weight_180_type0 * a_type0_fit) + (weight_180_type1 * atype1_fit)\n",
    "correction = (A_thrown - A_mc)/A_thrown\n"
   ]
  }
 ],
 "metadata": {
  "kernelspec": {
   "display_name": "base",
   "language": "python",
   "name": "python3"
  },
  "language_info": {
   "codemirror_mode": {
    "name": "ipython",
    "version": 3
   },
   "file_extension": ".py",
   "mimetype": "text/x-python",
   "name": "python",
   "nbconvert_exporter": "python",
   "pygments_lexer": "ipython3",
   "version": "3.7.3"
  },
  "orig_nbformat": 4
 },
 "nbformat": 4,
 "nbformat_minor": 2
}
