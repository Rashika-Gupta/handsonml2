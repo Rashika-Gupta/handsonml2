{
 "cells": [
  {
   "cell_type": "code",
   "execution_count": 1,
   "metadata": {},
   "outputs": [],
   "source": [
    "#importing all the necessary libs\n",
    "import numpy as np\n",
    "import pandas as pd\n",
    "import warnings\n",
    "warnings.filterwarnings\n",
    "import matplotlib.pyplot as plt\n",
    "import seaborn as sns\n",
    "import scipy\n",
    "import os"
   ]
  },
  {
   "cell_type": "code",
   "execution_count": 2,
   "metadata": {},
   "outputs": [],
   "source": [
    "os.chdir('/home/rhythm/Research/PhD/ResearchProgress/22-Fall/Sept/26')"
   ]
  },
  {
   "cell_type": "code",
   "execution_count": 3,
   "metadata": {},
   "outputs": [],
   "source": [
    "columns = [\"Evt_id\", \"KE\", \"E1\",\"E2\",\"costh\",\"t1\",\"t2\"]\n"
   ]
  },
  {
   "cell_type": "code",
   "execution_count": 4,
   "metadata": {},
   "outputs": [],
   "source": [
    "type = {\"Evt_id\" : np.uint32, \"KE\": np.uint32, \"E1\" : np.float32,\"E2\" : np.float32,\"costh\": np.float32,\"t1\": np.float32,\"t2\": np.float32}"
   ]
  },
  {
   "cell_type": "code",
   "execution_count": 5,
   "metadata": {},
   "outputs": [],
   "source": [
    "foil001 = pd.read_csv('./Type0-0Foil-1.txt', sep = \" \", dtype = type,header = None, names = columns)\n",
    "foil002 = pd.read_csv('./Type0-0Foil-2.txt', sep = \" \", dtype = type,header = None, names = columns)\n",
    "foil003 = pd.read_csv('./Type0-0Foil-3.txt', sep = \" \", dtype = type,header = None, names = columns)\n",
    "foil004 = pd.read_csv('./Type0-0Foil-4.txt', sep = \" \", dtype = type,header = None, names = columns)\n"
   ]
  },
  {
   "cell_type": "code",
   "execution_count": 6,
   "metadata": {},
   "outputs": [],
   "source": [
    "foil011 = pd.read_csv('./Type1-0Foil-1.txt', sep = \" \", dtype= type, header = None, names = columns)\n",
    "foil012 = pd.read_csv('./Type1-0Foil-2.txt', sep = \" \", dtype= type, header = None, names = columns)\n",
    "foil013 = pd.read_csv('./Type1-0Foil-3.txt', sep = \" \", dtype= type, header = None, names = columns)\n",
    "foil014 = pd.read_csv('./Type1-0Foil-4.txt', sep = \" \", dtype= type, header = None, names = columns)\n"
   ]
  },
  {
   "cell_type": "code",
   "execution_count": 7,
   "metadata": {},
   "outputs": [],
   "source": [
    "frame0Type0 = [foil001, foil002, foil003, foil004]\n"
   ]
  },
  {
   "cell_type": "code",
   "execution_count": 8,
   "metadata": {},
   "outputs": [],
   "source": [
    "foil0Type0 = pd.concat(frame0Type0, ignore_index= True)"
   ]
  },
  {
   "cell_type": "code",
   "execution_count": 9,
   "metadata": {},
   "outputs": [],
   "source": [
    "frame0Type1 = [foil011, foil012, foil013, foil014]"
   ]
  },
  {
   "cell_type": "code",
   "execution_count": 10,
   "metadata": {},
   "outputs": [],
   "source": [
    "foil0Type1 = pd.concat(frame0Type1, ignore_index=True)"
   ]
  },
  {
   "cell_type": "markdown",
   "metadata": {},
   "source": [
    "lets us just get the detector 1 for foil 0 type 0 and foil type 1 separately"
   ]
  },
  {
   "cell_type": "markdown",
   "metadata": {},
   "source": [
    "type 0 detector 1 onlly"
   ]
  },
  {
   "cell_type": "code",
   "execution_count": 18,
   "metadata": {},
   "outputs": [
    {
     "data": {
      "text/html": [
       "<div>\n",
       "<style scoped>\n",
       "    .dataframe tbody tr th:only-of-type {\n",
       "        vertical-align: middle;\n",
       "    }\n",
       "\n",
       "    .dataframe tbody tr th {\n",
       "        vertical-align: top;\n",
       "    }\n",
       "\n",
       "    .dataframe thead th {\n",
       "        text-align: right;\n",
       "    }\n",
       "</style>\n",
       "<table border=\"1\" class=\"dataframe\">\n",
       "  <thead>\n",
       "    <tr style=\"text-align: right;\">\n",
       "      <th></th>\n",
       "      <th>Evt_id</th>\n",
       "      <th>KE</th>\n",
       "      <th>E1</th>\n",
       "      <th>E2</th>\n",
       "      <th>costh</th>\n",
       "      <th>t1</th>\n",
       "      <th>t2</th>\n",
       "    </tr>\n",
       "  </thead>\n",
       "  <tbody>\n",
       "    <tr>\n",
       "      <th>0</th>\n",
       "      <td>0</td>\n",
       "      <td>364</td>\n",
       "      <td>362.044006</td>\n",
       "      <td>0.000000</td>\n",
       "      <td>0.584861</td>\n",
       "      <td>8.347490e-09</td>\n",
       "      <td>-5.000000e-09</td>\n",
       "    </tr>\n",
       "    <tr>\n",
       "      <th>1</th>\n",
       "      <td>1</td>\n",
       "      <td>388</td>\n",
       "      <td>0.000000</td>\n",
       "      <td>375.489014</td>\n",
       "      <td>-0.711525</td>\n",
       "      <td>-5.000000e-09</td>\n",
       "      <td>1.114040e-08</td>\n",
       "    </tr>\n",
       "    <tr>\n",
       "      <th>2</th>\n",
       "      <td>2</td>\n",
       "      <td>364</td>\n",
       "      <td>0.000000</td>\n",
       "      <td>358.476990</td>\n",
       "      <td>-0.837683</td>\n",
       "      <td>-5.000000e-09</td>\n",
       "      <td>1.688080e-08</td>\n",
       "    </tr>\n",
       "    <tr>\n",
       "      <th>3</th>\n",
       "      <td>3</td>\n",
       "      <td>364</td>\n",
       "      <td>360.477997</td>\n",
       "      <td>0.000000</td>\n",
       "      <td>0.867632</td>\n",
       "      <td>1.251320e-08</td>\n",
       "      <td>-5.000000e-09</td>\n",
       "    </tr>\n",
       "    <tr>\n",
       "      <th>4</th>\n",
       "      <td>4</td>\n",
       "      <td>388</td>\n",
       "      <td>385.933014</td>\n",
       "      <td>0.000000</td>\n",
       "      <td>0.959147</td>\n",
       "      <td>1.470970e-08</td>\n",
       "      <td>-5.000000e-09</td>\n",
       "    </tr>\n",
       "  </tbody>\n",
       "</table>\n",
       "</div>"
      ],
      "text/plain": [
       "   Evt_id   KE          E1          E2     costh            t1            t2\n",
       "0       0  364  362.044006    0.000000  0.584861  8.347490e-09 -5.000000e-09\n",
       "1       1  388    0.000000  375.489014 -0.711525 -5.000000e-09  1.114040e-08\n",
       "2       2  364    0.000000  358.476990 -0.837683 -5.000000e-09  1.688080e-08\n",
       "3       3  364  360.477997    0.000000  0.867632  1.251320e-08 -5.000000e-09\n",
       "4       4  388  385.933014    0.000000  0.959147  1.470970e-08 -5.000000e-09"
      ]
     },
     "execution_count": 18,
     "metadata": {},
     "output_type": "execute_result"
    }
   ],
   "source": [
    "foil0Type0.head()"
   ]
  },
  {
   "cell_type": "code",
   "execution_count": 11,
   "metadata": {},
   "outputs": [],
   "source": [
    "foil0Type0Det1 = foil0Type0[foil0Type0['E2'] == 0.0]"
   ]
  },
  {
   "cell_type": "code",
   "execution_count": 12,
   "metadata": {},
   "outputs": [],
   "source": [
    "foil0Type0Det1 = foil0Type0Det1[foil0Type0Det1['KE'] < 370]"
   ]
  },
  {
   "cell_type": "code",
   "execution_count": 21,
   "metadata": {},
   "outputs": [
    {
     "data": {
      "text/html": [
       "<div>\n",
       "<style scoped>\n",
       "    .dataframe tbody tr th:only-of-type {\n",
       "        vertical-align: middle;\n",
       "    }\n",
       "\n",
       "    .dataframe tbody tr th {\n",
       "        vertical-align: top;\n",
       "    }\n",
       "\n",
       "    .dataframe thead th {\n",
       "        text-align: right;\n",
       "    }\n",
       "</style>\n",
       "<table border=\"1\" class=\"dataframe\">\n",
       "  <thead>\n",
       "    <tr style=\"text-align: right;\">\n",
       "      <th></th>\n",
       "      <th>Evt_id</th>\n",
       "      <th>KE</th>\n",
       "      <th>E1</th>\n",
       "      <th>E2</th>\n",
       "      <th>costh</th>\n",
       "      <th>t1</th>\n",
       "      <th>t2</th>\n",
       "    </tr>\n",
       "  </thead>\n",
       "  <tbody>\n",
       "    <tr>\n",
       "      <th>0</th>\n",
       "      <td>0</td>\n",
       "      <td>364</td>\n",
       "      <td>362.044006</td>\n",
       "      <td>0.0</td>\n",
       "      <td>0.584861</td>\n",
       "      <td>8.347490e-09</td>\n",
       "      <td>-5.000000e-09</td>\n",
       "    </tr>\n",
       "    <tr>\n",
       "      <th>3</th>\n",
       "      <td>3</td>\n",
       "      <td>364</td>\n",
       "      <td>360.477997</td>\n",
       "      <td>0.0</td>\n",
       "      <td>0.867632</td>\n",
       "      <td>1.251320e-08</td>\n",
       "      <td>-5.000000e-09</td>\n",
       "    </tr>\n",
       "    <tr>\n",
       "      <th>6</th>\n",
       "      <td>6</td>\n",
       "      <td>364</td>\n",
       "      <td>361.239014</td>\n",
       "      <td>0.0</td>\n",
       "      <td>0.993441</td>\n",
       "      <td>2.948790e-09</td>\n",
       "      <td>-5.000000e-09</td>\n",
       "    </tr>\n",
       "    <tr>\n",
       "      <th>12</th>\n",
       "      <td>12</td>\n",
       "      <td>364</td>\n",
       "      <td>361.799988</td>\n",
       "      <td>0.0</td>\n",
       "      <td>0.986554</td>\n",
       "      <td>1.002340e-08</td>\n",
       "      <td>-5.000000e-09</td>\n",
       "    </tr>\n",
       "    <tr>\n",
       "      <th>13</th>\n",
       "      <td>13</td>\n",
       "      <td>364</td>\n",
       "      <td>361.023987</td>\n",
       "      <td>0.0</td>\n",
       "      <td>0.917017</td>\n",
       "      <td>1.149230e-08</td>\n",
       "      <td>-5.000000e-09</td>\n",
       "    </tr>\n",
       "  </tbody>\n",
       "</table>\n",
       "</div>"
      ],
      "text/plain": [
       "    Evt_id   KE          E1   E2     costh            t1            t2\n",
       "0        0  364  362.044006  0.0  0.584861  8.347490e-09 -5.000000e-09\n",
       "3        3  364  360.477997  0.0  0.867632  1.251320e-08 -5.000000e-09\n",
       "6        6  364  361.239014  0.0  0.993441  2.948790e-09 -5.000000e-09\n",
       "12      12  364  361.799988  0.0  0.986554  1.002340e-08 -5.000000e-09\n",
       "13      13  364  361.023987  0.0  0.917017  1.149230e-08 -5.000000e-09"
      ]
     },
     "execution_count": 21,
     "metadata": {},
     "output_type": "execute_result"
    }
   ],
   "source": [
    "foil0Type0Det1.head()"
   ]
  },
  {
   "cell_type": "markdown",
   "metadata": {},
   "source": [
    "type 1 detector 1 only "
   ]
  },
  {
   "cell_type": "code",
   "execution_count": 13,
   "metadata": {},
   "outputs": [],
   "source": [
    "foil0Type1 = foil0Type1[foil0Type1['KE'] < 370]"
   ]
  },
  {
   "cell_type": "code",
   "execution_count": 14,
   "metadata": {},
   "outputs": [],
   "source": [
    "foil0Type1Det1 = foil0Type1[foil0Type1['t1'] < foil0Type1['t2']]"
   ]
  },
  {
   "cell_type": "code",
   "execution_count": 19,
   "metadata": {},
   "outputs": [
    {
     "data": {
      "text/html": [
       "<div>\n",
       "<style scoped>\n",
       "    .dataframe tbody tr th:only-of-type {\n",
       "        vertical-align: middle;\n",
       "    }\n",
       "\n",
       "    .dataframe tbody tr th {\n",
       "        vertical-align: top;\n",
       "    }\n",
       "\n",
       "    .dataframe thead th {\n",
       "        text-align: right;\n",
       "    }\n",
       "</style>\n",
       "<table border=\"1\" class=\"dataframe\">\n",
       "  <thead>\n",
       "    <tr style=\"text-align: right;\">\n",
       "      <th></th>\n",
       "      <th>Evt_id</th>\n",
       "      <th>KE</th>\n",
       "      <th>E1</th>\n",
       "      <th>E2</th>\n",
       "      <th>costh</th>\n",
       "      <th>t1</th>\n",
       "      <th>t2</th>\n",
       "    </tr>\n",
       "  </thead>\n",
       "  <tbody>\n",
       "    <tr>\n",
       "      <th>7</th>\n",
       "      <td>810</td>\n",
       "      <td>364</td>\n",
       "      <td>267.088013</td>\n",
       "      <td>89.011398</td>\n",
       "      <td>0.759760</td>\n",
       "      <td>1.576200e-08</td>\n",
       "      <td>4.767010e-08</td>\n",
       "    </tr>\n",
       "    <tr>\n",
       "      <th>9</th>\n",
       "      <td>865</td>\n",
       "      <td>364</td>\n",
       "      <td>268.526001</td>\n",
       "      <td>86.542397</td>\n",
       "      <td>0.302027</td>\n",
       "      <td>3.186740e-08</td>\n",
       "      <td>7.832670e-08</td>\n",
       "    </tr>\n",
       "    <tr>\n",
       "      <th>13</th>\n",
       "      <td>1067</td>\n",
       "      <td>364</td>\n",
       "      <td>268.493011</td>\n",
       "      <td>61.290100</td>\n",
       "      <td>0.034658</td>\n",
       "      <td>1.264510e-07</td>\n",
       "      <td>1.920000e-07</td>\n",
       "    </tr>\n",
       "    <tr>\n",
       "      <th>14</th>\n",
       "      <td>1081</td>\n",
       "      <td>364</td>\n",
       "      <td>224.026993</td>\n",
       "      <td>133.787003</td>\n",
       "      <td>0.197544</td>\n",
       "      <td>6.150470e-08</td>\n",
       "      <td>8.687600e-08</td>\n",
       "    </tr>\n",
       "    <tr>\n",
       "      <th>15</th>\n",
       "      <td>1169</td>\n",
       "      <td>364</td>\n",
       "      <td>261.373993</td>\n",
       "      <td>76.151802</td>\n",
       "      <td>0.001386</td>\n",
       "      <td>3.553370e-06</td>\n",
       "      <td>3.615100e-06</td>\n",
       "    </tr>\n",
       "  </tbody>\n",
       "</table>\n",
       "</div>"
      ],
      "text/plain": [
       "    Evt_id   KE          E1          E2     costh            t1            t2\n",
       "7      810  364  267.088013   89.011398  0.759760  1.576200e-08  4.767010e-08\n",
       "9      865  364  268.526001   86.542397  0.302027  3.186740e-08  7.832670e-08\n",
       "13    1067  364  268.493011   61.290100  0.034658  1.264510e-07  1.920000e-07\n",
       "14    1081  364  224.026993  133.787003  0.197544  6.150470e-08  8.687600e-08\n",
       "15    1169  364  261.373993   76.151802  0.001386  3.553370e-06  3.615100e-06"
      ]
     },
     "execution_count": 19,
     "metadata": {},
     "output_type": "execute_result"
    }
   ],
   "source": [
    "foil0Type1Det1.head()"
   ]
  },
  {
   "cell_type": "code",
   "execution_count": 15,
   "metadata": {},
   "outputs": [],
   "source": [
    "det1FirstFioil0 = pd.concat([foil0Type0Det1, foil0Type1Det1], ignore_index=True)"
   ]
  },
  {
   "cell_type": "code",
   "execution_count": 17,
   "metadata": {},
   "outputs": [
    {
     "data": {
      "text/plain": [
       "221508"
      ]
     },
     "execution_count": 17,
     "metadata": {},
     "output_type": "execute_result"
    }
   ],
   "source": [
    "(det1FirstFioil0['E1'] < 200).sum()"
   ]
  },
  {
   "cell_type": "code",
   "execution_count": 16,
   "metadata": {},
   "outputs": [
    {
     "data": {
      "text/plain": [
       "<AxesSubplot:xlabel='E1', ylabel='Count'>"
      ]
     },
     "execution_count": 16,
     "metadata": {},
     "output_type": "execute_result"
    },
    {
     "data": {
      "image/png": "[encoded data removed]",
      "text/plain": [
       "<Figure size 432x288 with 1 Axes>"
      ]
     },
     "metadata": {
      "needs_background": "light"
     },
     "output_type": "display_data"
    }
   ],
   "source": [
    "plt.figure()\n",
    "sns.histplot(det1FirstFioil0['E1'], bins = 100, binrange = )"
   ]
  },
  {
   "cell_type": "code",
   "execution_count": 19,
   "metadata": {},
   "outputs": [
    {
     "data": {
      "text/plain": [
       "6571"
      ]
     },
     "execution_count": 19,
     "metadata": {},
     "output_type": "execute_result"
    }
   ],
   "source": [
    "(foil0Type1Det1.costh < 0).sum()"
   ]
  },
  {
   "cell_type": "code",
   "execution_count": 21,
   "metadata": {},
   "outputs": [],
   "source": [
    "lessThan0 = det1FirstFioil0[det1FirstFioil0['costh'] < 0]"
   ]
  },
  {
   "cell_type": "code",
   "execution_count": 25,
   "metadata": {},
   "outputs": [
    {
     "data": {
      "text/html": [
       "<div>\n",
       "<style scoped>\n",
       "    .dataframe tbody tr th:only-of-type {\n",
       "        vertical-align: middle;\n",
       "    }\n",
       "\n",
       "    .dataframe tbody tr th {\n",
       "        vertical-align: top;\n",
       "    }\n",
       "\n",
       "    .dataframe thead th {\n",
       "        text-align: right;\n",
       "    }\n",
       "</style>\n",
       "<table border=\"1\" class=\"dataframe\">\n",
       "  <thead>\n",
       "    <tr style=\"text-align: right;\">\n",
       "      <th></th>\n",
       "      <th>Evt_id</th>\n",
       "      <th>KE</th>\n",
       "      <th>E1</th>\n",
       "      <th>E2</th>\n",
       "      <th>costh</th>\n",
       "      <th>t1</th>\n",
       "      <th>t2</th>\n",
       "    </tr>\n",
       "  </thead>\n",
       "  <tbody>\n",
       "    <tr>\n",
       "      <th>41151468</th>\n",
       "      <td>49910200</td>\n",
       "      <td>364</td>\n",
       "      <td>192.701996</td>\n",
       "      <td>149.819000</td>\n",
       "      <td>-0.047450</td>\n",
       "      <td>2.854660e-07</td>\n",
       "      <td>3.246230e-07</td>\n",
       "    </tr>\n",
       "    <tr>\n",
       "      <th>41151585</th>\n",
       "      <td>49932000</td>\n",
       "      <td>364</td>\n",
       "      <td>28.685101</td>\n",
       "      <td>317.579010</td>\n",
       "      <td>-0.227545</td>\n",
       "      <td>7.627530e-08</td>\n",
       "      <td>1.118950e-07</td>\n",
       "    </tr>\n",
       "    <tr>\n",
       "      <th>41151732</th>\n",
       "      <td>49959300</td>\n",
       "      <td>364</td>\n",
       "      <td>70.793701</td>\n",
       "      <td>278.947998</td>\n",
       "      <td>-0.359037</td>\n",
       "      <td>9.143420e-08</td>\n",
       "      <td>1.290090e-07</td>\n",
       "    </tr>\n",
       "    <tr>\n",
       "      <th>41151839</th>\n",
       "      <td>49979900</td>\n",
       "      <td>364</td>\n",
       "      <td>125.682999</td>\n",
       "      <td>230.042999</td>\n",
       "      <td>-0.181829</td>\n",
       "      <td>1.437670e-07</td>\n",
       "      <td>2.661910e-07</td>\n",
       "    </tr>\n",
       "    <tr>\n",
       "      <th>41151846</th>\n",
       "      <td>49981000</td>\n",
       "      <td>364</td>\n",
       "      <td>24.383801</td>\n",
       "      <td>311.131989</td>\n",
       "      <td>-0.475174</td>\n",
       "      <td>1.130880e-07</td>\n",
       "      <td>1.707130e-07</td>\n",
       "    </tr>\n",
       "  </tbody>\n",
       "</table>\n",
       "</div>"
      ],
      "text/plain": [
       "            Evt_id   KE          E1          E2     costh            t1  \\\n",
       "41151468  49910200  364  192.701996  149.819000 -0.047450  2.854660e-07   \n",
       "41151585  49932000  364   28.685101  317.579010 -0.227545  7.627530e-08   \n",
       "41151732  49959300  364   70.793701  278.947998 -0.359037  9.143420e-08   \n",
       "41151839  49979900  364  125.682999  230.042999 -0.181829  1.437670e-07   \n",
       "41151846  49981000  364   24.383801  311.131989 -0.475174  1.130880e-07   \n",
       "\n",
       "                    t2  \n",
       "41151468  3.246230e-07  \n",
       "41151585  1.118950e-07  \n",
       "41151732  1.290090e-07  \n",
       "41151839  2.661910e-07  \n",
       "41151846  1.707130e-07  "
      ]
     },
     "execution_count": 25,
     "metadata": {},
     "output_type": "execute_result"
    }
   ],
   "source": [
    "lessThan0.tail()"
   ]
  },
  {
   "cell_type": "code",
   "execution_count": null,
   "metadata": {},
   "outputs": [],
   "source": []
  },
  {
   "cell_type": "code",
   "execution_count": null,
   "metadata": {
    "scrolled": true
   },
   "outputs": [],
   "source": [
    "plt.figure(figsize = (12, 8))\n",
    "sns.histplot(det1FirstFioil0['costh'], stat = 'count',bins = 50, binrange = [-1,1]  )\n",
    "plt.grid()"
   ]
  },
  {
   "cell_type": "code",
   "execution_count": null,
   "metadata": {},
   "outputs": [],
   "source": [
    "det1FirstFioil0['costhPerHis'] = "
   ]
  },
  {
   "cell_type": "markdown",
   "metadata": {},
   "source": [
    "plotting the statistics for it \n"
   ]
  },
  {
   "cell_type": "code",
   "execution_count": null,
   "metadata": {},
   "outputs": [],
   "source": [
    "mean_stat = scipy.stats.binned_statistic(x = det1FirstFioil0['costh'], values = np.cos(df['thetaIn1']), statistic='mean', bins = 200, range = (-1, 1))\n"
   ]
  },
  {
   "cell_type": "code",
   "execution_count": 26,
   "metadata": {},
   "outputs": [
    {
     "name": "stdout",
     "output_type": "stream",
     "text": [
      "<class 'pandas.core.frame.DataFrame'>\n",
      "RangeIndex: 1320640 entries, 0 to 1320639\n",
      "Data columns (total 7 columns):\n",
      " #   Column  Non-Null Count    Dtype  \n",
      "---  ------  --------------    -----  \n",
      " 0   Evt_id  1320640 non-null  uint32 \n",
      " 1   KE      1320640 non-null  uint32 \n",
      " 2   E1      1320640 non-null  float32\n",
      " 3   E2      1320640 non-null  float32\n",
      " 4   costh   1320640 non-null  float32\n",
      " 5   t1      1320640 non-null  float32\n",
      " 6   t2      1320640 non-null  float32\n",
      "dtypes: float32(5), uint32(2)\n",
      "memory usage: 35.3 MB\n"
     ]
    }
   ],
   "source": [
    "foil0Type1.info()"
   ]
  },
  {
   "cell_type": "code",
   "execution_count": 8,
   "metadata": {},
   "outputs": [
    {
     "data": {
      "text/plain": [
       "<matplotlib.axes._subplots.AxesSubplot at 0x7f2fa190c3c8>"
      ]
     },
     "execution_count": 8,
     "metadata": {},
     "output_type": "execute_result"
    },
    {
     "data": {
      "image/png": "[encoded data removed]",
      "text/plain": [
       "<Figure size 432x288 with 1 Axes>"
      ]
     },
     "metadata": {
      "needs_background": "light"
     },
     "output_type": "display_data"
    }
   ],
   "source": [
    "sns.histplot(foil0Type1['costh'])"
   ]
  },
  {
   "cell_type": "code",
   "execution_count": 12,
   "metadata": {},
   "outputs": [
    {
     "data": {
      "text/plain": [
       "<matplotlib.axes._subplots.AxesSubplot at 0x7f2f9b5170f0>"
      ]
     },
     "execution_count": 12,
     "metadata": {},
     "output_type": "execute_result"
    },
    {
     "data": {
      "image/png": "[encoded data removed]",
      "text/plain": [
       "<Figure size 432x288 with 1 Axes>"
      ]
     },
     "metadata": {
      "needs_background": "light"
     },
     "output_type": "display_data"
    }
   ],
   "source": [
    "sns.histplot(foil0Type0['costh'])"
   ]
  },
  {
   "cell_type": "code",
   "execution_count": 12,
   "metadata": {},
   "outputs": [],
   "source": [
    "foil0 = pd.concat([foil0Type0, foil0Type1], ignore_index= True)"
   ]
  },
  {
   "cell_type": "code",
   "execution_count": 12,
   "metadata": {},
   "outputs": [
    {
     "name": "stdout",
     "output_type": "stream",
     "text": [
      "<class 'pandas.core.frame.DataFrame'>\n",
      "RangeIndex: 99928461 entries, 0 to 99928460\n",
      "Data columns (total 7 columns):\n",
      " #   Column  Dtype  \n",
      "---  ------  -----  \n",
      " 0   Evt_id  uint32 \n",
      " 1   KE      uint32 \n",
      " 2   E1      float32\n",
      " 3   E2      float32\n",
      " 4   costh   float32\n",
      " 5   t1      float32\n",
      " 6   t2      float32\n",
      "dtypes: float32(5), uint32(2)\n",
      "memory usage: 2.6 GB\n"
     ]
    }
   ],
   "source": [
    "foil0.info()"
   ]
  },
  {
   "cell_type": "code",
   "execution_count": 18,
   "metadata": {},
   "outputs": [],
   "source": [
    "type1SmallAngle = foil0Type1[foil0Type1['costh']>0.95]"
   ]
  },
  {
   "cell_type": "code",
   "execution_count": 19,
   "metadata": {},
   "outputs": [
    {
     "name": "stdout",
     "output_type": "stream",
     "text": [
      "<class 'pandas.core.frame.DataFrame'>\n",
      "Int64Index: 32082 entries, 56 to 1320588\n",
      "Data columns (total 7 columns):\n",
      " #   Column  Non-Null Count  Dtype  \n",
      "---  ------  --------------  -----  \n",
      " 0   Evt_id  32082 non-null  uint32 \n",
      " 1   KE      32082 non-null  uint32 \n",
      " 2   E1      32082 non-null  float32\n",
      " 3   E2      32082 non-null  float32\n",
      " 4   costh   32082 non-null  float32\n",
      " 5   t1      32082 non-null  float32\n",
      " 6   t2      32082 non-null  float32\n",
      "dtypes: float32(5), uint32(2)\n",
      "memory usage: 1.1 MB\n"
     ]
    }
   ],
   "source": [
    "type1SmallAngle.info()"
   ]
  },
  {
   "cell_type": "code",
   "execution_count": 20,
   "metadata": {},
   "outputs": [
    {
     "data": {
      "text/plain": [
       "<matplotlib.axes._subplots.AxesSubplot at 0x7f7598843a20>"
      ]
     },
     "execution_count": 20,
     "metadata": {},
     "output_type": "execute_result"
    },
    {
     "data": {
      "image/png": "[encoded data removed]",
      "text/plain": [
       "<Figure size 432x288 with 1 Axes>"
      ]
     },
     "metadata": {
      "needs_background": "light"
     },
     "output_type": "display_data"
    }
   ],
   "source": [
    "sns.histplot(type1SmallAngle['costh'])"
   ]
  },
  {
   "cell_type": "code",
   "execution_count": 22,
   "metadata": {},
   "outputs": [
    {
     "data": {
      "text/html": [
       "<div>\n",
       "<style scoped>\n",
       "    .dataframe tbody tr th:only-of-type {\n",
       "        vertical-align: middle;\n",
       "    }\n",
       "\n",
       "    .dataframe tbody tr th {\n",
       "        vertical-align: top;\n",
       "    }\n",
       "\n",
       "    .dataframe thead th {\n",
       "        text-align: right;\n",
       "    }\n",
       "</style>\n",
       "<table border=\"1\" class=\"dataframe\">\n",
       "  <thead>\n",
       "    <tr style=\"text-align: right;\">\n",
       "      <th></th>\n",
       "      <th>Evt_id</th>\n",
       "      <th>KE</th>\n",
       "      <th>E1</th>\n",
       "      <th>E2</th>\n",
       "      <th>costh</th>\n",
       "      <th>t1</th>\n",
       "      <th>t2</th>\n",
       "    </tr>\n",
       "  </thead>\n",
       "  <tbody>\n",
       "    <tr>\n",
       "      <th>56</th>\n",
       "      <td>4377</td>\n",
       "      <td>364</td>\n",
       "      <td>254.507996</td>\n",
       "      <td>102.430000</td>\n",
       "      <td>0.997415</td>\n",
       "      <td>1.492590e-08</td>\n",
       "      <td>5.259890e-08</td>\n",
       "    </tr>\n",
       "    <tr>\n",
       "      <th>76</th>\n",
       "      <td>6327</td>\n",
       "      <td>364</td>\n",
       "      <td>189.626007</td>\n",
       "      <td>169.319000</td>\n",
       "      <td>0.985176</td>\n",
       "      <td>5.697160e-09</td>\n",
       "      <td>6.918510e-08</td>\n",
       "    </tr>\n",
       "    <tr>\n",
       "      <th>82</th>\n",
       "      <td>6381</td>\n",
       "      <td>388</td>\n",
       "      <td>313.851990</td>\n",
       "      <td>66.702400</td>\n",
       "      <td>0.991750</td>\n",
       "      <td>7.393760e-09</td>\n",
       "      <td>4.636490e-08</td>\n",
       "    </tr>\n",
       "    <tr>\n",
       "      <th>123</th>\n",
       "      <td>9575</td>\n",
       "      <td>364</td>\n",
       "      <td>72.690102</td>\n",
       "      <td>288.862000</td>\n",
       "      <td>0.994133</td>\n",
       "      <td>1.108930e-08</td>\n",
       "      <td>3.049510e-08</td>\n",
       "    </tr>\n",
       "    <tr>\n",
       "      <th>260</th>\n",
       "      <td>19168</td>\n",
       "      <td>364</td>\n",
       "      <td>281.140015</td>\n",
       "      <td>76.143097</td>\n",
       "      <td>0.982573</td>\n",
       "      <td>1.486880e-08</td>\n",
       "      <td>4.890330e-08</td>\n",
       "    </tr>\n",
       "    <tr>\n",
       "      <th>295</th>\n",
       "      <td>21052</td>\n",
       "      <td>364</td>\n",
       "      <td>51.576500</td>\n",
       "      <td>306.326996</td>\n",
       "      <td>0.972134</td>\n",
       "      <td>7.709220e-09</td>\n",
       "      <td>3.608970e-08</td>\n",
       "    </tr>\n",
       "    <tr>\n",
       "      <th>359</th>\n",
       "      <td>26418</td>\n",
       "      <td>364</td>\n",
       "      <td>196.229996</td>\n",
       "      <td>163.766006</td>\n",
       "      <td>0.994998</td>\n",
       "      <td>1.125650e-08</td>\n",
       "      <td>4.054090e-08</td>\n",
       "    </tr>\n",
       "    <tr>\n",
       "      <th>405</th>\n",
       "      <td>29549</td>\n",
       "      <td>364</td>\n",
       "      <td>319.015991</td>\n",
       "      <td>34.332199</td>\n",
       "      <td>0.997370</td>\n",
       "      <td>1.004340e-08</td>\n",
       "      <td>7.765200e-08</td>\n",
       "    </tr>\n",
       "    <tr>\n",
       "      <th>452</th>\n",
       "      <td>32891</td>\n",
       "      <td>364</td>\n",
       "      <td>228.261993</td>\n",
       "      <td>95.464302</td>\n",
       "      <td>0.995444</td>\n",
       "      <td>5.593690e-08</td>\n",
       "      <td>5.331390e-08</td>\n",
       "    </tr>\n",
       "    <tr>\n",
       "      <th>526</th>\n",
       "      <td>38555</td>\n",
       "      <td>364</td>\n",
       "      <td>291.319000</td>\n",
       "      <td>66.780998</td>\n",
       "      <td>0.960822</td>\n",
       "      <td>1.081870e-08</td>\n",
       "      <td>5.987290e-08</td>\n",
       "    </tr>\n",
       "    <tr>\n",
       "      <th>824</th>\n",
       "      <td>58840</td>\n",
       "      <td>364</td>\n",
       "      <td>216.054993</td>\n",
       "      <td>143.438004</td>\n",
       "      <td>0.984622</td>\n",
       "      <td>3.362660e-09</td>\n",
       "      <td>3.090250e-08</td>\n",
       "    </tr>\n",
       "    <tr>\n",
       "      <th>844</th>\n",
       "      <td>60892</td>\n",
       "      <td>364</td>\n",
       "      <td>185.587006</td>\n",
       "      <td>162.367996</td>\n",
       "      <td>0.997584</td>\n",
       "      <td>1.041700e-08</td>\n",
       "      <td>3.716540e-08</td>\n",
       "    </tr>\n",
       "    <tr>\n",
       "      <th>953</th>\n",
       "      <td>69721</td>\n",
       "      <td>388</td>\n",
       "      <td>278.884003</td>\n",
       "      <td>101.668999</td>\n",
       "      <td>0.996509</td>\n",
       "      <td>7.006470e-09</td>\n",
       "      <td>3.338000e-08</td>\n",
       "    </tr>\n",
       "    <tr>\n",
       "      <th>979</th>\n",
       "      <td>71555</td>\n",
       "      <td>364</td>\n",
       "      <td>257.575989</td>\n",
       "      <td>102.140999</td>\n",
       "      <td>0.992063</td>\n",
       "      <td>1.514190e-08</td>\n",
       "      <td>4.718710e-08</td>\n",
       "    </tr>\n",
       "    <tr>\n",
       "      <th>997</th>\n",
       "      <td>73004</td>\n",
       "      <td>364</td>\n",
       "      <td>229.432007</td>\n",
       "      <td>119.239998</td>\n",
       "      <td>0.995296</td>\n",
       "      <td>1.278180e-08</td>\n",
       "      <td>4.194860e-08</td>\n",
       "    </tr>\n",
       "    <tr>\n",
       "      <th>1201</th>\n",
       "      <td>89328</td>\n",
       "      <td>364</td>\n",
       "      <td>121.127998</td>\n",
       "      <td>238.529007</td>\n",
       "      <td>0.973573</td>\n",
       "      <td>6.374630e-09</td>\n",
       "      <td>2.830780e-08</td>\n",
       "    </tr>\n",
       "    <tr>\n",
       "      <th>1233</th>\n",
       "      <td>92268</td>\n",
       "      <td>388</td>\n",
       "      <td>219.944000</td>\n",
       "      <td>136.494995</td>\n",
       "      <td>0.999999</td>\n",
       "      <td>3.206180e-09</td>\n",
       "      <td>3.069210e-08</td>\n",
       "    </tr>\n",
       "    <tr>\n",
       "      <th>1287</th>\n",
       "      <td>95760</td>\n",
       "      <td>388</td>\n",
       "      <td>96.660599</td>\n",
       "      <td>287.105988</td>\n",
       "      <td>0.957575</td>\n",
       "      <td>1.498380e-08</td>\n",
       "      <td>4.893930e-08</td>\n",
       "    </tr>\n",
       "    <tr>\n",
       "      <th>1319</th>\n",
       "      <td>97831</td>\n",
       "      <td>364</td>\n",
       "      <td>131.901001</td>\n",
       "      <td>228.550003</td>\n",
       "      <td>0.955488</td>\n",
       "      <td>1.297860e-08</td>\n",
       "      <td>4.599160e-08</td>\n",
       "    </tr>\n",
       "    <tr>\n",
       "      <th>1345</th>\n",
       "      <td>99414</td>\n",
       "      <td>364</td>\n",
       "      <td>61.534901</td>\n",
       "      <td>297.290009</td>\n",
       "      <td>0.975045</td>\n",
       "      <td>4.149880e-09</td>\n",
       "      <td>2.823250e-08</td>\n",
       "    </tr>\n",
       "  </tbody>\n",
       "</table>\n",
       "</div>"
      ],
      "text/plain": [
       "      Evt_id   KE          E1          E2     costh            t1  \\\n",
       "56      4377  364  254.507996  102.430000  0.997415  1.492590e-08   \n",
       "76      6327  364  189.626007  169.319000  0.985176  5.697160e-09   \n",
       "82      6381  388  313.851990   66.702400  0.991750  7.393760e-09   \n",
       "123     9575  364   72.690102  288.862000  0.994133  1.108930e-08   \n",
       "260    19168  364  281.140015   76.143097  0.982573  1.486880e-08   \n",
       "295    21052  364   51.576500  306.326996  0.972134  7.709220e-09   \n",
       "359    26418  364  196.229996  163.766006  0.994998  1.125650e-08   \n",
       "405    29549  364  319.015991   34.332199  0.997370  1.004340e-08   \n",
       "452    32891  364  228.261993   95.464302  0.995444  5.593690e-08   \n",
       "526    38555  364  291.319000   66.780998  0.960822  1.081870e-08   \n",
       "824    58840  364  216.054993  143.438004  0.984622  3.362660e-09   \n",
       "844    60892  364  185.587006  162.367996  0.997584  1.041700e-08   \n",
       "953    69721  388  278.884003  101.668999  0.996509  7.006470e-09   \n",
       "979    71555  364  257.575989  102.140999  0.992063  1.514190e-08   \n",
       "997    73004  364  229.432007  119.239998  0.995296  1.278180e-08   \n",
       "1201   89328  364  121.127998  238.529007  0.973573  6.374630e-09   \n",
       "1233   92268  388  219.944000  136.494995  0.999999  3.206180e-09   \n",
       "1287   95760  388   96.660599  287.105988  0.957575  1.498380e-08   \n",
       "1319   97831  364  131.901001  228.550003  0.955488  1.297860e-08   \n",
       "1345   99414  364   61.534901  297.290009  0.975045  4.149880e-09   \n",
       "\n",
       "                t2  \n",
       "56    5.259890e-08  \n",
       "76    6.918510e-08  \n",
       "82    4.636490e-08  \n",
       "123   3.049510e-08  \n",
       "260   4.890330e-08  \n",
       "295   3.608970e-08  \n",
       "359   4.054090e-08  \n",
       "405   7.765200e-08  \n",
       "452   5.331390e-08  \n",
       "526   5.987290e-08  \n",
       "824   3.090250e-08  \n",
       "844   3.716540e-08  \n",
       "953   3.338000e-08  \n",
       "979   4.718710e-08  \n",
       "997   4.194860e-08  \n",
       "1201  2.830780e-08  \n",
       "1233  3.069210e-08  \n",
       "1287  4.893930e-08  \n",
       "1319  4.599160e-08  \n",
       "1345  2.823250e-08  "
      ]
     },
     "execution_count": 22,
     "metadata": {},
     "output_type": "execute_result"
    }
   ],
   "source": [
    "type1SmallAngle.head(20)"
   ]
  },
  {
   "cell_type": "code",
   "execution_count": 23,
   "metadata": {},
   "outputs": [],
   "source": [
    "evtsT1Bigger = type1SmallAngle[type1SmallAngle['t1'] > type1SmallAngle['t2']]"
   ]
  },
  {
   "cell_type": "code",
   "execution_count": 25,
   "metadata": {},
   "outputs": [
    {
     "data": {
      "text/html": [
       "<div>\n",
       "<style scoped>\n",
       "    .dataframe tbody tr th:only-of-type {\n",
       "        vertical-align: middle;\n",
       "    }\n",
       "\n",
       "    .dataframe tbody tr th {\n",
       "        vertical-align: top;\n",
       "    }\n",
       "\n",
       "    .dataframe thead th {\n",
       "        text-align: right;\n",
       "    }\n",
       "</style>\n",
       "<table border=\"1\" class=\"dataframe\">\n",
       "  <thead>\n",
       "    <tr style=\"text-align: right;\">\n",
       "      <th></th>\n",
       "      <th>Evt_id</th>\n",
       "      <th>KE</th>\n",
       "      <th>E1</th>\n",
       "      <th>E2</th>\n",
       "      <th>costh</th>\n",
       "      <th>t1</th>\n",
       "      <th>t2</th>\n",
       "    </tr>\n",
       "  </thead>\n",
       "  <tbody>\n",
       "    <tr>\n",
       "      <th>452</th>\n",
       "      <td>32891</td>\n",
       "      <td>364</td>\n",
       "      <td>228.261993</td>\n",
       "      <td>95.464302</td>\n",
       "      <td>0.995444</td>\n",
       "      <td>5.593690e-08</td>\n",
       "      <td>5.331390e-08</td>\n",
       "    </tr>\n",
       "    <tr>\n",
       "      <th>1661</th>\n",
       "      <td>123260</td>\n",
       "      <td>364</td>\n",
       "      <td>316.104004</td>\n",
       "      <td>18.975800</td>\n",
       "      <td>0.994779</td>\n",
       "      <td>1.898030e-07</td>\n",
       "      <td>1.074410e-07</td>\n",
       "    </tr>\n",
       "    <tr>\n",
       "      <th>2760</th>\n",
       "      <td>204124</td>\n",
       "      <td>388</td>\n",
       "      <td>247.007996</td>\n",
       "      <td>118.508003</td>\n",
       "      <td>0.999634</td>\n",
       "      <td>9.641120e-08</td>\n",
       "      <td>3.201770e-08</td>\n",
       "    </tr>\n",
       "    <tr>\n",
       "      <th>4940</th>\n",
       "      <td>370404</td>\n",
       "      <td>364</td>\n",
       "      <td>161.503006</td>\n",
       "      <td>196.279999</td>\n",
       "      <td>0.998224</td>\n",
       "      <td>6.998590e-08</td>\n",
       "      <td>3.852620e-08</td>\n",
       "    </tr>\n",
       "    <tr>\n",
       "      <th>10597</th>\n",
       "      <td>794754</td>\n",
       "      <td>364</td>\n",
       "      <td>257.158997</td>\n",
       "      <td>80.985100</td>\n",
       "      <td>0.995082</td>\n",
       "      <td>1.277880e-07</td>\n",
       "      <td>6.144730e-08</td>\n",
       "    </tr>\n",
       "    <tr>\n",
       "      <th>14477</th>\n",
       "      <td>1088570</td>\n",
       "      <td>364</td>\n",
       "      <td>288.487000</td>\n",
       "      <td>42.778099</td>\n",
       "      <td>0.954618</td>\n",
       "      <td>1.360980e-07</td>\n",
       "      <td>4.445400e-08</td>\n",
       "    </tr>\n",
       "    <tr>\n",
       "      <th>22425</th>\n",
       "      <td>1691030</td>\n",
       "      <td>364</td>\n",
       "      <td>282.308990</td>\n",
       "      <td>76.210701</td>\n",
       "      <td>0.984612</td>\n",
       "      <td>1.319330e-07</td>\n",
       "      <td>9.535480e-08</td>\n",
       "    </tr>\n",
       "    <tr>\n",
       "      <th>25069</th>\n",
       "      <td>1897980</td>\n",
       "      <td>364</td>\n",
       "      <td>250.358002</td>\n",
       "      <td>93.400101</td>\n",
       "      <td>0.976288</td>\n",
       "      <td>9.464230e-08</td>\n",
       "      <td>6.422140e-08</td>\n",
       "    </tr>\n",
       "    <tr>\n",
       "      <th>29057</th>\n",
       "      <td>2201420</td>\n",
       "      <td>364</td>\n",
       "      <td>261.050995</td>\n",
       "      <td>94.082603</td>\n",
       "      <td>0.979571</td>\n",
       "      <td>1.067460e-07</td>\n",
       "      <td>4.517970e-08</td>\n",
       "    </tr>\n",
       "    <tr>\n",
       "      <th>38379</th>\n",
       "      <td>2907140</td>\n",
       "      <td>364</td>\n",
       "      <td>148.195999</td>\n",
       "      <td>197.748001</td>\n",
       "      <td>0.981001</td>\n",
       "      <td>1.615020e-07</td>\n",
       "      <td>1.090200e-07</td>\n",
       "    </tr>\n",
       "  </tbody>\n",
       "</table>\n",
       "</div>"
      ],
      "text/plain": [
       "        Evt_id   KE          E1          E2     costh            t1  \\\n",
       "452      32891  364  228.261993   95.464302  0.995444  5.593690e-08   \n",
       "1661    123260  364  316.104004   18.975800  0.994779  1.898030e-07   \n",
       "2760    204124  388  247.007996  118.508003  0.999634  9.641120e-08   \n",
       "4940    370404  364  161.503006  196.279999  0.998224  6.998590e-08   \n",
       "10597   794754  364  257.158997   80.985100  0.995082  1.277880e-07   \n",
       "14477  1088570  364  288.487000   42.778099  0.954618  1.360980e-07   \n",
       "22425  1691030  364  282.308990   76.210701  0.984612  1.319330e-07   \n",
       "25069  1897980  364  250.358002   93.400101  0.976288  9.464230e-08   \n",
       "29057  2201420  364  261.050995   94.082603  0.979571  1.067460e-07   \n",
       "38379  2907140  364  148.195999  197.748001  0.981001  1.615020e-07   \n",
       "\n",
       "                 t2  \n",
       "452    5.331390e-08  \n",
       "1661   1.074410e-07  \n",
       "2760   3.201770e-08  \n",
       "4940   3.852620e-08  \n",
       "10597  6.144730e-08  \n",
       "14477  4.445400e-08  \n",
       "22425  9.535480e-08  \n",
       "25069  6.422140e-08  \n",
       "29057  4.517970e-08  \n",
       "38379  1.090200e-07  "
      ]
     },
     "execution_count": 25,
     "metadata": {},
     "output_type": "execute_result"
    }
   ],
   "source": [
    "evtsT1Bigger.head(10)"
   ]
  },
  {
   "cell_type": "code",
   "execution_count": 12,
   "metadata": {},
   "outputs": [],
   "source": [
    "type1SmallAngle = type1SmallAngle[type1SmallAngle['KE'] < 370]"
   ]
  },
  {
   "cell_type": "code",
   "execution_count": 17,
   "metadata": {},
   "outputs": [
    {
     "data": {
      "text/html": [
       "<div>\n",
       "<style scoped>\n",
       "    .dataframe tbody tr th:only-of-type {\n",
       "        vertical-align: middle;\n",
       "    }\n",
       "\n",
       "    .dataframe tbody tr th {\n",
       "        vertical-align: top;\n",
       "    }\n",
       "\n",
       "    .dataframe thead th {\n",
       "        text-align: right;\n",
       "    }\n",
       "</style>\n",
       "<table border=\"1\" class=\"dataframe\">\n",
       "  <thead>\n",
       "    <tr style=\"text-align: right;\">\n",
       "      <th></th>\n",
       "      <th>Evt_id</th>\n",
       "      <th>KE</th>\n",
       "      <th>E1</th>\n",
       "      <th>E2</th>\n",
       "      <th>costh</th>\n",
       "      <th>t1</th>\n",
       "      <th>t2</th>\n",
       "    </tr>\n",
       "  </thead>\n",
       "  <tbody>\n",
       "    <tr>\n",
       "      <th>56</th>\n",
       "      <td>4377</td>\n",
       "      <td>364</td>\n",
       "      <td>254.507996</td>\n",
       "      <td>102.430000</td>\n",
       "      <td>0.997415</td>\n",
       "      <td>1.492590e-08</td>\n",
       "      <td>5.259890e-08</td>\n",
       "    </tr>\n",
       "    <tr>\n",
       "      <th>76</th>\n",
       "      <td>6327</td>\n",
       "      <td>364</td>\n",
       "      <td>189.626007</td>\n",
       "      <td>169.319000</td>\n",
       "      <td>0.985176</td>\n",
       "      <td>5.697160e-09</td>\n",
       "      <td>6.918510e-08</td>\n",
       "    </tr>\n",
       "    <tr>\n",
       "      <th>98</th>\n",
       "      <td>7658</td>\n",
       "      <td>364</td>\n",
       "      <td>281.382996</td>\n",
       "      <td>76.400398</td>\n",
       "      <td>0.821718</td>\n",
       "      <td>8.773880e-09</td>\n",
       "      <td>3.986430e-08</td>\n",
       "    </tr>\n",
       "    <tr>\n",
       "      <th>100</th>\n",
       "      <td>8012</td>\n",
       "      <td>364</td>\n",
       "      <td>281.128998</td>\n",
       "      <td>77.768700</td>\n",
       "      <td>0.848980</td>\n",
       "      <td>4.093130e-09</td>\n",
       "      <td>4.469140e-08</td>\n",
       "    </tr>\n",
       "    <tr>\n",
       "      <th>123</th>\n",
       "      <td>9575</td>\n",
       "      <td>364</td>\n",
       "      <td>72.690102</td>\n",
       "      <td>288.862000</td>\n",
       "      <td>0.994133</td>\n",
       "      <td>1.108930e-08</td>\n",
       "      <td>3.049510e-08</td>\n",
       "    </tr>\n",
       "  </tbody>\n",
       "</table>\n",
       "</div>"
      ],
      "text/plain": [
       "     Evt_id   KE          E1          E2     costh            t1            t2\n",
       "56     4377  364  254.507996  102.430000  0.997415  1.492590e-08  5.259890e-08\n",
       "76     6327  364  189.626007  169.319000  0.985176  5.697160e-09  6.918510e-08\n",
       "98     7658  364  281.382996   76.400398  0.821718  8.773880e-09  3.986430e-08\n",
       "100    8012  364  281.128998   77.768700  0.848980  4.093130e-09  4.469140e-08\n",
       "123    9575  364   72.690102  288.862000  0.994133  1.108930e-08  3.049510e-08"
      ]
     },
     "execution_count": 17,
     "metadata": {},
     "output_type": "execute_result"
    }
   ],
   "source": [
    "type1SmallAngle.head()"
   ]
  },
  {
   "cell_type": "code",
   "execution_count": 16,
   "metadata": {},
   "outputs": [
    {
     "data": {
      "text/plain": [
       "(0, 1e-08)"
      ]
     },
     "execution_count": 16,
     "metadata": {},
     "output_type": "execute_result"
    },
    {
     "data": {
      "image/png": "[encoded data removed]",
      "text/plain": [
       "<Figure size 432x288 with 1 Axes>"
      ]
     },
     "metadata": {
      "needs_background": "light"
     },
     "output_type": "display_data"
    }
   ],
   "source": [
    "plt.scatter(type1SmallAngle['t1'], type1SmallAngle['E1'], alpha = 0.2)\n",
    "plt.xlim(0, 10e-09)"
   ]
  },
  {
   "cell_type": "code",
   "execution_count": 13,
   "metadata": {},
   "outputs": [
    {
     "data": {
      "text/plain": [
       "<matplotlib.axes._subplots.AxesSubplot at 0x7f7edfce2e80>"
      ]
     },
     "execution_count": 13,
     "metadata": {},
     "output_type": "execute_result"
    },
    {
     "data": {
      "image/png": "[encoded data removed]",
      "text/plain": [
       "<Figure size 432x288 with 1 Axes>"
      ]
     },
     "metadata": {
      "needs_background": "light"
     },
     "output_type": "display_data"
    }
   ],
   "source": [
    "sns.histplot(foil0['costh'])"
   ]
  },
  {
   "cell_type": "markdown",
   "metadata": {},
   "source": [
    "looking at the cos the for detector 1 type 0 + type 1"
   ]
  },
  {
   "cell_type": "code",
   "execution_count": 13,
   "metadata": {},
   "outputs": [],
   "source": [
    "def det1Foil0 (df):\n",
    "    df = df[df['KE'] < 370]\n",
    "    df = df[df['E2'] > 0]\n",
    "    return df"
   ]
  },
  {
   "cell_type": "code",
   "execution_count": 14,
   "metadata": {},
   "outputs": [
    {
     "ename": "",
     "evalue": "",
     "output_type": "error",
     "traceback": [
      "\u001b[1;31mCanceled future for execute_request message before replies were done"
     ]
    },
    {
     "ename": "",
     "evalue": "",
     "output_type": "error",
     "traceback": [
      "\u001b[1;31mThe Kernel crashed while executing code in the the current cell or a previous cell. Please review the code in the cell(s) to identify a possible cause of the failure. Click <a href='https://aka.ms/vscodeJupyterKernelCrash'>here</a> for more info. View Jupyter <a href='command:jupyter.viewOutput'>log</a> for further details."
     ]
    }
   ],
   "source": [
    "foil0Det1Only = det1Foil0(foil0)"
   ]
  },
  {
   "cell_type": "code",
   "execution_count": null,
   "metadata": {},
   "outputs": [],
   "source": [
    "foil0Det1Only = foil0[]"
   ]
  },
  {
   "cell_type": "code",
   "execution_count": 29,
   "metadata": {},
   "outputs": [
    {
     "name": "stdout",
     "output_type": "stream",
     "text": [
      "<class 'pandas.core.frame.DataFrame'>\n",
      "Int64Index: 82290082 entries, 0 to 99928460\n",
      "Data columns (total 7 columns):\n",
      " #   Column  Dtype  \n",
      "---  ------  -----  \n",
      " 0   Evt_id  uint32 \n",
      " 1   KE      uint32 \n",
      " 2   E1      float32\n",
      " 3   E2      float32\n",
      " 4   costh   float32\n",
      " 5   t1      float32\n",
      " 6   t2      float32\n",
      "dtypes: float32(5), uint32(2)\n",
      "memory usage: 2.8 GB\n"
     ]
    }
   ],
   "source": [
    "foil0Det1Only.info()"
   ]
  },
  {
   "cell_type": "code",
   "execution_count": 28,
   "metadata": {},
   "outputs": [
    {
     "data": {
      "text/html": [
       "<div>\n",
       "<style scoped>\n",
       "    .dataframe tbody tr th:only-of-type {\n",
       "        vertical-align: middle;\n",
       "    }\n",
       "\n",
       "    .dataframe tbody tr th {\n",
       "        vertical-align: top;\n",
       "    }\n",
       "\n",
       "    .dataframe thead th {\n",
       "        text-align: right;\n",
       "    }\n",
       "</style>\n",
       "<table border=\"1\" class=\"dataframe\">\n",
       "  <thead>\n",
       "    <tr style=\"text-align: right;\">\n",
       "      <th></th>\n",
       "      <th>Evt_id</th>\n",
       "      <th>KE</th>\n",
       "      <th>E1</th>\n",
       "      <th>E2</th>\n",
       "      <th>costh</th>\n",
       "      <th>t1</th>\n",
       "      <th>t2</th>\n",
       "    </tr>\n",
       "  </thead>\n",
       "  <tbody>\n",
       "    <tr>\n",
       "      <th>0</th>\n",
       "      <td>0</td>\n",
       "      <td>364</td>\n",
       "      <td>362.044006</td>\n",
       "      <td>0.000000</td>\n",
       "      <td>0.584861</td>\n",
       "      <td>8.347490e-09</td>\n",
       "      <td>-5.000000e-09</td>\n",
       "    </tr>\n",
       "    <tr>\n",
       "      <th>2</th>\n",
       "      <td>2</td>\n",
       "      <td>364</td>\n",
       "      <td>0.000000</td>\n",
       "      <td>358.476990</td>\n",
       "      <td>-0.837683</td>\n",
       "      <td>-5.000000e-09</td>\n",
       "      <td>1.688080e-08</td>\n",
       "    </tr>\n",
       "    <tr>\n",
       "      <th>3</th>\n",
       "      <td>3</td>\n",
       "      <td>364</td>\n",
       "      <td>360.477997</td>\n",
       "      <td>0.000000</td>\n",
       "      <td>0.867632</td>\n",
       "      <td>1.251320e-08</td>\n",
       "      <td>-5.000000e-09</td>\n",
       "    </tr>\n",
       "    <tr>\n",
       "      <th>6</th>\n",
       "      <td>6</td>\n",
       "      <td>364</td>\n",
       "      <td>361.239014</td>\n",
       "      <td>0.000000</td>\n",
       "      <td>0.993441</td>\n",
       "      <td>2.948790e-09</td>\n",
       "      <td>-5.000000e-09</td>\n",
       "    </tr>\n",
       "    <tr>\n",
       "      <th>7</th>\n",
       "      <td>7</td>\n",
       "      <td>364</td>\n",
       "      <td>0.000000</td>\n",
       "      <td>361.838013</td>\n",
       "      <td>-0.657017</td>\n",
       "      <td>-5.000000e-09</td>\n",
       "      <td>1.516130e-08</td>\n",
       "    </tr>\n",
       "  </tbody>\n",
       "</table>\n",
       "</div>"
      ],
      "text/plain": [
       "   Evt_id   KE          E1          E2     costh            t1            t2\n",
       "0       0  364  362.044006    0.000000  0.584861  8.347490e-09 -5.000000e-09\n",
       "2       2  364    0.000000  358.476990 -0.837683 -5.000000e-09  1.688080e-08\n",
       "3       3  364  360.477997    0.000000  0.867632  1.251320e-08 -5.000000e-09\n",
       "6       6  364  361.239014    0.000000  0.993441  2.948790e-09 -5.000000e-09\n",
       "7       7  364    0.000000  361.838013 -0.657017 -5.000000e-09  1.516130e-08"
      ]
     },
     "execution_count": 28,
     "metadata": {},
     "output_type": "execute_result"
    }
   ],
   "source": [
    "foil0Det1Only.head()"
   ]
  },
  {
   "cell_type": "code",
   "execution_count": 1,
   "metadata": {},
   "outputs": [
    {
     "ename": "NameError",
     "evalue": "name 'foil0Det1Only' is not defined",
     "output_type": "error",
     "traceback": [
      "\u001b[0;31m---------------------------------------------------------------------------\u001b[0m",
      "\u001b[0;31mNameError\u001b[0m                                 Traceback (most recent call last)",
      "\u001b[0;32m<ipython-input-1-fc965cd78530>\u001b[0m in \u001b[0;36m<module>\u001b[0;34m\u001b[0m\n\u001b[0;32m----> 1\u001b[0;31m \u001b[0mfoil0Det1Only\u001b[0m \u001b[0;34m=\u001b[0m \u001b[0mfoil0Det1Only\u001b[0m\u001b[0;34m[\u001b[0m\u001b[0mfoil0Det1Only\u001b[0m\u001b[0;34m[\u001b[0m\u001b[0;34m'E2'\u001b[0m\u001b[0;34m]\u001b[0m \u001b[0;34m>\u001b[0m \u001b[0;36m0\u001b[0m \u001b[0;34m]\u001b[0m\u001b[0;34m\u001b[0m\u001b[0;34m\u001b[0m\u001b[0m\n\u001b[0m",
      "\u001b[0;31mNameError\u001b[0m: name 'foil0Det1Only' is not defined"
     ]
    }
   ],
   "source": [
    "foil0Det1Only = foil0Det1Only[foil0Det1Only['E2'] > 0 ]"
   ]
  },
  {
   "cell_type": "code",
   "execution_count": null,
   "metadata": {},
   "outputs": [],
   "source": [
    "foil0Det1Only.info"
   ]
  }
 ],
 "metadata": {
  "kernelspec": {
   "display_name": "Python 3 (ipykernel)",
   "language": "python",
   "name": "python3"
  },
  "language_info": {
   "codemirror_mode": {
    "name": "ipython",
    "version": 3
   },
   "file_extension": ".py",
   "mimetype": "text/x-python",
   "name": "python",
   "nbconvert_exporter": "python",
   "pygments_lexer": "ipython3",
   "version": "3.7.3"
  },
  "vscode": {
   "interpreter": {
    "hash": "0908d9aff873dcb3cc2ddb69a47333019532e0791c0c30c9e347478999bc9d11"
   }
  }
 },
 "nbformat": 4,
 "nbformat_minor": 2
}
