{
 "cells": [
  {
   "cell_type": "code",
   "execution_count": 1,
   "metadata": {},
   "outputs": [
    {
     "name": "stderr",
     "output_type": "stream",
     "text": [
      "/home/rhythm/anaconda3/lib/python3.7/site-packages/pandas/compat/_optional.py:138: UserWarning: Pandas requires version '2.7.0' or newer of 'numexpr' (version '2.6.9' currently installed).\n",
      "  warnings.warn(msg, UserWarning)\n"
     ]
    }
   ],
   "source": [
    "#importing all the necessary libs\n",
    "import numpy as np\n",
    "import pandas as pd\n",
    "import warnings\n",
    "warnings.filterwarnings\n",
    "import matplotlib.pyplot as plt\n",
    "import seaborn as sns\n",
    "import scipy\n",
    "import os"
   ]
  },
  {
   "cell_type": "code",
   "execution_count": 2,
   "metadata": {},
   "outputs": [],
   "source": [
    "os.chdir('/home/rhythm/Research/PhD/ResearchProgress/22-Fall/Sept/26')"
   ]
  },
  {
   "cell_type": "code",
   "execution_count": 3,
   "metadata": {},
   "outputs": [],
   "source": [
    "columns = [\"Evt_id\", \"KE\", \"E1\",\"E2\",\"costh\",\"t1\",\"t2\"]\n"
   ]
  },
  {
   "cell_type": "code",
   "execution_count": 4,
   "metadata": {},
   "outputs": [],
   "source": [
    "type = {\"Evt_id\" : np.uint32, \"KE\": np.uint32, \"E1\" : np.float32,\"E2\" : np.float32,\"costh\": np.float32,\"t1\": np.float32,\"t2\": np.float32}"
   ]
  },
  {
   "cell_type": "code",
   "execution_count": 5,
   "metadata": {},
   "outputs": [],
   "source": [
    "foil001 = pd.read_csv('./Type0-0Foil-1.txt', sep = \" \", dtype = type,header = None, names = columns)\n",
    "foil002 = pd.read_csv('./Type0-0Foil-2.txt', sep = \" \", dtype = type,header = None, names = columns)\n",
    "foil003 = pd.read_csv('./Type0-0Foil-3.txt', sep = \" \", dtype = type,header = None, names = columns)\n",
    "foil004 = pd.read_csv('./Type0-0Foil-4.txt', sep = \" \", dtype = type,header = None, names = columns)\n"
   ]
  },
  {
   "cell_type": "code",
   "execution_count": 6,
   "metadata": {},
   "outputs": [],
   "source": [
    "foil011 = pd.read_csv('./Type1-0Foil-1.txt', sep = \" \", dtype= type, header = None, names = columns)\n",
    "foil012 = pd.read_csv('./Type1-0Foil-2.txt', sep = \" \", dtype= type, header = None, names = columns)\n",
    "foil013 = pd.read_csv('./Type1-0Foil-3.txt', sep = \" \", dtype= type, header = None, names = columns)\n",
    "foil014 = pd.read_csv('./Type1-0Foil-4.txt', sep = \" \", dtype= type, header = None, names = columns)\n"
   ]
  },
  {
   "cell_type": "code",
   "execution_count": 7,
   "metadata": {},
   "outputs": [],
   "source": [
    "frame0Type0 = [foil001, foil002, foil003, foil004]\n"
   ]
  },
  {
   "cell_type": "code",
   "execution_count": 8,
   "metadata": {},
   "outputs": [],
   "source": [
    "foil0Type0 = pd.concat(frame0Type0, ignore_index= True)"
   ]
  },
  {
   "cell_type": "code",
   "execution_count": 9,
   "metadata": {},
   "outputs": [],
   "source": [
    "frame0Type1 = [foil011, foil012, foil013, foil014]"
   ]
  },
  {
   "cell_type": "code",
   "execution_count": 10,
   "metadata": {},
   "outputs": [],
   "source": [
    "foil0Type1 = pd.concat(frame0Type1, ignore_index=True)"
   ]
  },
  {
   "cell_type": "code",
   "execution_count": 25,
   "metadata": {},
   "outputs": [
    {
     "name": "stdout",
     "output_type": "stream",
     "text": [
      "<class 'pandas.core.frame.DataFrame'>\n",
      "RangeIndex: 98607821 entries, 0 to 98607820\n",
      "Data columns (total 7 columns):\n",
      " #   Column  Dtype  \n",
      "---  ------  -----  \n",
      " 0   Evt_id  uint32 \n",
      " 1   KE      uint32 \n",
      " 2   E1      float32\n",
      " 3   E2      float32\n",
      " 4   costh   float32\n",
      " 5   t1      float32\n",
      " 6   t2      float32\n",
      "dtypes: float32(5), uint32(2)\n",
      "memory usage: 2.6 GB\n"
     ]
    }
   ],
   "source": [
    "foil0Type0.info()"
   ]
  },
  {
   "cell_type": "code",
   "execution_count": 26,
   "metadata": {},
   "outputs": [
    {
     "name": "stdout",
     "output_type": "stream",
     "text": [
      "<class 'pandas.core.frame.DataFrame'>\n",
      "RangeIndex: 1320640 entries, 0 to 1320639\n",
      "Data columns (total 7 columns):\n",
      " #   Column  Non-Null Count    Dtype  \n",
      "---  ------  --------------    -----  \n",
      " 0   Evt_id  1320640 non-null  uint32 \n",
      " 1   KE      1320640 non-null  uint32 \n",
      " 2   E1      1320640 non-null  float32\n",
      " 3   E2      1320640 non-null  float32\n",
      " 4   costh   1320640 non-null  float32\n",
      " 5   t1      1320640 non-null  float32\n",
      " 6   t2      1320640 non-null  float32\n",
      "dtypes: float32(5), uint32(2)\n",
      "memory usage: 35.3 MB\n"
     ]
    }
   ],
   "source": [
    "foil0Type1.info()"
   ]
  },
  {
   "cell_type": "code",
   "execution_count": 8,
   "metadata": {},
   "outputs": [
    {
     "data": {
      "text/plain": [
       "<matplotlib.axes._subplots.AxesSubplot at 0x7f2fa190c3c8>"
      ]
     },
     "execution_count": 8,
     "metadata": {},
     "output_type": "execute_result"
    },
    {
     "data": {
      "image/png": "[encoded data removed]",
      "text/plain": [
       "<Figure size 432x288 with 1 Axes>"
      ]
     },
     "metadata": {
      "needs_background": "light"
     },
     "output_type": "display_data"
    }
   ],
   "source": [
    "sns.histplot(foil0Type1['costh'])"
   ]
  },
  {
   "cell_type": "code",
   "execution_count": 12,
   "metadata": {},
   "outputs": [
    {
     "data": {
      "text/plain": [
       "<matplotlib.axes._subplots.AxesSubplot at 0x7f2f9b5170f0>"
      ]
     },
     "execution_count": 12,
     "metadata": {},
     "output_type": "execute_result"
    },
    {
     "data": {
      "image/png": "[encoded data removed]",
      "text/plain": [
       "<Figure size 432x288 with 1 Axes>"
      ]
     },
     "metadata": {
      "needs_background": "light"
     },
     "output_type": "display_data"
    }
   ],
   "source": [
    "sns.histplot(foil0Type0['costh'])"
   ]
  },
  {
   "cell_type": "code",
   "execution_count": 11,
   "metadata": {},
   "outputs": [],
   "source": [
    "foil0 = pd.concat([foil0Type0, foil0Type1], ignore_index= True)"
   ]
  },
  {
   "cell_type": "code",
   "execution_count": 12,
   "metadata": {},
   "outputs": [
    {
     "name": "stdout",
     "output_type": "stream",
     "text": [
      "<class 'pandas.core.frame.DataFrame'>\n",
      "RangeIndex: 99928461 entries, 0 to 99928460\n",
      "Data columns (total 7 columns):\n",
      " #   Column  Dtype  \n",
      "---  ------  -----  \n",
      " 0   Evt_id  uint32 \n",
      " 1   KE      uint32 \n",
      " 2   E1      float32\n",
      " 3   E2      float32\n",
      " 4   costh   float32\n",
      " 5   t1      float32\n",
      " 6   t2      float32\n",
      "dtypes: float32(5), uint32(2)\n",
      "memory usage: 2.6 GB\n"
     ]
    }
   ],
   "source": [
    "foil0.info()"
   ]
  },
  {
   "cell_type": "code",
   "execution_count": 14,
   "metadata": {},
   "outputs": [],
   "source": [
    "type1SmallAngle = foil0Type1[foil0Type1['costh']>0.8]"
   ]
  },
  {
   "cell_type": "code",
   "execution_count": 15,
   "metadata": {},
   "outputs": [
    {
     "name": "stdout",
     "output_type": "stream",
     "text": [
      "<class 'pandas.core.frame.DataFrame'>\n",
      "Int64Index: 83841 entries, 56 to 1320628\n",
      "Data columns (total 7 columns):\n",
      " #   Column  Non-Null Count  Dtype  \n",
      "---  ------  --------------  -----  \n",
      " 0   Evt_id  83841 non-null  uint32 \n",
      " 1   KE      83841 non-null  uint32 \n",
      " 2   E1      83841 non-null  float32\n",
      " 3   E2      83841 non-null  float32\n",
      " 4   costh   83841 non-null  float32\n",
      " 5   t1      83841 non-null  float32\n",
      " 6   t2      83841 non-null  float32\n",
      "dtypes: float32(5), uint32(2)\n",
      "memory usage: 2.9 MB\n"
     ]
    }
   ],
   "source": [
    "type1SmallAngle.info()"
   ]
  },
  {
   "cell_type": "code",
   "execution_count": 17,
   "metadata": {},
   "outputs": [
    {
     "data": {
      "text/plain": [
       "<matplotlib.axes._subplots.AxesSubplot at 0x7f7ede426a90>"
      ]
     },
     "execution_count": 17,
     "metadata": {},
     "output_type": "execute_result"
    },
    {
     "data": {
      "image/png": "[encoded data removed]",
      "text/plain": [
       "<Figure size 432x288 with 1 Axes>"
      ]
     },
     "metadata": {
      "needs_background": "light"
     },
     "output_type": "display_data"
    }
   ],
   "source": [
    "sns.histplot(type1SmallAngle['costh'])"
   ]
  },
  {
   "cell_type": "code",
   "execution_count": 18,
   "metadata": {},
   "outputs": [
    {
     "data": {
      "text/html": [
       "<div>\n",
       "<style scoped>\n",
       "    .dataframe tbody tr th:only-of-type {\n",
       "        vertical-align: middle;\n",
       "    }\n",
       "\n",
       "    .dataframe tbody tr th {\n",
       "        vertical-align: top;\n",
       "    }\n",
       "\n",
       "    .dataframe thead th {\n",
       "        text-align: right;\n",
       "    }\n",
       "</style>\n",
       "<table border=\"1\" class=\"dataframe\">\n",
       "  <thead>\n",
       "    <tr style=\"text-align: right;\">\n",
       "      <th></th>\n",
       "      <th>Evt_id</th>\n",
       "      <th>KE</th>\n",
       "      <th>E1</th>\n",
       "      <th>E2</th>\n",
       "      <th>costh</th>\n",
       "      <th>t1</th>\n",
       "      <th>t2</th>\n",
       "    </tr>\n",
       "  </thead>\n",
       "  <tbody>\n",
       "    <tr>\n",
       "      <th>56</th>\n",
       "      <td>4377</td>\n",
       "      <td>364</td>\n",
       "      <td>254.507996</td>\n",
       "      <td>102.430000</td>\n",
       "      <td>0.997415</td>\n",
       "      <td>1.492590e-08</td>\n",
       "      <td>5.259890e-08</td>\n",
       "    </tr>\n",
       "    <tr>\n",
       "      <th>76</th>\n",
       "      <td>6327</td>\n",
       "      <td>364</td>\n",
       "      <td>189.626007</td>\n",
       "      <td>169.319000</td>\n",
       "      <td>0.985176</td>\n",
       "      <td>5.697160e-09</td>\n",
       "      <td>6.918510e-08</td>\n",
       "    </tr>\n",
       "    <tr>\n",
       "      <th>82</th>\n",
       "      <td>6381</td>\n",
       "      <td>388</td>\n",
       "      <td>313.851990</td>\n",
       "      <td>66.702400</td>\n",
       "      <td>0.991750</td>\n",
       "      <td>7.393760e-09</td>\n",
       "      <td>4.636490e-08</td>\n",
       "    </tr>\n",
       "    <tr>\n",
       "      <th>98</th>\n",
       "      <td>7658</td>\n",
       "      <td>364</td>\n",
       "      <td>281.382996</td>\n",
       "      <td>76.400398</td>\n",
       "      <td>0.821718</td>\n",
       "      <td>8.773880e-09</td>\n",
       "      <td>3.986430e-08</td>\n",
       "    </tr>\n",
       "    <tr>\n",
       "      <th>100</th>\n",
       "      <td>8012</td>\n",
       "      <td>364</td>\n",
       "      <td>281.128998</td>\n",
       "      <td>77.768700</td>\n",
       "      <td>0.848980</td>\n",
       "      <td>4.093130e-09</td>\n",
       "      <td>4.469140e-08</td>\n",
       "    </tr>\n",
       "  </tbody>\n",
       "</table>\n",
       "</div>"
      ],
      "text/plain": [
       "     Evt_id   KE          E1          E2     costh            t1            t2\n",
       "56     4377  364  254.507996  102.430000  0.997415  1.492590e-08  5.259890e-08\n",
       "76     6327  364  189.626007  169.319000  0.985176  5.697160e-09  6.918510e-08\n",
       "82     6381  388  313.851990   66.702400  0.991750  7.393760e-09  4.636490e-08\n",
       "98     7658  364  281.382996   76.400398  0.821718  8.773880e-09  3.986430e-08\n",
       "100    8012  364  281.128998   77.768700  0.848980  4.093130e-09  4.469140e-08"
      ]
     },
     "execution_count": 18,
     "metadata": {},
     "output_type": "execute_result"
    }
   ],
   "source": [
    "type1SmallAngle.head()"
   ]
  },
  {
   "cell_type": "code",
   "execution_count": 21,
   "metadata": {},
   "outputs": [
    {
     "ename": "TypeError",
     "evalue": "list indices must be integers or slices, not str",
     "output_type": "error",
     "traceback": [
      "\u001b[0;31m---------------------------------------------------------------------------\u001b[0m",
      "\u001b[0;31mTypeError\u001b[0m                                 Traceback (most recent call last)",
      "\u001b[0;32m<ipython-input-21-74323c114c87>\u001b[0m in \u001b[0;36m<module>\u001b[0;34m\u001b[0m\n\u001b[0;32m----> 1\u001b[0;31m \u001b[0mtype1SmallAngle\u001b[0m \u001b[0;34m=\u001b[0m \u001b[0mtype1SmallAngle\u001b[0m\u001b[0;34m[\u001b[0m\u001b[0mtype1SmallAngle\u001b[0m\u001b[0;34m[\u001b[0m\u001b[0;34m'KE'\u001b[0m\u001b[0;34m]\u001b[0m \u001b[0;34m<\u001b[0m \u001b[0;36m370\u001b[0m\u001b[0;34m]\u001b[0m\u001b[0;34m\u001b[0m\u001b[0;34m\u001b[0m\u001b[0m\n\u001b[0m",
      "\u001b[0;31mTypeError\u001b[0m: list indices must be integers or slices, not str"
     ]
    }
   ],
   "source": [
    "type1SmallAngle = type1SmallAngle[type1SmallAngle['KE'] < 370]"
   ]
  },
  {
   "cell_type": "code",
   "execution_count": 22,
   "metadata": {},
   "outputs": [
    {
     "data": {
      "text/plain": [
       "[56          True\n",
       " 76          True\n",
       " 82         False\n",
       " 98          True\n",
       " 100         True\n",
       "            ...  \n",
       " 1320588     True\n",
       " 1320591     True\n",
       " 1320594     True\n",
       " 1320616     True\n",
       " 1320628     True\n",
       " Name: KE, Length: 83841, dtype: bool]"
      ]
     },
     "execution_count": 22,
     "metadata": {},
     "output_type": "execute_result"
    }
   ],
   "source": [
    "type1SmallAngle"
   ]
  },
  {
   "cell_type": "code",
   "execution_count": 13,
   "metadata": {},
   "outputs": [
    {
     "data": {
      "text/plain": [
       "<matplotlib.axes._subplots.AxesSubplot at 0x7f7edfce2e80>"
      ]
     },
     "execution_count": 13,
     "metadata": {},
     "output_type": "execute_result"
    },
    {
     "data": {
      "image/png": "[encoded data removed]",
      "text/plain": [
       "<Figure size 432x288 with 1 Axes>"
      ]
     },
     "metadata": {
      "needs_background": "light"
     },
     "output_type": "display_data"
    }
   ],
   "source": [
    "sns.histplot(foil0['costh'])"
   ]
  },
  {
   "cell_type": "code",
   "execution_count": null,
   "metadata": {},
   "outputs": [],
   "source": []
  }
 ],
 "metadata": {
  "kernelspec": {
   "display_name": "Python 3.7.3 ('base')",
   "language": "python",
   "name": "python3"
  },
  "language_info": {
   "codemirror_mode": {
    "name": "ipython",
    "version": 3
   },
   "file_extension": ".py",
   "mimetype": "text/x-python",
   "name": "python",
   "nbconvert_exporter": "python",
   "pygments_lexer": "ipython3",
   "version": "3.7.3"
  },
  "orig_nbformat": 4,
  "vscode": {
   "interpreter": {
    "hash": "0908d9aff873dcb3cc2ddb69a47333019532e0791c0c30c9e347478999bc9d11"
   }
  }
 },
 "nbformat": 4,
 "nbformat_minor": 2
}
