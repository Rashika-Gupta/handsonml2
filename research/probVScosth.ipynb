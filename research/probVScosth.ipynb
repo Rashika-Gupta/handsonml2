{
 "cells": [
  {
   "cell_type": "code",
   "execution_count": 1,
   "metadata": {},
   "outputs": [
    {
     "name": "stderr",
     "output_type": "stream",
     "text": [
      "/home/rhythm/anaconda3/lib/python3.7/site-packages/pandas/compat/_optional.py:138: UserWarning: Pandas requires version '2.7.0' or newer of 'numexpr' (version '2.6.9' currently installed).\n",
      "  warnings.warn(msg, UserWarning)\n"
     ]
    }
   ],
   "source": [
    "#importing all the necessary libs\n",
    "import numpy as np\n",
    "import pandas as pd\n",
    "import warnings\n",
    "warnings.filterwarnings\n",
    "import matplotlib.pyplot as plt\n",
    "import seaborn as sns\n",
    "import scipy\n",
    "import os"
   ]
  },
  {
   "cell_type": "code",
   "execution_count": 2,
   "metadata": {},
   "outputs": [],
   "source": [
    "os.chdir('/home/rhythm/Research/PhD/ResearchProgress/22-Fall/Oct/flesClusterOct22')"
   ]
  },
  {
   "cell_type": "code",
   "execution_count": 3,
   "metadata": {},
   "outputs": [],
   "source": [
    "columns = [\"KE\", \"E1\",\"E2\",\"t1\",\"t2\",\"costh\"]"
   ]
  },
  {
   "cell_type": "code",
   "execution_count": 4,
   "metadata": {},
   "outputs": [],
   "source": [
    "type = {\"KE\": np.uint32, \"E1\" : np.float32,\"E2\" : np.float32,\"t1\": np.float32,\"t2\": np.float32,\"costh\": np.float32}"
   ]
  },
  {
   "cell_type": "code",
   "execution_count": 5,
   "metadata": {},
   "outputs": [],
   "source": [
    "type0 = pd.read_csv('./type0.txt', sep = \" \", dtype = type,header = None, names = columns)\n",
    "type1 = pd.read_csv('./type1.txt', sep = \" \", dtype = type,header = None, names = columns)"
   ]
  },
  {
   "cell_type": "code",
   "execution_count": 9,
   "metadata": {},
   "outputs": [],
   "source": [
    "type01 = type0[type0['E2'] == 0]"
   ]
  },
  {
   "cell_type": "code",
   "execution_count": 11,
   "metadata": {},
   "outputs": [
    {
     "data": {
      "text/html": [
       "<div>\n",
       "<style scoped>\n",
       "    .dataframe tbody tr th:only-of-type {\n",
       "        vertical-align: middle;\n",
       "    }\n",
       "\n",
       "    .dataframe tbody tr th {\n",
       "        vertical-align: top;\n",
       "    }\n",
       "\n",
       "    .dataframe thead th {\n",
       "        text-align: right;\n",
       "    }\n",
       "</style>\n",
       "<table border=\"1\" class=\"dataframe\">\n",
       "  <thead>\n",
       "    <tr style=\"text-align: right;\">\n",
       "      <th></th>\n",
       "      <th>KE</th>\n",
       "      <th>E1</th>\n",
       "      <th>E2</th>\n",
       "      <th>t1</th>\n",
       "      <th>t2</th>\n",
       "      <th>costh</th>\n",
       "    </tr>\n",
       "  </thead>\n",
       "  <tbody>\n",
       "    <tr>\n",
       "      <th>1</th>\n",
       "      <td>388</td>\n",
       "      <td>384.295990</td>\n",
       "      <td>0.0</td>\n",
       "      <td>7.525870e-09</td>\n",
       "      <td>-5.000000e-09</td>\n",
       "      <td>0.824813</td>\n",
       "    </tr>\n",
       "    <tr>\n",
       "      <th>2</th>\n",
       "      <td>388</td>\n",
       "      <td>384.101013</td>\n",
       "      <td>0.0</td>\n",
       "      <td>9.320120e-09</td>\n",
       "      <td>-5.000000e-09</td>\n",
       "      <td>0.901256</td>\n",
       "    </tr>\n",
       "    <tr>\n",
       "      <th>3</th>\n",
       "      <td>364</td>\n",
       "      <td>355.697998</td>\n",
       "      <td>0.0</td>\n",
       "      <td>2.248590e-08</td>\n",
       "      <td>-5.000000e-09</td>\n",
       "      <td>0.409188</td>\n",
       "    </tr>\n",
       "    <tr>\n",
       "      <th>4</th>\n",
       "      <td>364</td>\n",
       "      <td>352.859009</td>\n",
       "      <td>0.0</td>\n",
       "      <td>5.432750e-08</td>\n",
       "      <td>-5.000000e-09</td>\n",
       "      <td>0.159599</td>\n",
       "    </tr>\n",
       "    <tr>\n",
       "      <th>6</th>\n",
       "      <td>364</td>\n",
       "      <td>359.467987</td>\n",
       "      <td>0.0</td>\n",
       "      <td>2.498990e-08</td>\n",
       "      <td>-5.000000e-09</td>\n",
       "      <td>0.195293</td>\n",
       "    </tr>\n",
       "  </tbody>\n",
       "</table>\n",
       "</div>"
      ],
      "text/plain": [
       "    KE          E1   E2            t1            t2     costh\n",
       "1  388  384.295990  0.0  7.525870e-09 -5.000000e-09  0.824813\n",
       "2  388  384.101013  0.0  9.320120e-09 -5.000000e-09  0.901256\n",
       "3  364  355.697998  0.0  2.248590e-08 -5.000000e-09  0.409188\n",
       "4  364  352.859009  0.0  5.432750e-08 -5.000000e-09  0.159599\n",
       "6  364  359.467987  0.0  2.498990e-08 -5.000000e-09  0.195293"
      ]
     },
     "execution_count": 11,
     "metadata": {},
     "output_type": "execute_result"
    }
   ],
   "source": [
    "type01.head()"
   ]
  },
  {
   "cell_type": "code",
   "execution_count": 10,
   "metadata": {},
   "outputs": [
    {
     "data": {
      "text/plain": [
       "<matplotlib.axes._subplots.AxesSubplot at 0x7fa0dd8c71d0>"
      ]
     },
     "execution_count": 10,
     "metadata": {},
     "output_type": "execute_result"
    },
    {
     "data": {
      "image/png": "[encoded data removed]",
      "text/plain": [
       "<Figure size 432x288 with 1 Axes>"
      ]
     },
     "metadata": {
      "needs_background": "light"
     },
     "output_type": "display_data"
    }
   ],
   "source": [
    "sns.histplot(type01['costh'],stat = 'probability' )"
   ]
  },
  {
   "cell_type": "markdown",
   "metadata": {},
   "source": [
    "for the  type 0 events emitted in the direction of detector 1 wihh have the highest probability when angle is small or cos higher.\n"
   ]
  },
  {
   "cell_type": "code",
   "execution_count": 14,
   "metadata": {},
   "outputs": [],
   "source": [
    "type11 = type1[type1['t1']<type1['t2']]"
   ]
  },
  {
   "cell_type": "code",
   "execution_count": 17,
   "metadata": {},
   "outputs": [
    {
     "data": {
      "text/plain": [
       "<matplotlib.axes._subplots.AxesSubplot at 0x7fa0dd5e7128>"
      ]
     },
     "execution_count": 17,
     "metadata": {},
     "output_type": "execute_result"
    },
    {
     "data": {
      "image/png": "[encoded data removed]",
      "text/plain": [
       "<Figure size 432x288 with 1 Axes>"
      ]
     },
     "metadata": {
      "needs_background": "light"
     },
     "output_type": "display_data"
    }
   ],
   "source": [
    "sns.histplot(type11['costh'], stat = 'probability', log_scale=(False, True))"
   ]
  },
  {
   "cell_type": "markdown",
   "metadata": {},
   "source": [
    "for type 1 events hitting detector 1 first. cos th - 0 corresponds to event emitted at 90 degree  theses events would definitely lead to maximium backscattering compared to the evennts which are emitted in the direction of the detecor with  angle. Those events wont get backscttered. "
   ]
  },
  {
   "cell_type": "code",
   "execution_count": 18,
   "metadata": {},
   "outputs": [],
   "source": [
    "det1Hit = pd.concat([type01, type11], ignore_index= True)"
   ]
  },
  {
   "cell_type": "code",
   "execution_count": 19,
   "metadata": {},
   "outputs": [
    {
     "data": {
      "text/plain": [
       "<matplotlib.axes._subplots.AxesSubplot at 0x7fa0dd49a080>"
      ]
     },
     "execution_count": 19,
     "metadata": {},
     "output_type": "execute_result"
    },
    {
     "data": {
      "image/png": "[encoded data removed]",
      "text/plain": [
       "<Figure size 432x288 with 1 Axes>"
      ]
     },
     "metadata": {
      "needs_background": "light"
     },
     "output_type": "display_data"
    }
   ],
   "source": [
    "sns.histplot(det1Hit['costh'], stat = 'probability')"
   ]
  },
  {
   "cell_type": "markdown",
   "metadata": {},
   "source": [
    "less than 0 values corresponds to the multiscatter events. which were emitted in the opposite direction got scattered within the decaytrap hit detector 1 first yet and then detector 2"
   ]
  },
  {
   "cell_type": "code",
   "execution_count": null,
   "metadata": {},
   "outputs": [],
   "source": []
  },
  {
   "cell_type": "code",
   "execution_count": 12,
   "metadata": {},
   "outputs": [
    {
     "data": {
      "text/plain": [
       "0"
      ]
     },
     "execution_count": 12,
     "metadata": {},
     "output_type": "execute_result"
    }
   ],
   "source": [
    "(type01['costh'] < 0) .sum()"
   ]
  },
  {
   "cell_type": "code",
   "execution_count": 2,
   "metadata": {},
   "outputs": [],
   "source": [
    "os.chdir('/home/rhythm/Research/PhD/ResearchProgress/22-Fall/Sept/26')"
   ]
  },
  {
   "cell_type": "code",
   "execution_count": 3,
   "metadata": {},
   "outputs": [],
   "source": [
    "columns = [\"Evt_id\", \"KE\", \"E1\",\"E2\",\"costh\",\"t1\",\"t2\"]\n"
   ]
  },
  {
   "cell_type": "code",
   "execution_count": 4,
   "metadata": {},
   "outputs": [],
   "source": [
    "type = {\"Evt_id\" : np.uint32, \"KE\": np.uint32, \"E1\" : np.float32,\"E2\" : np.float32,\"costh\": np.float32,\"t1\": np.float32,\"t2\": np.float32}"
   ]
  },
  {
   "cell_type": "code",
   "execution_count": 5,
   "metadata": {},
   "outputs": [],
   "source": [
    "foil001 = pd.read_csv('./Type0-0Foil-1.txt', sep = \" \", dtype = type,header = None, names = columns)\n",
    "foil002 = pd.read_csv('./Type0-0Foil-2.txt', sep = \" \", dtype = type,header = None, names = columns)\n",
    "foil003 = pd.read_csv('./Type0-0Foil-3.txt', sep = \" \", dtype = type,header = None, names = columns)\n",
    "foil004 = pd.read_csv('./Type0-0Foil-4.txt', sep = \" \", dtype = type,header = None, names = columns)\n"
   ]
  },
  {
   "cell_type": "code",
   "execution_count": 6,
   "metadata": {},
   "outputs": [],
   "source": [
    "foil011 = pd.read_csv('./Type1-0Foil-1.txt', sep = \" \", dtype= type, header = None, names = columns)\n",
    "foil012 = pd.read_csv('./Type1-0Foil-2.txt', sep = \" \", dtype= type, header = None, names = columns)\n",
    "foil013 = pd.read_csv('./Type1-0Foil-3.txt', sep = \" \", dtype= type, header = None, names = columns)\n",
    "foil014 = pd.read_csv('./Type1-0Foil-4.txt', sep = \" \", dtype= type, header = None, names = columns)\n"
   ]
  },
  {
   "cell_type": "code",
   "execution_count": 7,
   "metadata": {},
   "outputs": [],
   "source": [
    "frame0Type0 = [foil001, foil002, foil003, foil004]\n"
   ]
  },
  {
   "cell_type": "code",
   "execution_count": 8,
   "metadata": {},
   "outputs": [],
   "source": [
    "foil0Type0 = pd.concat(frame0Type0, ignore_index= True)"
   ]
  },
  {
   "cell_type": "markdown",
   "metadata": {},
   "source": [
    "converting costh to degree"
   ]
  },
  {
   "cell_type": "code",
   "execution_count": 9,
   "metadata": {},
   "outputs": [],
   "source": [
    "foil0Type0['angle'] = np.arccos(foil0Type0['costh'])"
   ]
  },
  {
   "cell_type": "code",
   "execution_count": 11,
   "metadata": {},
   "outputs": [],
   "source": [
    "foil0Type0['angle_deg'] = foil0Type0['angle']*180/(np.math.pi)"
   ]
  },
  {
   "cell_type": "code",
   "execution_count": 10,
   "metadata": {},
   "outputs": [
    {
     "data": {
      "text/plain": [
       "180.0"
      ]
     },
     "execution_count": 10,
     "metadata": {},
     "output_type": "execute_result"
    }
   ],
   "source": [
    "np.arccos(-1)*(180/np.math.pi)"
   ]
  },
  {
   "cell_type": "code",
   "execution_count": 12,
   "metadata": {},
   "outputs": [
    {
     "data": {
      "text/plain": [
       "<matplotlib.axes._subplots.AxesSubplot at 0x7f70af6060b8>"
      ]
     },
     "execution_count": 12,
     "metadata": {},
     "output_type": "execute_result"
    },
    {
     "data": {
      "image/png": "[encoded data removed]",
      "text/plain": [
       "<Figure size 432x288 with 1 Axes>"
      ]
     },
     "metadata": {
      "needs_background": "light"
     },
     "output_type": "display_data"
    }
   ],
   "source": [
    "sns.histplot(foil0Type0['angle_deg'])"
   ]
  },
  {
   "cell_type": "code",
   "execution_count": 17,
   "metadata": {},
   "outputs": [
    {
     "data": {
      "text/plain": [
       "<matplotlib.axes._subplots.AxesSubplot at 0x7fb8bc51c470>"
      ]
     },
     "execution_count": 17,
     "metadata": {},
     "output_type": "execute_result"
    },
    {
     "data": {
      "image/png": "[encoded data removed]",
      "text/plain": [
       "<Figure size 864x576 with 1 Axes>"
      ]
     },
     "metadata": {
      "needs_background": "light"
     },
     "output_type": "display_data"
    }
   ],
   "source": [
    "plt.figure(figsize = (12, 8))\n",
    "sns.histplot(foil0Type0['degree'])"
   ]
  },
  {
   "cell_type": "code",
   "execution_count": null,
   "metadata": {},
   "outputs": [],
   "source": []
  },
  {
   "cell_type": "code",
   "execution_count": 13,
   "metadata": {},
   "outputs": [],
   "source": [
    "frame0Type1 = [foil011, foil012, foil013, foil014]"
   ]
  },
  {
   "cell_type": "code",
   "execution_count": 14,
   "metadata": {},
   "outputs": [],
   "source": [
    "foil0Type1 = pd.concat(frame0Type1, ignore_index=True)"
   ]
  },
  {
   "cell_type": "code",
   "execution_count": 15,
   "metadata": {},
   "outputs": [],
   "source": [
    "foil0Type1['angle'] = np.arccos(foil0Type1['costh'])"
   ]
  },
  {
   "cell_type": "code",
   "execution_count": 16,
   "metadata": {},
   "outputs": [],
   "source": [
    "foil0Type1['angle_deg']= foil0Type1['angle']*180/(np.math.pi)"
   ]
  },
  {
   "cell_type": "code",
   "execution_count": null,
   "metadata": {},
   "outputs": [],
   "source": [
    "foi"
   ]
  },
  {
   "cell_type": "markdown",
   "metadata": {},
   "source": [
    "lets us just get the detector 1 for foil 0 type 0 and foil type 1 separately"
   ]
  },
  {
   "cell_type": "markdown",
   "metadata": {},
   "source": [
    "type 0 detector 1 onlly"
   ]
  },
  {
   "cell_type": "code",
   "execution_count": 18,
   "metadata": {},
   "outputs": [
    {
     "data": {
      "text/html": [
       "<div>\n",
       "<style scoped>\n",
       "    .dataframe tbody tr th:only-of-type {\n",
       "        vertical-align: middle;\n",
       "    }\n",
       "\n",
       "    .dataframe tbody tr th {\n",
       "        vertical-align: top;\n",
       "    }\n",
       "\n",
       "    .dataframe thead th {\n",
       "        text-align: right;\n",
       "    }\n",
       "</style>\n",
       "<table border=\"1\" class=\"dataframe\">\n",
       "  <thead>\n",
       "    <tr style=\"text-align: right;\">\n",
       "      <th></th>\n",
       "      <th>Evt_id</th>\n",
       "      <th>KE</th>\n",
       "      <th>E1</th>\n",
       "      <th>E2</th>\n",
       "      <th>costh</th>\n",
       "      <th>t1</th>\n",
       "      <th>t2</th>\n",
       "    </tr>\n",
       "  </thead>\n",
       "  <tbody>\n",
       "    <tr>\n",
       "      <th>0</th>\n",
       "      <td>0</td>\n",
       "      <td>364</td>\n",
       "      <td>362.044006</td>\n",
       "      <td>0.000000</td>\n",
       "      <td>0.584861</td>\n",
       "      <td>8.347490e-09</td>\n",
       "      <td>-5.000000e-09</td>\n",
       "    </tr>\n",
       "    <tr>\n",
       "      <th>1</th>\n",
       "      <td>1</td>\n",
       "      <td>388</td>\n",
       "      <td>0.000000</td>\n",
       "      <td>375.489014</td>\n",
       "      <td>-0.711525</td>\n",
       "      <td>-5.000000e-09</td>\n",
       "      <td>1.114040e-08</td>\n",
       "    </tr>\n",
       "    <tr>\n",
       "      <th>2</th>\n",
       "      <td>2</td>\n",
       "      <td>364</td>\n",
       "      <td>0.000000</td>\n",
       "      <td>358.476990</td>\n",
       "      <td>-0.837683</td>\n",
       "      <td>-5.000000e-09</td>\n",
       "      <td>1.688080e-08</td>\n",
       "    </tr>\n",
       "    <tr>\n",
       "      <th>3</th>\n",
       "      <td>3</td>\n",
       "      <td>364</td>\n",
       "      <td>360.477997</td>\n",
       "      <td>0.000000</td>\n",
       "      <td>0.867632</td>\n",
       "      <td>1.251320e-08</td>\n",
       "      <td>-5.000000e-09</td>\n",
       "    </tr>\n",
       "    <tr>\n",
       "      <th>4</th>\n",
       "      <td>4</td>\n",
       "      <td>388</td>\n",
       "      <td>385.933014</td>\n",
       "      <td>0.000000</td>\n",
       "      <td>0.959147</td>\n",
       "      <td>1.470970e-08</td>\n",
       "      <td>-5.000000e-09</td>\n",
       "    </tr>\n",
       "  </tbody>\n",
       "</table>\n",
       "</div>"
      ],
      "text/plain": [
       "   Evt_id   KE          E1          E2     costh            t1            t2\n",
       "0       0  364  362.044006    0.000000  0.584861  8.347490e-09 -5.000000e-09\n",
       "1       1  388    0.000000  375.489014 -0.711525 -5.000000e-09  1.114040e-08\n",
       "2       2  364    0.000000  358.476990 -0.837683 -5.000000e-09  1.688080e-08\n",
       "3       3  364  360.477997    0.000000  0.867632  1.251320e-08 -5.000000e-09\n",
       "4       4  388  385.933014    0.000000  0.959147  1.470970e-08 -5.000000e-09"
      ]
     },
     "execution_count": 18,
     "metadata": {},
     "output_type": "execute_result"
    }
   ],
   "source": [
    "foil0Type0.head()"
   ]
  },
  {
   "cell_type": "code",
   "execution_count": 17,
   "metadata": {},
   "outputs": [
    {
     "ename": "MemoryError",
     "evalue": "Unable to allocate 2.57 GiB for an array with shape (7, 98607821) and data type float32",
     "output_type": "error",
     "traceback": [
      "\u001b[0;31m---------------------------------------------------------------------------\u001b[0m",
      "\u001b[0;31mMemoryError\u001b[0m                               Traceback (most recent call last)",
      "\u001b[0;32m<ipython-input-17-9f4f832115ee>\u001b[0m in \u001b[0;36m<module>\u001b[0;34m\u001b[0m\n\u001b[0;32m----> 1\u001b[0;31m \u001b[0mfoil0Type0Det1\u001b[0m \u001b[0;34m=\u001b[0m \u001b[0mfoil0Type0\u001b[0m\u001b[0;34m[\u001b[0m\u001b[0mfoil0Type0\u001b[0m\u001b[0;34m[\u001b[0m\u001b[0;34m'E2'\u001b[0m\u001b[0;34m]\u001b[0m \u001b[0;34m==\u001b[0m \u001b[0;36m0.0\u001b[0m\u001b[0;34m]\u001b[0m\u001b[0;34m\u001b[0m\u001b[0;34m\u001b[0m\u001b[0m\n\u001b[0m",
      "\u001b[0;32m~/anaconda3/lib/python3.7/site-packages/pandas/core/frame.py\u001b[0m in \u001b[0;36m__getitem__\u001b[0;34m(self, key)\u001b[0m\n\u001b[1;32m   3447\u001b[0m         \u001b[0;31m# Do we have a (boolean) 1d indexer?\u001b[0m\u001b[0;34m\u001b[0m\u001b[0;34m\u001b[0m\u001b[0;34m\u001b[0m\u001b[0m\n\u001b[1;32m   3448\u001b[0m         \u001b[0;32mif\u001b[0m \u001b[0mcom\u001b[0m\u001b[0;34m.\u001b[0m\u001b[0mis_bool_indexer\u001b[0m\u001b[0;34m(\u001b[0m\u001b[0mkey\u001b[0m\u001b[0;34m)\u001b[0m\u001b[0;34m:\u001b[0m\u001b[0;34m\u001b[0m\u001b[0;34m\u001b[0m\u001b[0m\n\u001b[0;32m-> 3449\u001b[0;31m             \u001b[0;32mreturn\u001b[0m \u001b[0mself\u001b[0m\u001b[0;34m.\u001b[0m\u001b[0m_getitem_bool_array\u001b[0m\u001b[0;34m(\u001b[0m\u001b[0mkey\u001b[0m\u001b[0;34m)\u001b[0m\u001b[0;34m\u001b[0m\u001b[0;34m\u001b[0m\u001b[0m\n\u001b[0m\u001b[1;32m   3450\u001b[0m \u001b[0;34m\u001b[0m\u001b[0m\n\u001b[1;32m   3451\u001b[0m         \u001b[0;31m# We are left with two options: a single key, and a collection of keys,\u001b[0m\u001b[0;34m\u001b[0m\u001b[0;34m\u001b[0m\u001b[0;34m\u001b[0m\u001b[0m\n",
      "\u001b[0;32m~/anaconda3/lib/python3.7/site-packages/pandas/core/frame.py\u001b[0m in \u001b[0;36m_getitem_bool_array\u001b[0;34m(self, key)\u001b[0m\n\u001b[1;32m   3502\u001b[0m         \u001b[0mkey\u001b[0m \u001b[0;34m=\u001b[0m \u001b[0mcheck_bool_indexer\u001b[0m\u001b[0;34m(\u001b[0m\u001b[0mself\u001b[0m\u001b[0;34m.\u001b[0m\u001b[0mindex\u001b[0m\u001b[0;34m,\u001b[0m \u001b[0mkey\u001b[0m\u001b[0;34m)\u001b[0m\u001b[0;34m\u001b[0m\u001b[0;34m\u001b[0m\u001b[0m\n\u001b[1;32m   3503\u001b[0m         \u001b[0mindexer\u001b[0m \u001b[0;34m=\u001b[0m \u001b[0mkey\u001b[0m\u001b[0;34m.\u001b[0m\u001b[0mnonzero\u001b[0m\u001b[0;34m(\u001b[0m\u001b[0;34m)\u001b[0m\u001b[0;34m[\u001b[0m\u001b[0;36m0\u001b[0m\u001b[0;34m]\u001b[0m\u001b[0;34m\u001b[0m\u001b[0;34m\u001b[0m\u001b[0m\n\u001b[0;32m-> 3504\u001b[0;31m         \u001b[0;32mreturn\u001b[0m \u001b[0mself\u001b[0m\u001b[0;34m.\u001b[0m\u001b[0m_take_with_is_copy\u001b[0m\u001b[0;34m(\u001b[0m\u001b[0mindexer\u001b[0m\u001b[0;34m,\u001b[0m \u001b[0maxis\u001b[0m\u001b[0;34m=\u001b[0m\u001b[0;36m0\u001b[0m\u001b[0;34m)\u001b[0m\u001b[0;34m\u001b[0m\u001b[0;34m\u001b[0m\u001b[0m\n\u001b[0m\u001b[1;32m   3505\u001b[0m \u001b[0;34m\u001b[0m\u001b[0m\n\u001b[1;32m   3506\u001b[0m     \u001b[0;32mdef\u001b[0m \u001b[0m_getitem_multilevel\u001b[0m\u001b[0;34m(\u001b[0m\u001b[0mself\u001b[0m\u001b[0;34m,\u001b[0m \u001b[0mkey\u001b[0m\u001b[0;34m)\u001b[0m\u001b[0;34m:\u001b[0m\u001b[0;34m\u001b[0m\u001b[0;34m\u001b[0m\u001b[0m\n",
      "\u001b[0;32m~/anaconda3/lib/python3.7/site-packages/pandas/core/generic.py\u001b[0m in \u001b[0;36m_take_with_is_copy\u001b[0;34m(self, indices, axis)\u001b[0m\n\u001b[1;32m   3626\u001b[0m         \u001b[0mSee\u001b[0m \u001b[0mthe\u001b[0m \u001b[0mdocstring\u001b[0m \u001b[0mof\u001b[0m\u001b[0;31m \u001b[0m\u001b[0;31m`\u001b[0m\u001b[0mtake\u001b[0m\u001b[0;31m`\u001b[0m \u001b[0;32mfor\u001b[0m \u001b[0mfull\u001b[0m \u001b[0mexplanation\u001b[0m \u001b[0mof\u001b[0m \u001b[0mthe\u001b[0m \u001b[0mparameters\u001b[0m\u001b[0;34m.\u001b[0m\u001b[0;34m\u001b[0m\u001b[0;34m\u001b[0m\u001b[0m\n\u001b[1;32m   3627\u001b[0m         \"\"\"\n\u001b[0;32m-> 3628\u001b[0;31m         \u001b[0mresult\u001b[0m \u001b[0;34m=\u001b[0m \u001b[0mself\u001b[0m\u001b[0;34m.\u001b[0m\u001b[0mtake\u001b[0m\u001b[0;34m(\u001b[0m\u001b[0mindices\u001b[0m\u001b[0;34m=\u001b[0m\u001b[0mindices\u001b[0m\u001b[0;34m,\u001b[0m \u001b[0maxis\u001b[0m\u001b[0;34m=\u001b[0m\u001b[0maxis\u001b[0m\u001b[0;34m)\u001b[0m\u001b[0;34m\u001b[0m\u001b[0;34m\u001b[0m\u001b[0m\n\u001b[0m\u001b[1;32m   3629\u001b[0m         \u001b[0;31m# Maybe set copy if we didn't actually change the index.\u001b[0m\u001b[0;34m\u001b[0m\u001b[0;34m\u001b[0m\u001b[0;34m\u001b[0m\u001b[0m\n\u001b[1;32m   3630\u001b[0m         \u001b[0;32mif\u001b[0m \u001b[0;32mnot\u001b[0m \u001b[0mresult\u001b[0m\u001b[0;34m.\u001b[0m\u001b[0m_get_axis\u001b[0m\u001b[0;34m(\u001b[0m\u001b[0maxis\u001b[0m\u001b[0;34m)\u001b[0m\u001b[0;34m.\u001b[0m\u001b[0mequals\u001b[0m\u001b[0;34m(\u001b[0m\u001b[0mself\u001b[0m\u001b[0;34m.\u001b[0m\u001b[0m_get_axis\u001b[0m\u001b[0;34m(\u001b[0m\u001b[0maxis\u001b[0m\u001b[0;34m)\u001b[0m\u001b[0;34m)\u001b[0m\u001b[0;34m:\u001b[0m\u001b[0;34m\u001b[0m\u001b[0;34m\u001b[0m\u001b[0m\n",
      "\u001b[0;32m~/anaconda3/lib/python3.7/site-packages/pandas/core/generic.py\u001b[0m in \u001b[0;36mtake\u001b[0;34m(self, indices, axis, is_copy, **kwargs)\u001b[0m\n\u001b[1;32m   3611\u001b[0m         \u001b[0mnv\u001b[0m\u001b[0;34m.\u001b[0m\u001b[0mvalidate_take\u001b[0m\u001b[0;34m(\u001b[0m\u001b[0;34m(\u001b[0m\u001b[0;34m)\u001b[0m\u001b[0;34m,\u001b[0m \u001b[0mkwargs\u001b[0m\u001b[0;34m)\u001b[0m\u001b[0;34m\u001b[0m\u001b[0;34m\u001b[0m\u001b[0m\n\u001b[1;32m   3612\u001b[0m \u001b[0;34m\u001b[0m\u001b[0m\n\u001b[0;32m-> 3613\u001b[0;31m         \u001b[0mself\u001b[0m\u001b[0;34m.\u001b[0m\u001b[0m_consolidate_inplace\u001b[0m\u001b[0;34m(\u001b[0m\u001b[0;34m)\u001b[0m\u001b[0;34m\u001b[0m\u001b[0;34m\u001b[0m\u001b[0m\n\u001b[0m\u001b[1;32m   3614\u001b[0m \u001b[0;34m\u001b[0m\u001b[0m\n\u001b[1;32m   3615\u001b[0m         new_data = self._mgr.take(\n",
      "\u001b[0;32m~/anaconda3/lib/python3.7/site-packages/pandas/core/generic.py\u001b[0m in \u001b[0;36m_consolidate_inplace\u001b[0;34m(self)\u001b[0m\n\u001b[1;32m   5563\u001b[0m             \u001b[0mself\u001b[0m\u001b[0;34m.\u001b[0m\u001b[0m_mgr\u001b[0m \u001b[0;34m=\u001b[0m \u001b[0mself\u001b[0m\u001b[0;34m.\u001b[0m\u001b[0m_mgr\u001b[0m\u001b[0;34m.\u001b[0m\u001b[0mconsolidate\u001b[0m\u001b[0;34m(\u001b[0m\u001b[0;34m)\u001b[0m\u001b[0;34m\u001b[0m\u001b[0;34m\u001b[0m\u001b[0m\n\u001b[1;32m   5564\u001b[0m \u001b[0;34m\u001b[0m\u001b[0m\n\u001b[0;32m-> 5565\u001b[0;31m         \u001b[0mself\u001b[0m\u001b[0;34m.\u001b[0m\u001b[0m_protect_consolidate\u001b[0m\u001b[0;34m(\u001b[0m\u001b[0mf\u001b[0m\u001b[0;34m)\u001b[0m\u001b[0;34m\u001b[0m\u001b[0;34m\u001b[0m\u001b[0m\n\u001b[0m\u001b[1;32m   5566\u001b[0m \u001b[0;34m\u001b[0m\u001b[0m\n\u001b[1;32m   5567\u001b[0m     \u001b[0;34m@\u001b[0m\u001b[0mfinal\u001b[0m\u001b[0;34m\u001b[0m\u001b[0;34m\u001b[0m\u001b[0m\n",
      "\u001b[0;32m~/anaconda3/lib/python3.7/site-packages/pandas/core/generic.py\u001b[0m in \u001b[0;36m_protect_consolidate\u001b[0;34m(self, f)\u001b[0m\n\u001b[1;32m   5551\u001b[0m             \u001b[0;32mreturn\u001b[0m \u001b[0mf\u001b[0m\u001b[0;34m(\u001b[0m\u001b[0;34m)\u001b[0m\u001b[0;34m\u001b[0m\u001b[0;34m\u001b[0m\u001b[0m\n\u001b[1;32m   5552\u001b[0m         \u001b[0mblocks_before\u001b[0m \u001b[0;34m=\u001b[0m \u001b[0mlen\u001b[0m\u001b[0;34m(\u001b[0m\u001b[0mself\u001b[0m\u001b[0;34m.\u001b[0m\u001b[0m_mgr\u001b[0m\u001b[0;34m.\u001b[0m\u001b[0mblocks\u001b[0m\u001b[0;34m)\u001b[0m\u001b[0;34m\u001b[0m\u001b[0;34m\u001b[0m\u001b[0m\n\u001b[0;32m-> 5553\u001b[0;31m         \u001b[0mresult\u001b[0m \u001b[0;34m=\u001b[0m \u001b[0mf\u001b[0m\u001b[0;34m(\u001b[0m\u001b[0;34m)\u001b[0m\u001b[0;34m\u001b[0m\u001b[0;34m\u001b[0m\u001b[0m\n\u001b[0m\u001b[1;32m   5554\u001b[0m         \u001b[0;32mif\u001b[0m \u001b[0mlen\u001b[0m\u001b[0;34m(\u001b[0m\u001b[0mself\u001b[0m\u001b[0;34m.\u001b[0m\u001b[0m_mgr\u001b[0m\u001b[0;34m.\u001b[0m\u001b[0mblocks\u001b[0m\u001b[0;34m)\u001b[0m \u001b[0;34m!=\u001b[0m \u001b[0mblocks_before\u001b[0m\u001b[0;34m:\u001b[0m\u001b[0;34m\u001b[0m\u001b[0;34m\u001b[0m\u001b[0m\n\u001b[1;32m   5555\u001b[0m             \u001b[0mself\u001b[0m\u001b[0;34m.\u001b[0m\u001b[0m_clear_item_cache\u001b[0m\u001b[0;34m(\u001b[0m\u001b[0;34m)\u001b[0m\u001b[0;34m\u001b[0m\u001b[0;34m\u001b[0m\u001b[0m\n",
      "\u001b[0;32m~/anaconda3/lib/python3.7/site-packages/pandas/core/generic.py\u001b[0m in \u001b[0;36mf\u001b[0;34m()\u001b[0m\n\u001b[1;32m   5561\u001b[0m \u001b[0;34m\u001b[0m\u001b[0m\n\u001b[1;32m   5562\u001b[0m         \u001b[0;32mdef\u001b[0m \u001b[0mf\u001b[0m\u001b[0;34m(\u001b[0m\u001b[0;34m)\u001b[0m\u001b[0;34m:\u001b[0m\u001b[0;34m\u001b[0m\u001b[0;34m\u001b[0m\u001b[0m\n\u001b[0;32m-> 5563\u001b[0;31m             \u001b[0mself\u001b[0m\u001b[0;34m.\u001b[0m\u001b[0m_mgr\u001b[0m \u001b[0;34m=\u001b[0m \u001b[0mself\u001b[0m\u001b[0;34m.\u001b[0m\u001b[0m_mgr\u001b[0m\u001b[0;34m.\u001b[0m\u001b[0mconsolidate\u001b[0m\u001b[0;34m(\u001b[0m\u001b[0;34m)\u001b[0m\u001b[0;34m\u001b[0m\u001b[0;34m\u001b[0m\u001b[0m\n\u001b[0m\u001b[1;32m   5564\u001b[0m \u001b[0;34m\u001b[0m\u001b[0m\n\u001b[1;32m   5565\u001b[0m         \u001b[0mself\u001b[0m\u001b[0;34m.\u001b[0m\u001b[0m_protect_consolidate\u001b[0m\u001b[0;34m(\u001b[0m\u001b[0mf\u001b[0m\u001b[0;34m)\u001b[0m\u001b[0;34m\u001b[0m\u001b[0;34m\u001b[0m\u001b[0m\n",
      "\u001b[0;32m~/anaconda3/lib/python3.7/site-packages/pandas/core/internals/managers.py\u001b[0m in \u001b[0;36mconsolidate\u001b[0;34m(self)\u001b[0m\n\u001b[1;32m    617\u001b[0m         \u001b[0mbm\u001b[0m \u001b[0;34m=\u001b[0m \u001b[0mtype\u001b[0m\u001b[0;34m(\u001b[0m\u001b[0mself\u001b[0m\u001b[0;34m)\u001b[0m\u001b[0;34m(\u001b[0m\u001b[0mself\u001b[0m\u001b[0;34m.\u001b[0m\u001b[0mblocks\u001b[0m\u001b[0;34m,\u001b[0m \u001b[0mself\u001b[0m\u001b[0;34m.\u001b[0m\u001b[0maxes\u001b[0m\u001b[0;34m,\u001b[0m \u001b[0mverify_integrity\u001b[0m\u001b[0;34m=\u001b[0m\u001b[0;32mFalse\u001b[0m\u001b[0;34m)\u001b[0m\u001b[0;34m\u001b[0m\u001b[0;34m\u001b[0m\u001b[0m\n\u001b[1;32m    618\u001b[0m         \u001b[0mbm\u001b[0m\u001b[0;34m.\u001b[0m\u001b[0m_is_consolidated\u001b[0m \u001b[0;34m=\u001b[0m \u001b[0;32mFalse\u001b[0m\u001b[0;34m\u001b[0m\u001b[0;34m\u001b[0m\u001b[0m\n\u001b[0;32m--> 619\u001b[0;31m         \u001b[0mbm\u001b[0m\u001b[0;34m.\u001b[0m\u001b[0m_consolidate_inplace\u001b[0m\u001b[0;34m(\u001b[0m\u001b[0;34m)\u001b[0m\u001b[0;34m\u001b[0m\u001b[0;34m\u001b[0m\u001b[0m\n\u001b[0m\u001b[1;32m    620\u001b[0m         \u001b[0;32mreturn\u001b[0m \u001b[0mbm\u001b[0m\u001b[0;34m\u001b[0m\u001b[0;34m\u001b[0m\u001b[0m\n\u001b[1;32m    621\u001b[0m \u001b[0;34m\u001b[0m\u001b[0m\n",
      "\u001b[0;32m~/anaconda3/lib/python3.7/site-packages/pandas/core/internals/managers.py\u001b[0m in \u001b[0;36m_consolidate_inplace\u001b[0;34m(self)\u001b[0m\n\u001b[1;32m    622\u001b[0m     \u001b[0;32mdef\u001b[0m \u001b[0m_consolidate_inplace\u001b[0m\u001b[0;34m(\u001b[0m\u001b[0mself\u001b[0m\u001b[0;34m)\u001b[0m \u001b[0;34m->\u001b[0m \u001b[0;32mNone\u001b[0m\u001b[0;34m:\u001b[0m\u001b[0;34m\u001b[0m\u001b[0;34m\u001b[0m\u001b[0m\n\u001b[1;32m    623\u001b[0m         \u001b[0;32mif\u001b[0m \u001b[0;32mnot\u001b[0m \u001b[0mself\u001b[0m\u001b[0;34m.\u001b[0m\u001b[0mis_consolidated\u001b[0m\u001b[0;34m(\u001b[0m\u001b[0;34m)\u001b[0m\u001b[0;34m:\u001b[0m\u001b[0;34m\u001b[0m\u001b[0;34m\u001b[0m\u001b[0m\n\u001b[0;32m--> 624\u001b[0;31m             \u001b[0mself\u001b[0m\u001b[0;34m.\u001b[0m\u001b[0mblocks\u001b[0m \u001b[0;34m=\u001b[0m \u001b[0mtuple\u001b[0m\u001b[0;34m(\u001b[0m\u001b[0m_consolidate\u001b[0m\u001b[0;34m(\u001b[0m\u001b[0mself\u001b[0m\u001b[0;34m.\u001b[0m\u001b[0mblocks\u001b[0m\u001b[0;34m)\u001b[0m\u001b[0;34m)\u001b[0m\u001b[0;34m\u001b[0m\u001b[0;34m\u001b[0m\u001b[0m\n\u001b[0m\u001b[1;32m    625\u001b[0m             \u001b[0mself\u001b[0m\u001b[0;34m.\u001b[0m\u001b[0m_is_consolidated\u001b[0m \u001b[0;34m=\u001b[0m \u001b[0;32mTrue\u001b[0m\u001b[0;34m\u001b[0m\u001b[0;34m\u001b[0m\u001b[0m\n\u001b[1;32m    626\u001b[0m             \u001b[0mself\u001b[0m\u001b[0;34m.\u001b[0m\u001b[0m_known_consolidated\u001b[0m \u001b[0;34m=\u001b[0m \u001b[0;32mTrue\u001b[0m\u001b[0;34m\u001b[0m\u001b[0;34m\u001b[0m\u001b[0m\n",
      "\u001b[0;32m~/anaconda3/lib/python3.7/site-packages/pandas/core/internals/managers.py\u001b[0m in \u001b[0;36m_consolidate\u001b[0;34m(blocks)\u001b[0m\n\u001b[1;32m   1973\u001b[0m     \u001b[0;32mfor\u001b[0m \u001b[0;34m(\u001b[0m\u001b[0m_can_consolidate\u001b[0m\u001b[0;34m,\u001b[0m \u001b[0mdtype\u001b[0m\u001b[0;34m)\u001b[0m\u001b[0;34m,\u001b[0m \u001b[0mgroup_blocks\u001b[0m \u001b[0;32min\u001b[0m \u001b[0mgrouper\u001b[0m\u001b[0;34m:\u001b[0m\u001b[0;34m\u001b[0m\u001b[0;34m\u001b[0m\u001b[0m\n\u001b[1;32m   1974\u001b[0m         merged_blocks = _merge_blocks(\n\u001b[0;32m-> 1975\u001b[0;31m             \u001b[0mlist\u001b[0m\u001b[0;34m(\u001b[0m\u001b[0mgroup_blocks\u001b[0m\u001b[0;34m)\u001b[0m\u001b[0;34m,\u001b[0m \u001b[0mdtype\u001b[0m\u001b[0;34m=\u001b[0m\u001b[0mdtype\u001b[0m\u001b[0;34m,\u001b[0m \u001b[0mcan_consolidate\u001b[0m\u001b[0;34m=\u001b[0m\u001b[0m_can_consolidate\u001b[0m\u001b[0;34m\u001b[0m\u001b[0;34m\u001b[0m\u001b[0m\n\u001b[0m\u001b[1;32m   1976\u001b[0m         )\n\u001b[1;32m   1977\u001b[0m         \u001b[0mnew_blocks\u001b[0m \u001b[0;34m=\u001b[0m \u001b[0mextend_blocks\u001b[0m\u001b[0;34m(\u001b[0m\u001b[0mmerged_blocks\u001b[0m\u001b[0;34m,\u001b[0m \u001b[0mnew_blocks\u001b[0m\u001b[0;34m)\u001b[0m\u001b[0;34m\u001b[0m\u001b[0;34m\u001b[0m\u001b[0m\n",
      "\u001b[0;32m~/anaconda3/lib/python3.7/site-packages/pandas/core/internals/managers.py\u001b[0m in \u001b[0;36m_merge_blocks\u001b[0;34m(blocks, dtype, can_consolidate)\u001b[0m\n\u001b[1;32m   2006\u001b[0m \u001b[0;34m\u001b[0m\u001b[0m\n\u001b[1;32m   2007\u001b[0m         \u001b[0margsort\u001b[0m \u001b[0;34m=\u001b[0m \u001b[0mnp\u001b[0m\u001b[0;34m.\u001b[0m\u001b[0margsort\u001b[0m\u001b[0;34m(\u001b[0m\u001b[0mnew_mgr_locs\u001b[0m\u001b[0;34m)\u001b[0m\u001b[0;34m\u001b[0m\u001b[0;34m\u001b[0m\u001b[0m\n\u001b[0;32m-> 2008\u001b[0;31m         \u001b[0mnew_values\u001b[0m \u001b[0;34m=\u001b[0m \u001b[0mnew_values\u001b[0m\u001b[0;34m[\u001b[0m\u001b[0margsort\u001b[0m\u001b[0;34m]\u001b[0m\u001b[0;34m\u001b[0m\u001b[0;34m\u001b[0m\u001b[0m\n\u001b[0m\u001b[1;32m   2009\u001b[0m         \u001b[0mnew_mgr_locs\u001b[0m \u001b[0;34m=\u001b[0m \u001b[0mnew_mgr_locs\u001b[0m\u001b[0;34m[\u001b[0m\u001b[0margsort\u001b[0m\u001b[0;34m]\u001b[0m\u001b[0;34m\u001b[0m\u001b[0;34m\u001b[0m\u001b[0m\n\u001b[1;32m   2010\u001b[0m \u001b[0;34m\u001b[0m\u001b[0m\n",
      "\u001b[0;31mMemoryError\u001b[0m: Unable to allocate 2.57 GiB for an array with shape (7, 98607821) and data type float32"
     ]
    }
   ],
   "source": [
    "foil0Type0Det1 = foil0Type0[foil0Type0['E2'] == 0.0]"
   ]
  },
  {
   "cell_type": "code",
   "execution_count": 20,
   "metadata": {},
   "outputs": [],
   "source": [
    "foil0Type0Det1 = foil0Type0Det1[foil0Type0Det1['KE'] < 370]"
   ]
  },
  {
   "cell_type": "code",
   "execution_count": 21,
   "metadata": {},
   "outputs": [
    {
     "data": {
      "text/html": [
       "<div>\n",
       "<style scoped>\n",
       "    .dataframe tbody tr th:only-of-type {\n",
       "        vertical-align: middle;\n",
       "    }\n",
       "\n",
       "    .dataframe tbody tr th {\n",
       "        vertical-align: top;\n",
       "    }\n",
       "\n",
       "    .dataframe thead th {\n",
       "        text-align: right;\n",
       "    }\n",
       "</style>\n",
       "<table border=\"1\" class=\"dataframe\">\n",
       "  <thead>\n",
       "    <tr style=\"text-align: right;\">\n",
       "      <th></th>\n",
       "      <th>Evt_id</th>\n",
       "      <th>KE</th>\n",
       "      <th>E1</th>\n",
       "      <th>E2</th>\n",
       "      <th>costh</th>\n",
       "      <th>t1</th>\n",
       "      <th>t2</th>\n",
       "    </tr>\n",
       "  </thead>\n",
       "  <tbody>\n",
       "    <tr>\n",
       "      <th>0</th>\n",
       "      <td>0</td>\n",
       "      <td>364</td>\n",
       "      <td>362.044006</td>\n",
       "      <td>0.0</td>\n",
       "      <td>0.584861</td>\n",
       "      <td>8.347490e-09</td>\n",
       "      <td>-5.000000e-09</td>\n",
       "    </tr>\n",
       "    <tr>\n",
       "      <th>3</th>\n",
       "      <td>3</td>\n",
       "      <td>364</td>\n",
       "      <td>360.477997</td>\n",
       "      <td>0.0</td>\n",
       "      <td>0.867632</td>\n",
       "      <td>1.251320e-08</td>\n",
       "      <td>-5.000000e-09</td>\n",
       "    </tr>\n",
       "    <tr>\n",
       "      <th>6</th>\n",
       "      <td>6</td>\n",
       "      <td>364</td>\n",
       "      <td>361.239014</td>\n",
       "      <td>0.0</td>\n",
       "      <td>0.993441</td>\n",
       "      <td>2.948790e-09</td>\n",
       "      <td>-5.000000e-09</td>\n",
       "    </tr>\n",
       "    <tr>\n",
       "      <th>12</th>\n",
       "      <td>12</td>\n",
       "      <td>364</td>\n",
       "      <td>361.799988</td>\n",
       "      <td>0.0</td>\n",
       "      <td>0.986554</td>\n",
       "      <td>1.002340e-08</td>\n",
       "      <td>-5.000000e-09</td>\n",
       "    </tr>\n",
       "    <tr>\n",
       "      <th>13</th>\n",
       "      <td>13</td>\n",
       "      <td>364</td>\n",
       "      <td>361.023987</td>\n",
       "      <td>0.0</td>\n",
       "      <td>0.917017</td>\n",
       "      <td>1.149230e-08</td>\n",
       "      <td>-5.000000e-09</td>\n",
       "    </tr>\n",
       "  </tbody>\n",
       "</table>\n",
       "</div>"
      ],
      "text/plain": [
       "    Evt_id   KE          E1   E2     costh            t1            t2\n",
       "0        0  364  362.044006  0.0  0.584861  8.347490e-09 -5.000000e-09\n",
       "3        3  364  360.477997  0.0  0.867632  1.251320e-08 -5.000000e-09\n",
       "6        6  364  361.239014  0.0  0.993441  2.948790e-09 -5.000000e-09\n",
       "12      12  364  361.799988  0.0  0.986554  1.002340e-08 -5.000000e-09\n",
       "13      13  364  361.023987  0.0  0.917017  1.149230e-08 -5.000000e-09"
      ]
     },
     "execution_count": 21,
     "metadata": {},
     "output_type": "execute_result"
    }
   ],
   "source": [
    "foil0Type0Det1.head()"
   ]
  },
  {
   "cell_type": "markdown",
   "metadata": {},
   "source": [
    "type 1 detector 1 only "
   ]
  },
  {
   "cell_type": "code",
   "execution_count": 23,
   "metadata": {},
   "outputs": [],
   "source": [
    "foil0Type1 = foil0Type1[foil0Type1['KE'] < 370]"
   ]
  },
  {
   "cell_type": "code",
   "execution_count": 24,
   "metadata": {},
   "outputs": [],
   "source": [
    "foil0Type1Det1 = foil0Type1[foil0Type1['t1'] < foil0Type1['t2']]"
   ]
  },
  {
   "cell_type": "code",
   "execution_count": null,
   "metadata": {},
   "outputs": [],
   "source": [
    "foil0Type1Det1['degree'] = np.arccos(foil0Type1Det1['costh'])"
   ]
  },
  {
   "cell_type": "code",
   "execution_count": 27,
   "metadata": {},
   "outputs": [],
   "source": [
    "det1FirstFioil0 = pd.concat([foil0Type0Det1, foil0Type1Det1], ignore_index=True)"
   ]
  },
  {
   "cell_type": "code",
   "execution_count": 28,
   "metadata": {},
   "outputs": [
    {
     "name": "stdout",
     "output_type": "stream",
     "text": [
      "<class 'pandas.core.frame.DataFrame'>\n",
      "RangeIndex: 49855758 entries, 0 to 49855757\n",
      "Data columns (total 8 columns):\n",
      " #   Column  Dtype  \n",
      "---  ------  -----  \n",
      " 0   Evt_id  uint32 \n",
      " 1   KE      uint32 \n",
      " 2   E1      float32\n",
      " 3   E2      float32\n",
      " 4   costh   float32\n",
      " 5   t1      float32\n",
      " 6   t2      float32\n",
      " 7   degree  float32\n",
      "dtypes: float32(6), uint32(2)\n",
      "memory usage: 1.5 GB\n"
     ]
    }
   ],
   "source": [
    "det1FirstFioil0.info()"
   ]
  },
  {
   "cell_type": "code",
   "execution_count": 29,
   "metadata": {},
   "outputs": [
    {
     "ename": "",
     "evalue": "",
     "output_type": "error",
     "traceback": [
      "\u001b[1;31mCanceled future for execute_request message before replies were done"
     ]
    },
    {
     "ename": "",
     "evalue": "",
     "output_type": "error",
     "traceback": [
      "\u001b[1;31mThe Kernel crashed while executing code in the the current cell or a previous cell. Please review the code in the cell(s) to identify a possible cause of the failure. Click <a href='https://aka.ms/vscodeJupyterKernelCrash'>here</a> for more info. View Jupyter <a href='command:jupyter.viewOutput'>log</a> for further details."
     ]
    }
   ],
   "source": [
    "plt.figure(figsize=(12,8))\n",
    "sns.histplot(det1FirstFioil0['degree'], bins = 100)\n",
    "plt.grid()"
   ]
  },
  {
   "cell_type": "code",
   "execution_count": null,
   "metadata": {},
   "outputs": [],
   "source": [
    "det1FirstFioil0.tail(10)"
   ]
  },
  {
   "cell_type": "code",
   "execution_count": 28,
   "metadata": {},
   "outputs": [
    {
     "data": {
      "text/plain": [
       "6716"
      ]
     },
     "execution_count": 28,
     "metadata": {},
     "output_type": "execute_result"
    }
   ],
   "source": [
    "(det1FirstFioil0['costh'] < 0).sum()"
   ]
  },
  {
   "cell_type": "code",
   "execution_count": 26,
   "metadata": {},
   "outputs": [
    {
     "data": {
      "text/plain": [
       "<matplotlib.axes._subplots.AxesSubplot at 0x7f5d9aaf4438>"
      ]
     },
     "execution_count": 26,
     "metadata": {},
     "output_type": "execute_result"
    },
    {
     "data": {
      "image/png": "[encoded data removed]",
      "text/plain": [
       "<Figure size 864x576 with 1 Axes>"
      ]
     },
     "metadata": {
      "needs_background": "light"
     },
     "output_type": "display_data"
    }
   ],
   "source": [
    "plt.figure(figsize = (12, 8))\n",
    "sns.histplot(det1FirstFioil0['costh'], stat = 'probability', )"
   ]
  },
  {
   "cell_type": "markdown",
   "metadata": {},
   "source": [
    "plotting the statistics for it \n"
   ]
  },
  {
   "cell_type": "code",
   "execution_count": null,
   "metadata": {},
   "outputs": [],
   "source": [
    "mean_stat = scipy.stats.binned_statistic(x = det1FirstFioil0['costh'], values = np.cos(df['thetaIn1']), statistic='mean', bins = 200, range = (-1, 1))\n"
   ]
  },
  {
   "cell_type": "code",
   "execution_count": 26,
   "metadata": {},
   "outputs": [
    {
     "name": "stdout",
     "output_type": "stream",
     "text": [
      "<class 'pandas.core.frame.DataFrame'>\n",
      "RangeIndex: 1320640 entries, 0 to 1320639\n",
      "Data columns (total 7 columns):\n",
      " #   Column  Non-Null Count    Dtype  \n",
      "---  ------  --------------    -----  \n",
      " 0   Evt_id  1320640 non-null  uint32 \n",
      " 1   KE      1320640 non-null  uint32 \n",
      " 2   E1      1320640 non-null  float32\n",
      " 3   E2      1320640 non-null  float32\n",
      " 4   costh   1320640 non-null  float32\n",
      " 5   t1      1320640 non-null  float32\n",
      " 6   t2      1320640 non-null  float32\n",
      "dtypes: float32(5), uint32(2)\n",
      "memory usage: 35.3 MB\n"
     ]
    }
   ],
   "source": [
    "foil0Type1.info()"
   ]
  },
  {
   "cell_type": "code",
   "execution_count": 8,
   "metadata": {},
   "outputs": [
    {
     "data": {
      "text/plain": [
       "<matplotlib.axes._subplots.AxesSubplot at 0x7f2fa190c3c8>"
      ]
     },
     "execution_count": 8,
     "metadata": {},
     "output_type": "execute_result"
    },
    {
     "data": {
      "image/png": "[encoded data removed]",
      "text/plain": [
       "<Figure size 432x288 with 1 Axes>"
      ]
     },
     "metadata": {
      "needs_background": "light"
     },
     "output_type": "display_data"
    }
   ],
   "source": [
    "sns.histplot(foil0Type1['costh'])"
   ]
  },
  {
   "cell_type": "code",
   "execution_count": 12,
   "metadata": {},
   "outputs": [
    {
     "data": {
      "text/plain": [
       "<matplotlib.axes._subplots.AxesSubplot at 0x7f2f9b5170f0>"
      ]
     },
     "execution_count": 12,
     "metadata": {},
     "output_type": "execute_result"
    },
    {
     "data": {
      "image/png": "[encoded data removed]",
      "text/plain": [
       "<Figure size 432x288 with 1 Axes>"
      ]
     },
     "metadata": {
      "needs_background": "light"
     },
     "output_type": "display_data"
    }
   ],
   "source": [
    "sns.histplot(foil0Type0['costh'])"
   ]
  },
  {
   "cell_type": "code",
   "execution_count": 29,
   "metadata": {},
   "outputs": [],
   "source": [
    "foil0 = pd.concat([foil0Type0, foil0Type1], ignore_index= True)"
   ]
  },
  {
   "cell_type": "code",
   "execution_count": 30,
   "metadata": {},
   "outputs": [
    {
     "name": "stdout",
     "output_type": "stream",
     "text": [
      "<class 'pandas.core.frame.DataFrame'>\n",
      "RangeIndex: 99694530 entries, 0 to 99694529\n",
      "Data columns (total 7 columns):\n",
      " #   Column  Dtype  \n",
      "---  ------  -----  \n",
      " 0   Evt_id  uint32 \n",
      " 1   KE      uint32 \n",
      " 2   E1      float32\n",
      " 3   E2      float32\n",
      " 4   costh   float32\n",
      " 5   t1      float32\n",
      " 6   t2      float32\n",
      "dtypes: float32(5), uint32(2)\n",
      "memory usage: 2.6 GB\n"
     ]
    }
   ],
   "source": [
    "foil0.info()"
   ]
  },
  {
   "cell_type": "code",
   "execution_count": 12,
   "metadata": {},
   "outputs": [
    {
     "name": "stdout",
     "output_type": "stream",
     "text": [
      "<class 'pandas.core.frame.DataFrame'>\n",
      "RangeIndex: 99928461 entries, 0 to 99928460\n",
      "Data columns (total 7 columns):\n",
      " #   Column  Dtype  \n",
      "---  ------  -----  \n",
      " 0   Evt_id  uint32 \n",
      " 1   KE      uint32 \n",
      " 2   E1      float32\n",
      " 3   E2      float32\n",
      " 4   costh   float32\n",
      " 5   t1      float32\n",
      " 6   t2      float32\n",
      "dtypes: float32(5), uint32(2)\n",
      "memory usage: 2.6 GB\n"
     ]
    }
   ],
   "source": [
    "foil0.info()"
   ]
  },
  {
   "cell_type": "code",
   "execution_count": 31,
   "metadata": {},
   "outputs": [
    {
     "ename": "",
     "evalue": "",
     "output_type": "error",
     "traceback": [
      "\u001b[1;31mCanceled future for execute_request message before replies were done"
     ]
    },
    {
     "ename": "",
     "evalue": "",
     "output_type": "error",
     "traceback": [
      "\u001b[1;31mThe Kernel crashed while executing code in the the current cell or a previous cell. Please review the code in the cell(s) to identify a possible cause of the failure. Click <a href='https://aka.ms/vscodeJupyterKernelCrash'>here</a> for more info. View Jupyter <a href='command:jupyter.viewOutput'>log</a> for further details."
     ]
    }
   ],
   "source": [
    "plt.figure(figsize = (12, 8))\n",
    "sns.histplot(det1FirstFioil0['costh'], stat = 'probability', )"
   ]
  },
  {
   "cell_type": "code",
   "execution_count": 18,
   "metadata": {},
   "outputs": [],
   "source": [
    "type1SmallAngle = foil0Type1[foil0Type1['costh']>0.95]"
   ]
  },
  {
   "cell_type": "code",
   "execution_count": 19,
   "metadata": {},
   "outputs": [
    {
     "name": "stdout",
     "output_type": "stream",
     "text": [
      "<class 'pandas.core.frame.DataFrame'>\n",
      "Int64Index: 32082 entries, 56 to 1320588\n",
      "Data columns (total 7 columns):\n",
      " #   Column  Non-Null Count  Dtype  \n",
      "---  ------  --------------  -----  \n",
      " 0   Evt_id  32082 non-null  uint32 \n",
      " 1   KE      32082 non-null  uint32 \n",
      " 2   E1      32082 non-null  float32\n",
      " 3   E2      32082 non-null  float32\n",
      " 4   costh   32082 non-null  float32\n",
      " 5   t1      32082 non-null  float32\n",
      " 6   t2      32082 non-null  float32\n",
      "dtypes: float32(5), uint32(2)\n",
      "memory usage: 1.1 MB\n"
     ]
    }
   ],
   "source": [
    "type1SmallAngle.info()"
   ]
  },
  {
   "cell_type": "code",
   "execution_count": 20,
   "metadata": {},
   "outputs": [
    {
     "data": {
      "text/plain": [
       "<matplotlib.axes._subplots.AxesSubplot at 0x7f7598843a20>"
      ]
     },
     "execution_count": 20,
     "metadata": {},
     "output_type": "execute_result"
    },
    {
     "data": {
      "image/png": "[encoded data removed]",
      "text/plain": [
       "<Figure size 432x288 with 1 Axes>"
      ]
     },
     "metadata": {
      "needs_background": "light"
     },
     "output_type": "display_data"
    }
   ],
   "source": [
    "sns.histplot(type1SmallAngle['costh'])"
   ]
  },
  {
   "cell_type": "code",
   "execution_count": 22,
   "metadata": {},
   "outputs": [
    {
     "data": {
      "text/html": [
       "<div>\n",
       "<style scoped>\n",
       "    .dataframe tbody tr th:only-of-type {\n",
       "        vertical-align: middle;\n",
       "    }\n",
       "\n",
       "    .dataframe tbody tr th {\n",
       "        vertical-align: top;\n",
       "    }\n",
       "\n",
       "    .dataframe thead th {\n",
       "        text-align: right;\n",
       "    }\n",
       "</style>\n",
       "<table border=\"1\" class=\"dataframe\">\n",
       "  <thead>\n",
       "    <tr style=\"text-align: right;\">\n",
       "      <th></th>\n",
       "      <th>Evt_id</th>\n",
       "      <th>KE</th>\n",
       "      <th>E1</th>\n",
       "      <th>E2</th>\n",
       "      <th>costh</th>\n",
       "      <th>t1</th>\n",
       "      <th>t2</th>\n",
       "    </tr>\n",
       "  </thead>\n",
       "  <tbody>\n",
       "    <tr>\n",
       "      <th>56</th>\n",
       "      <td>4377</td>\n",
       "      <td>364</td>\n",
       "      <td>254.507996</td>\n",
       "      <td>102.430000</td>\n",
       "      <td>0.997415</td>\n",
       "      <td>1.492590e-08</td>\n",
       "      <td>5.259890e-08</td>\n",
       "    </tr>\n",
       "    <tr>\n",
       "      <th>76</th>\n",
       "      <td>6327</td>\n",
       "      <td>364</td>\n",
       "      <td>189.626007</td>\n",
       "      <td>169.319000</td>\n",
       "      <td>0.985176</td>\n",
       "      <td>5.697160e-09</td>\n",
       "      <td>6.918510e-08</td>\n",
       "    </tr>\n",
       "    <tr>\n",
       "      <th>82</th>\n",
       "      <td>6381</td>\n",
       "      <td>388</td>\n",
       "      <td>313.851990</td>\n",
       "      <td>66.702400</td>\n",
       "      <td>0.991750</td>\n",
       "      <td>7.393760e-09</td>\n",
       "      <td>4.636490e-08</td>\n",
       "    </tr>\n",
       "    <tr>\n",
       "      <th>123</th>\n",
       "      <td>9575</td>\n",
       "      <td>364</td>\n",
       "      <td>72.690102</td>\n",
       "      <td>288.862000</td>\n",
       "      <td>0.994133</td>\n",
       "      <td>1.108930e-08</td>\n",
       "      <td>3.049510e-08</td>\n",
       "    </tr>\n",
       "    <tr>\n",
       "      <th>260</th>\n",
       "      <td>19168</td>\n",
       "      <td>364</td>\n",
       "      <td>281.140015</td>\n",
       "      <td>76.143097</td>\n",
       "      <td>0.982573</td>\n",
       "      <td>1.486880e-08</td>\n",
       "      <td>4.890330e-08</td>\n",
       "    </tr>\n",
       "    <tr>\n",
       "      <th>295</th>\n",
       "      <td>21052</td>\n",
       "      <td>364</td>\n",
       "      <td>51.576500</td>\n",
       "      <td>306.326996</td>\n",
       "      <td>0.972134</td>\n",
       "      <td>7.709220e-09</td>\n",
       "      <td>3.608970e-08</td>\n",
       "    </tr>\n",
       "    <tr>\n",
       "      <th>359</th>\n",
       "      <td>26418</td>\n",
       "      <td>364</td>\n",
       "      <td>196.229996</td>\n",
       "      <td>163.766006</td>\n",
       "      <td>0.994998</td>\n",
       "      <td>1.125650e-08</td>\n",
       "      <td>4.054090e-08</td>\n",
       "    </tr>\n",
       "    <tr>\n",
       "      <th>405</th>\n",
       "      <td>29549</td>\n",
       "      <td>364</td>\n",
       "      <td>319.015991</td>\n",
       "      <td>34.332199</td>\n",
       "      <td>0.997370</td>\n",
       "      <td>1.004340e-08</td>\n",
       "      <td>7.765200e-08</td>\n",
       "    </tr>\n",
       "    <tr>\n",
       "      <th>452</th>\n",
       "      <td>32891</td>\n",
       "      <td>364</td>\n",
       "      <td>228.261993</td>\n",
       "      <td>95.464302</td>\n",
       "      <td>0.995444</td>\n",
       "      <td>5.593690e-08</td>\n",
       "      <td>5.331390e-08</td>\n",
       "    </tr>\n",
       "    <tr>\n",
       "      <th>526</th>\n",
       "      <td>38555</td>\n",
       "      <td>364</td>\n",
       "      <td>291.319000</td>\n",
       "      <td>66.780998</td>\n",
       "      <td>0.960822</td>\n",
       "      <td>1.081870e-08</td>\n",
       "      <td>5.987290e-08</td>\n",
       "    </tr>\n",
       "    <tr>\n",
       "      <th>824</th>\n",
       "      <td>58840</td>\n",
       "      <td>364</td>\n",
       "      <td>216.054993</td>\n",
       "      <td>143.438004</td>\n",
       "      <td>0.984622</td>\n",
       "      <td>3.362660e-09</td>\n",
       "      <td>3.090250e-08</td>\n",
       "    </tr>\n",
       "    <tr>\n",
       "      <th>844</th>\n",
       "      <td>60892</td>\n",
       "      <td>364</td>\n",
       "      <td>185.587006</td>\n",
       "      <td>162.367996</td>\n",
       "      <td>0.997584</td>\n",
       "      <td>1.041700e-08</td>\n",
       "      <td>3.716540e-08</td>\n",
       "    </tr>\n",
       "    <tr>\n",
       "      <th>953</th>\n",
       "      <td>69721</td>\n",
       "      <td>388</td>\n",
       "      <td>278.884003</td>\n",
       "      <td>101.668999</td>\n",
       "      <td>0.996509</td>\n",
       "      <td>7.006470e-09</td>\n",
       "      <td>3.338000e-08</td>\n",
       "    </tr>\n",
       "    <tr>\n",
       "      <th>979</th>\n",
       "      <td>71555</td>\n",
       "      <td>364</td>\n",
       "      <td>257.575989</td>\n",
       "      <td>102.140999</td>\n",
       "      <td>0.992063</td>\n",
       "      <td>1.514190e-08</td>\n",
       "      <td>4.718710e-08</td>\n",
       "    </tr>\n",
       "    <tr>\n",
       "      <th>997</th>\n",
       "      <td>73004</td>\n",
       "      <td>364</td>\n",
       "      <td>229.432007</td>\n",
       "      <td>119.239998</td>\n",
       "      <td>0.995296</td>\n",
       "      <td>1.278180e-08</td>\n",
       "      <td>4.194860e-08</td>\n",
       "    </tr>\n",
       "    <tr>\n",
       "      <th>1201</th>\n",
       "      <td>89328</td>\n",
       "      <td>364</td>\n",
       "      <td>121.127998</td>\n",
       "      <td>238.529007</td>\n",
       "      <td>0.973573</td>\n",
       "      <td>6.374630e-09</td>\n",
       "      <td>2.830780e-08</td>\n",
       "    </tr>\n",
       "    <tr>\n",
       "      <th>1233</th>\n",
       "      <td>92268</td>\n",
       "      <td>388</td>\n",
       "      <td>219.944000</td>\n",
       "      <td>136.494995</td>\n",
       "      <td>0.999999</td>\n",
       "      <td>3.206180e-09</td>\n",
       "      <td>3.069210e-08</td>\n",
       "    </tr>\n",
       "    <tr>\n",
       "      <th>1287</th>\n",
       "      <td>95760</td>\n",
       "      <td>388</td>\n",
       "      <td>96.660599</td>\n",
       "      <td>287.105988</td>\n",
       "      <td>0.957575</td>\n",
       "      <td>1.498380e-08</td>\n",
       "      <td>4.893930e-08</td>\n",
       "    </tr>\n",
       "    <tr>\n",
       "      <th>1319</th>\n",
       "      <td>97831</td>\n",
       "      <td>364</td>\n",
       "      <td>131.901001</td>\n",
       "      <td>228.550003</td>\n",
       "      <td>0.955488</td>\n",
       "      <td>1.297860e-08</td>\n",
       "      <td>4.599160e-08</td>\n",
       "    </tr>\n",
       "    <tr>\n",
       "      <th>1345</th>\n",
       "      <td>99414</td>\n",
       "      <td>364</td>\n",
       "      <td>61.534901</td>\n",
       "      <td>297.290009</td>\n",
       "      <td>0.975045</td>\n",
       "      <td>4.149880e-09</td>\n",
       "      <td>2.823250e-08</td>\n",
       "    </tr>\n",
       "  </tbody>\n",
       "</table>\n",
       "</div>"
      ],
      "text/plain": [
       "      Evt_id   KE          E1          E2     costh            t1  \\\n",
       "56      4377  364  254.507996  102.430000  0.997415  1.492590e-08   \n",
       "76      6327  364  189.626007  169.319000  0.985176  5.697160e-09   \n",
       "82      6381  388  313.851990   66.702400  0.991750  7.393760e-09   \n",
       "123     9575  364   72.690102  288.862000  0.994133  1.108930e-08   \n",
       "260    19168  364  281.140015   76.143097  0.982573  1.486880e-08   \n",
       "295    21052  364   51.576500  306.326996  0.972134  7.709220e-09   \n",
       "359    26418  364  196.229996  163.766006  0.994998  1.125650e-08   \n",
       "405    29549  364  319.015991   34.332199  0.997370  1.004340e-08   \n",
       "452    32891  364  228.261993   95.464302  0.995444  5.593690e-08   \n",
       "526    38555  364  291.319000   66.780998  0.960822  1.081870e-08   \n",
       "824    58840  364  216.054993  143.438004  0.984622  3.362660e-09   \n",
       "844    60892  364  185.587006  162.367996  0.997584  1.041700e-08   \n",
       "953    69721  388  278.884003  101.668999  0.996509  7.006470e-09   \n",
       "979    71555  364  257.575989  102.140999  0.992063  1.514190e-08   \n",
       "997    73004  364  229.432007  119.239998  0.995296  1.278180e-08   \n",
       "1201   89328  364  121.127998  238.529007  0.973573  6.374630e-09   \n",
       "1233   92268  388  219.944000  136.494995  0.999999  3.206180e-09   \n",
       "1287   95760  388   96.660599  287.105988  0.957575  1.498380e-08   \n",
       "1319   97831  364  131.901001  228.550003  0.955488  1.297860e-08   \n",
       "1345   99414  364   61.534901  297.290009  0.975045  4.149880e-09   \n",
       "\n",
       "                t2  \n",
       "56    5.259890e-08  \n",
       "76    6.918510e-08  \n",
       "82    4.636490e-08  \n",
       "123   3.049510e-08  \n",
       "260   4.890330e-08  \n",
       "295   3.608970e-08  \n",
       "359   4.054090e-08  \n",
       "405   7.765200e-08  \n",
       "452   5.331390e-08  \n",
       "526   5.987290e-08  \n",
       "824   3.090250e-08  \n",
       "844   3.716540e-08  \n",
       "953   3.338000e-08  \n",
       "979   4.718710e-08  \n",
       "997   4.194860e-08  \n",
       "1201  2.830780e-08  \n",
       "1233  3.069210e-08  \n",
       "1287  4.893930e-08  \n",
       "1319  4.599160e-08  \n",
       "1345  2.823250e-08  "
      ]
     },
     "execution_count": 22,
     "metadata": {},
     "output_type": "execute_result"
    }
   ],
   "source": [
    "type1SmallAngle.head(20)"
   ]
  },
  {
   "cell_type": "code",
   "execution_count": 23,
   "metadata": {},
   "outputs": [],
   "source": [
    "evtsT1Bigger = type1SmallAngle[type1SmallAngle['t1'] > type1SmallAngle['t2']]"
   ]
  },
  {
   "cell_type": "code",
   "execution_count": 25,
   "metadata": {},
   "outputs": [
    {
     "data": {
      "text/html": [
       "<div>\n",
       "<style scoped>\n",
       "    .dataframe tbody tr th:only-of-type {\n",
       "        vertical-align: middle;\n",
       "    }\n",
       "\n",
       "    .dataframe tbody tr th {\n",
       "        vertical-align: top;\n",
       "    }\n",
       "\n",
       "    .dataframe thead th {\n",
       "        text-align: right;\n",
       "    }\n",
       "</style>\n",
       "<table border=\"1\" class=\"dataframe\">\n",
       "  <thead>\n",
       "    <tr style=\"text-align: right;\">\n",
       "      <th></th>\n",
       "      <th>Evt_id</th>\n",
       "      <th>KE</th>\n",
       "      <th>E1</th>\n",
       "      <th>E2</th>\n",
       "      <th>costh</th>\n",
       "      <th>t1</th>\n",
       "      <th>t2</th>\n",
       "    </tr>\n",
       "  </thead>\n",
       "  <tbody>\n",
       "    <tr>\n",
       "      <th>452</th>\n",
       "      <td>32891</td>\n",
       "      <td>364</td>\n",
       "      <td>228.261993</td>\n",
       "      <td>95.464302</td>\n",
       "      <td>0.995444</td>\n",
       "      <td>5.593690e-08</td>\n",
       "      <td>5.331390e-08</td>\n",
       "    </tr>\n",
       "    <tr>\n",
       "      <th>1661</th>\n",
       "      <td>123260</td>\n",
       "      <td>364</td>\n",
       "      <td>316.104004</td>\n",
       "      <td>18.975800</td>\n",
       "      <td>0.994779</td>\n",
       "      <td>1.898030e-07</td>\n",
       "      <td>1.074410e-07</td>\n",
       "    </tr>\n",
       "    <tr>\n",
       "      <th>2760</th>\n",
       "      <td>204124</td>\n",
       "      <td>388</td>\n",
       "      <td>247.007996</td>\n",
       "      <td>118.508003</td>\n",
       "      <td>0.999634</td>\n",
       "      <td>9.641120e-08</td>\n",
       "      <td>3.201770e-08</td>\n",
       "    </tr>\n",
       "    <tr>\n",
       "      <th>4940</th>\n",
       "      <td>370404</td>\n",
       "      <td>364</td>\n",
       "      <td>161.503006</td>\n",
       "      <td>196.279999</td>\n",
       "      <td>0.998224</td>\n",
       "      <td>6.998590e-08</td>\n",
       "      <td>3.852620e-08</td>\n",
       "    </tr>\n",
       "    <tr>\n",
       "      <th>10597</th>\n",
       "      <td>794754</td>\n",
       "      <td>364</td>\n",
       "      <td>257.158997</td>\n",
       "      <td>80.985100</td>\n",
       "      <td>0.995082</td>\n",
       "      <td>1.277880e-07</td>\n",
       "      <td>6.144730e-08</td>\n",
       "    </tr>\n",
       "    <tr>\n",
       "      <th>14477</th>\n",
       "      <td>1088570</td>\n",
       "      <td>364</td>\n",
       "      <td>288.487000</td>\n",
       "      <td>42.778099</td>\n",
       "      <td>0.954618</td>\n",
       "      <td>1.360980e-07</td>\n",
       "      <td>4.445400e-08</td>\n",
       "    </tr>\n",
       "    <tr>\n",
       "      <th>22425</th>\n",
       "      <td>1691030</td>\n",
       "      <td>364</td>\n",
       "      <td>282.308990</td>\n",
       "      <td>76.210701</td>\n",
       "      <td>0.984612</td>\n",
       "      <td>1.319330e-07</td>\n",
       "      <td>9.535480e-08</td>\n",
       "    </tr>\n",
       "    <tr>\n",
       "      <th>25069</th>\n",
       "      <td>1897980</td>\n",
       "      <td>364</td>\n",
       "      <td>250.358002</td>\n",
       "      <td>93.400101</td>\n",
       "      <td>0.976288</td>\n",
       "      <td>9.464230e-08</td>\n",
       "      <td>6.422140e-08</td>\n",
       "    </tr>\n",
       "    <tr>\n",
       "      <th>29057</th>\n",
       "      <td>2201420</td>\n",
       "      <td>364</td>\n",
       "      <td>261.050995</td>\n",
       "      <td>94.082603</td>\n",
       "      <td>0.979571</td>\n",
       "      <td>1.067460e-07</td>\n",
       "      <td>4.517970e-08</td>\n",
       "    </tr>\n",
       "    <tr>\n",
       "      <th>38379</th>\n",
       "      <td>2907140</td>\n",
       "      <td>364</td>\n",
       "      <td>148.195999</td>\n",
       "      <td>197.748001</td>\n",
       "      <td>0.981001</td>\n",
       "      <td>1.615020e-07</td>\n",
       "      <td>1.090200e-07</td>\n",
       "    </tr>\n",
       "  </tbody>\n",
       "</table>\n",
       "</div>"
      ],
      "text/plain": [
       "        Evt_id   KE          E1          E2     costh            t1  \\\n",
       "452      32891  364  228.261993   95.464302  0.995444  5.593690e-08   \n",
       "1661    123260  364  316.104004   18.975800  0.994779  1.898030e-07   \n",
       "2760    204124  388  247.007996  118.508003  0.999634  9.641120e-08   \n",
       "4940    370404  364  161.503006  196.279999  0.998224  6.998590e-08   \n",
       "10597   794754  364  257.158997   80.985100  0.995082  1.277880e-07   \n",
       "14477  1088570  364  288.487000   42.778099  0.954618  1.360980e-07   \n",
       "22425  1691030  364  282.308990   76.210701  0.984612  1.319330e-07   \n",
       "25069  1897980  364  250.358002   93.400101  0.976288  9.464230e-08   \n",
       "29057  2201420  364  261.050995   94.082603  0.979571  1.067460e-07   \n",
       "38379  2907140  364  148.195999  197.748001  0.981001  1.615020e-07   \n",
       "\n",
       "                 t2  \n",
       "452    5.331390e-08  \n",
       "1661   1.074410e-07  \n",
       "2760   3.201770e-08  \n",
       "4940   3.852620e-08  \n",
       "10597  6.144730e-08  \n",
       "14477  4.445400e-08  \n",
       "22425  9.535480e-08  \n",
       "25069  6.422140e-08  \n",
       "29057  4.517970e-08  \n",
       "38379  1.090200e-07  "
      ]
     },
     "execution_count": 25,
     "metadata": {},
     "output_type": "execute_result"
    }
   ],
   "source": [
    "evtsT1Bigger.head(10)"
   ]
  },
  {
   "cell_type": "code",
   "execution_count": 12,
   "metadata": {},
   "outputs": [],
   "source": [
    "type1SmallAngle = type1SmallAngle[type1SmallAngle['KE'] < 370]"
   ]
  },
  {
   "cell_type": "code",
   "execution_count": 17,
   "metadata": {},
   "outputs": [
    {
     "data": {
      "text/html": [
       "<div>\n",
       "<style scoped>\n",
       "    .dataframe tbody tr th:only-of-type {\n",
       "        vertical-align: middle;\n",
       "    }\n",
       "\n",
       "    .dataframe tbody tr th {\n",
       "        vertical-align: top;\n",
       "    }\n",
       "\n",
       "    .dataframe thead th {\n",
       "        text-align: right;\n",
       "    }\n",
       "</style>\n",
       "<table border=\"1\" class=\"dataframe\">\n",
       "  <thead>\n",
       "    <tr style=\"text-align: right;\">\n",
       "      <th></th>\n",
       "      <th>Evt_id</th>\n",
       "      <th>KE</th>\n",
       "      <th>E1</th>\n",
       "      <th>E2</th>\n",
       "      <th>costh</th>\n",
       "      <th>t1</th>\n",
       "      <th>t2</th>\n",
       "    </tr>\n",
       "  </thead>\n",
       "  <tbody>\n",
       "    <tr>\n",
       "      <th>56</th>\n",
       "      <td>4377</td>\n",
       "      <td>364</td>\n",
       "      <td>254.507996</td>\n",
       "      <td>102.430000</td>\n",
       "      <td>0.997415</td>\n",
       "      <td>1.492590e-08</td>\n",
       "      <td>5.259890e-08</td>\n",
       "    </tr>\n",
       "    <tr>\n",
       "      <th>76</th>\n",
       "      <td>6327</td>\n",
       "      <td>364</td>\n",
       "      <td>189.626007</td>\n",
       "      <td>169.319000</td>\n",
       "      <td>0.985176</td>\n",
       "      <td>5.697160e-09</td>\n",
       "      <td>6.918510e-08</td>\n",
       "    </tr>\n",
       "    <tr>\n",
       "      <th>98</th>\n",
       "      <td>7658</td>\n",
       "      <td>364</td>\n",
       "      <td>281.382996</td>\n",
       "      <td>76.400398</td>\n",
       "      <td>0.821718</td>\n",
       "      <td>8.773880e-09</td>\n",
       "      <td>3.986430e-08</td>\n",
       "    </tr>\n",
       "    <tr>\n",
       "      <th>100</th>\n",
       "      <td>8012</td>\n",
       "      <td>364</td>\n",
       "      <td>281.128998</td>\n",
       "      <td>77.768700</td>\n",
       "      <td>0.848980</td>\n",
       "      <td>4.093130e-09</td>\n",
       "      <td>4.469140e-08</td>\n",
       "    </tr>\n",
       "    <tr>\n",
       "      <th>123</th>\n",
       "      <td>9575</td>\n",
       "      <td>364</td>\n",
       "      <td>72.690102</td>\n",
       "      <td>288.862000</td>\n",
       "      <td>0.994133</td>\n",
       "      <td>1.108930e-08</td>\n",
       "      <td>3.049510e-08</td>\n",
       "    </tr>\n",
       "  </tbody>\n",
       "</table>\n",
       "</div>"
      ],
      "text/plain": [
       "     Evt_id   KE          E1          E2     costh            t1            t2\n",
       "56     4377  364  254.507996  102.430000  0.997415  1.492590e-08  5.259890e-08\n",
       "76     6327  364  189.626007  169.319000  0.985176  5.697160e-09  6.918510e-08\n",
       "98     7658  364  281.382996   76.400398  0.821718  8.773880e-09  3.986430e-08\n",
       "100    8012  364  281.128998   77.768700  0.848980  4.093130e-09  4.469140e-08\n",
       "123    9575  364   72.690102  288.862000  0.994133  1.108930e-08  3.049510e-08"
      ]
     },
     "execution_count": 17,
     "metadata": {},
     "output_type": "execute_result"
    }
   ],
   "source": [
    "type1SmallAngle.head()"
   ]
  },
  {
   "cell_type": "code",
   "execution_count": 16,
   "metadata": {},
   "outputs": [
    {
     "data": {
      "text/plain": [
       "(0, 1e-08)"
      ]
     },
     "execution_count": 16,
     "metadata": {},
     "output_type": "execute_result"
    },
    {
     "data": {
      "image/png": "[encoded data removed]",
      "text/plain": [
       "<Figure size 432x288 with 1 Axes>"
      ]
     },
     "metadata": {
      "needs_background": "light"
     },
     "output_type": "display_data"
    }
   ],
   "source": [
    "plt.scatter(type1SmallAngle['t1'], type1SmallAngle['E1'], alpha = 0.2)\n",
    "plt.xlim(0, 10e-09)"
   ]
  },
  {
   "cell_type": "code",
   "execution_count": 13,
   "metadata": {},
   "outputs": [
    {
     "data": {
      "text/plain": [
       "<matplotlib.axes._subplots.AxesSubplot at 0x7f7edfce2e80>"
      ]
     },
     "execution_count": 13,
     "metadata": {},
     "output_type": "execute_result"
    },
    {
     "data": {
      "image/png": "[encoded data removed]",
      "text/plain": [
       "<Figure size 432x288 with 1 Axes>"
      ]
     },
     "metadata": {
      "needs_background": "light"
     },
     "output_type": "display_data"
    }
   ],
   "source": [
    "sns.histplot(foil0['costh'])"
   ]
  },
  {
   "cell_type": "markdown",
   "metadata": {},
   "source": [
    "looking at the cos the for detector 1 type 0 + type 1"
   ]
  },
  {
   "cell_type": "code",
   "execution_count": 13,
   "metadata": {},
   "outputs": [],
   "source": [
    "def det1Foil0 (df):\n",
    "    df = df[df['KE'] < 370]\n",
    "    df = df[df['E2'] > 0]\n",
    "    return df"
   ]
  },
  {
   "cell_type": "code",
   "execution_count": 14,
   "metadata": {},
   "outputs": [
    {
     "ename": "",
     "evalue": "",
     "output_type": "error",
     "traceback": [
      "\u001b[1;31mCanceled future for execute_request message before replies were done"
     ]
    },
    {
     "ename": "",
     "evalue": "",
     "output_type": "error",
     "traceback": [
      "\u001b[1;31mThe Kernel crashed while executing code in the the current cell or a previous cell. Please review the code in the cell(s) to identify a possible cause of the failure. Click <a href='https://aka.ms/vscodeJupyterKernelCrash'>here</a> for more info. View Jupyter <a href='command:jupyter.viewOutput'>log</a> for further details."
     ]
    }
   ],
   "source": [
    "foil0Det1Only = det1Foil0(foil0)"
   ]
  },
  {
   "cell_type": "code",
   "execution_count": null,
   "metadata": {},
   "outputs": [],
   "source": [
    "foil0Det1Only = foil0[]"
   ]
  },
  {
   "cell_type": "code",
   "execution_count": 29,
   "metadata": {},
   "outputs": [
    {
     "name": "stdout",
     "output_type": "stream",
     "text": [
      "<class 'pandas.core.frame.DataFrame'>\n",
      "Int64Index: 82290082 entries, 0 to 99928460\n",
      "Data columns (total 7 columns):\n",
      " #   Column  Dtype  \n",
      "---  ------  -----  \n",
      " 0   Evt_id  uint32 \n",
      " 1   KE      uint32 \n",
      " 2   E1      float32\n",
      " 3   E2      float32\n",
      " 4   costh   float32\n",
      " 5   t1      float32\n",
      " 6   t2      float32\n",
      "dtypes: float32(5), uint32(2)\n",
      "memory usage: 2.8 GB\n"
     ]
    }
   ],
   "source": [
    "foil0Det1Only.info()"
   ]
  },
  {
   "cell_type": "code",
   "execution_count": 28,
   "metadata": {},
   "outputs": [
    {
     "data": {
      "text/html": [
       "<div>\n",
       "<style scoped>\n",
       "    .dataframe tbody tr th:only-of-type {\n",
       "        vertical-align: middle;\n",
       "    }\n",
       "\n",
       "    .dataframe tbody tr th {\n",
       "        vertical-align: top;\n",
       "    }\n",
       "\n",
       "    .dataframe thead th {\n",
       "        text-align: right;\n",
       "    }\n",
       "</style>\n",
       "<table border=\"1\" class=\"dataframe\">\n",
       "  <thead>\n",
       "    <tr style=\"text-align: right;\">\n",
       "      <th></th>\n",
       "      <th>Evt_id</th>\n",
       "      <th>KE</th>\n",
       "      <th>E1</th>\n",
       "      <th>E2</th>\n",
       "      <th>costh</th>\n",
       "      <th>t1</th>\n",
       "      <th>t2</th>\n",
       "    </tr>\n",
       "  </thead>\n",
       "  <tbody>\n",
       "    <tr>\n",
       "      <th>0</th>\n",
       "      <td>0</td>\n",
       "      <td>364</td>\n",
       "      <td>362.044006</td>\n",
       "      <td>0.000000</td>\n",
       "      <td>0.584861</td>\n",
       "      <td>8.347490e-09</td>\n",
       "      <td>-5.000000e-09</td>\n",
       "    </tr>\n",
       "    <tr>\n",
       "      <th>2</th>\n",
       "      <td>2</td>\n",
       "      <td>364</td>\n",
       "      <td>0.000000</td>\n",
       "      <td>358.476990</td>\n",
       "      <td>-0.837683</td>\n",
       "      <td>-5.000000e-09</td>\n",
       "      <td>1.688080e-08</td>\n",
       "    </tr>\n",
       "    <tr>\n",
       "      <th>3</th>\n",
       "      <td>3</td>\n",
       "      <td>364</td>\n",
       "      <td>360.477997</td>\n",
       "      <td>0.000000</td>\n",
       "      <td>0.867632</td>\n",
       "      <td>1.251320e-08</td>\n",
       "      <td>-5.000000e-09</td>\n",
       "    </tr>\n",
       "    <tr>\n",
       "      <th>6</th>\n",
       "      <td>6</td>\n",
       "      <td>364</td>\n",
       "      <td>361.239014</td>\n",
       "      <td>0.000000</td>\n",
       "      <td>0.993441</td>\n",
       "      <td>2.948790e-09</td>\n",
       "      <td>-5.000000e-09</td>\n",
       "    </tr>\n",
       "    <tr>\n",
       "      <th>7</th>\n",
       "      <td>7</td>\n",
       "      <td>364</td>\n",
       "      <td>0.000000</td>\n",
       "      <td>361.838013</td>\n",
       "      <td>-0.657017</td>\n",
       "      <td>-5.000000e-09</td>\n",
       "      <td>1.516130e-08</td>\n",
       "    </tr>\n",
       "  </tbody>\n",
       "</table>\n",
       "</div>"
      ],
      "text/plain": [
       "   Evt_id   KE          E1          E2     costh            t1            t2\n",
       "0       0  364  362.044006    0.000000  0.584861  8.347490e-09 -5.000000e-09\n",
       "2       2  364    0.000000  358.476990 -0.837683 -5.000000e-09  1.688080e-08\n",
       "3       3  364  360.477997    0.000000  0.867632  1.251320e-08 -5.000000e-09\n",
       "6       6  364  361.239014    0.000000  0.993441  2.948790e-09 -5.000000e-09\n",
       "7       7  364    0.000000  361.838013 -0.657017 -5.000000e-09  1.516130e-08"
      ]
     },
     "execution_count": 28,
     "metadata": {},
     "output_type": "execute_result"
    }
   ],
   "source": [
    "foil0Det1Only.head()"
   ]
  },
  {
   "cell_type": "code",
   "execution_count": 1,
   "metadata": {},
   "outputs": [
    {
     "ename": "NameError",
     "evalue": "name 'foil0Det1Only' is not defined",
     "output_type": "error",
     "traceback": [
      "\u001b[0;31m---------------------------------------------------------------------------\u001b[0m",
      "\u001b[0;31mNameError\u001b[0m                                 Traceback (most recent call last)",
      "\u001b[0;32m<ipython-input-1-fc965cd78530>\u001b[0m in \u001b[0;36m<module>\u001b[0;34m\u001b[0m\n\u001b[0;32m----> 1\u001b[0;31m \u001b[0mfoil0Det1Only\u001b[0m \u001b[0;34m=\u001b[0m \u001b[0mfoil0Det1Only\u001b[0m\u001b[0;34m[\u001b[0m\u001b[0mfoil0Det1Only\u001b[0m\u001b[0;34m[\u001b[0m\u001b[0;34m'E2'\u001b[0m\u001b[0;34m]\u001b[0m \u001b[0;34m>\u001b[0m \u001b[0;36m0\u001b[0m \u001b[0;34m]\u001b[0m\u001b[0;34m\u001b[0m\u001b[0;34m\u001b[0m\u001b[0m\n\u001b[0m",
      "\u001b[0;31mNameError\u001b[0m: name 'foil0Det1Only' is not defined"
     ]
    }
   ],
   "source": [
    "foil0Det1Only = foil0Det1Only[foil0Det1Only['E2'] > 0 ]"
   ]
  },
  {
   "cell_type": "code",
   "execution_count": null,
   "metadata": {},
   "outputs": [],
   "source": [
    "foil0Det1Only.info"
   ]
  },
  {
   "cell_type": "code",
   "execution_count": 3,
   "metadata": {},
   "outputs": [],
   "source": [
    "import numpy as np\n"
   ]
  },
  {
   "cell_type": "code",
   "execution_count": 10,
   "metadata": {},
   "outputs": [
    {
     "data": {
      "text/plain": [
       "array([[-1.95650209],\n",
       "       [ 0.77223221],\n",
       "       [-3.30262167],\n",
       "       [ 2.39684343],\n",
       "       [-4.40303837]])"
      ]
     },
     "execution_count": 10,
     "metadata": {},
     "output_type": "execute_result"
    }
   ],
   "source": [
    "np.random.rand(5,1)*() - 5"
   ]
  },
  {
   "cell_type": "code",
   "execution_count": null,
   "metadata": {},
   "outputs": [],
   "source": []
  }
 ],
 "metadata": {
  "kernelspec": {
   "display_name": "Python 3.7.3 ('base')",
   "language": "python",
   "name": "python3"
  },
  "language_info": {
   "codemirror_mode": {
    "name": "ipython",
    "version": 3
   },
   "file_extension": ".py",
   "mimetype": "text/x-python",
   "name": "python",
   "nbconvert_exporter": "python",
   "pygments_lexer": "ipython3",
   "version": "3.7.3"
  },
  "orig_nbformat": 4,
  "vscode": {
   "interpreter": {
    "hash": "0908d9aff873dcb3cc2ddb69a47333019532e0791c0c30c9e347478999bc9d11"
   }
  }
 },
 "nbformat": 4,
 "nbformat_minor": 2
}
