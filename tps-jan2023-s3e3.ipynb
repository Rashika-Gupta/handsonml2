{
 "cells": [
  {
   "cell_type": "code",
   "execution_count": null,
   "id": "c8bdb125",
   "metadata": {
    "papermill": {
     "duration": 0.018448,
     "end_time": "2023-01-25T17:31:12.060572",
     "exception": false,
     "start_time": "2023-01-25T17:31:12.042124",
     "status": "completed"
    },
    "tags": []
   },
   "outputs": [],
   "source": []
  },
  {
   "cell_type": "code",
   "execution_count": 1,
   "id": "640ed5e1",
   "metadata": {
    "_cell_guid": "b1076dfc-b9ad-4769-8c92-a6c4dae69d19",
    "_uuid": "8f2839f25d086af736a60e9eeb907d3b93b6e0e5",
    "execution": {
     "iopub.execute_input": "2023-01-25T17:31:12.097200Z",
     "iopub.status.busy": "2023-01-25T17:31:12.096079Z",
     "iopub.status.idle": "2023-01-25T17:31:13.224057Z",
     "shell.execute_reply": "2023-01-25T17:31:13.222802Z"
    },
    "papermill": {
     "duration": 1.150977,
     "end_time": "2023-01-25T17:31:13.227053",
     "exception": false,
     "start_time": "2023-01-25T17:31:12.076076",
     "status": "completed"
    },
    "tags": []
   },
   "outputs": [
    {
     "name": "stdout",
     "output_type": "stream",
     "text": [
      "/kaggle/input/playground-series-s3e3/sample_submission.csv\n",
      "/kaggle/input/playground-series-s3e3/train.csv\n",
      "/kaggle/input/playground-series-s3e3/test.csv\n"
     ]
    }
   ],
   "source": [
    "# This Python 3 environment comes with many helpful analytics libraries installed\n",
    "# It is defined by the kaggle/python Docker image: https://github.com/kaggle/docker-python\n",
    "# For example, here's several helpful packages to load\n",
    "\n",
    "import numpy as np # linear algebra\n",
    "import pandas as pd # data processing, CSV file I/O (e.g. pd.read_csv)\n",
    "import matplotlib.pyplot as plt\n",
    "import seaborn as sns\n",
    "# Input data files are available in the read-only \"../input/\" directory\n",
    "# For example, running this (by clicking run or pressing Shift+Enter) will list all files under the input directory\n",
    "\n",
    "import os\n",
    "for dirname, _, filenames in os.walk('/kaggle/input'):\n",
    "    for filename in filenames:\n",
    "        print(os.path.join(dirname, filename))\n",
    "\n",
    "# You can write up to 20GB to the current directory (/kaggle/working/) that gets preserved as output when you create a version using \"Save & Run All\" \n",
    "# You can also write temporary files to /kaggle/temp/, but they won't be saved outside of the current session"
   ]
  },
  {
   "cell_type": "code",
   "execution_count": 2,
   "id": "593db9ee",
   "metadata": {
    "execution": {
     "iopub.execute_input": "2023-01-25T17:31:13.255126Z",
     "iopub.status.busy": "2023-01-25T17:31:13.254694Z",
     "iopub.status.idle": "2023-01-25T17:31:13.297944Z",
     "shell.execute_reply": "2023-01-25T17:31:13.297009Z"
    },
    "papermill": {
     "duration": 0.061074,
     "end_time": "2023-01-25T17:31:13.301085",
     "exception": false,
     "start_time": "2023-01-25T17:31:13.240011",
     "status": "completed"
    },
    "tags": []
   },
   "outputs": [],
   "source": [
    "train = pd.read_csv('/kaggle/input/playground-series-s3e3/train.csv') \n",
    "test = pd.read_csv('/kaggle/input/playground-series-s3e3/test.csv')"
   ]
  },
  {
   "cell_type": "code",
   "execution_count": 3,
   "id": "d7eaeb58",
   "metadata": {
    "execution": {
     "iopub.execute_input": "2023-01-25T17:31:13.329822Z",
     "iopub.status.busy": "2023-01-25T17:31:13.328604Z",
     "iopub.status.idle": "2023-01-25T17:31:13.359536Z",
     "shell.execute_reply": "2023-01-25T17:31:13.358058Z"
    },
    "papermill": {
     "duration": 0.048318,
     "end_time": "2023-01-25T17:31:13.362593",
     "exception": false,
     "start_time": "2023-01-25T17:31:13.314275",
     "status": "completed"
    },
    "tags": []
   },
   "outputs": [
    {
     "name": "stdout",
     "output_type": "stream",
     "text": [
      "<class 'pandas.core.frame.DataFrame'>\n",
      "RangeIndex: 1677 entries, 0 to 1676\n",
      "Data columns (total 35 columns):\n",
      " #   Column                    Non-Null Count  Dtype \n",
      "---  ------                    --------------  ----- \n",
      " 0   id                        1677 non-null   int64 \n",
      " 1   Age                       1677 non-null   int64 \n",
      " 2   BusinessTravel            1677 non-null   object\n",
      " 3   DailyRate                 1677 non-null   int64 \n",
      " 4   Department                1677 non-null   object\n",
      " 5   DistanceFromHome          1677 non-null   int64 \n",
      " 6   Education                 1677 non-null   int64 \n",
      " 7   EducationField            1677 non-null   object\n",
      " 8   EmployeeCount             1677 non-null   int64 \n",
      " 9   EnvironmentSatisfaction   1677 non-null   int64 \n",
      " 10  Gender                    1677 non-null   object\n",
      " 11  HourlyRate                1677 non-null   int64 \n",
      " 12  JobInvolvement            1677 non-null   int64 \n",
      " 13  JobLevel                  1677 non-null   int64 \n",
      " 14  JobRole                   1677 non-null   object\n",
      " 15  JobSatisfaction           1677 non-null   int64 \n",
      " 16  MaritalStatus             1677 non-null   object\n",
      " 17  MonthlyIncome             1677 non-null   int64 \n",
      " 18  MonthlyRate               1677 non-null   int64 \n",
      " 19  NumCompaniesWorked        1677 non-null   int64 \n",
      " 20  Over18                    1677 non-null   object\n",
      " 21  OverTime                  1677 non-null   object\n",
      " 22  PercentSalaryHike         1677 non-null   int64 \n",
      " 23  PerformanceRating         1677 non-null   int64 \n",
      " 24  RelationshipSatisfaction  1677 non-null   int64 \n",
      " 25  StandardHours             1677 non-null   int64 \n",
      " 26  StockOptionLevel          1677 non-null   int64 \n",
      " 27  TotalWorkingYears         1677 non-null   int64 \n",
      " 28  TrainingTimesLastYear     1677 non-null   int64 \n",
      " 29  WorkLifeBalance           1677 non-null   int64 \n",
      " 30  YearsAtCompany            1677 non-null   int64 \n",
      " 31  YearsInCurrentRole        1677 non-null   int64 \n",
      " 32  YearsSinceLastPromotion   1677 non-null   int64 \n",
      " 33  YearsWithCurrManager      1677 non-null   int64 \n",
      " 34  Attrition                 1677 non-null   int64 \n",
      "dtypes: int64(27), object(8)\n",
      "memory usage: 458.7+ KB\n"
     ]
    }
   ],
   "source": [
    "train.info()\n"
   ]
  },
  {
   "cell_type": "markdown",
   "id": "c46baa3c",
   "metadata": {
    "papermill": {
     "duration": 0.012765,
     "end_time": "2023-01-25T17:31:13.389174",
     "exception": false,
     "start_time": "2023-01-25T17:31:13.376409",
     "status": "completed"
    },
    "tags": []
   },
   "source": [
    "* No NaN object\n",
    "* There are 8 columns whose dtype is object -> need to change the dtype to process \n"
   ]
  },
  {
   "cell_type": "code",
   "execution_count": 4,
   "id": "c13a7a3a",
   "metadata": {
    "execution": {
     "iopub.execute_input": "2023-01-25T17:31:13.417369Z",
     "iopub.status.busy": "2023-01-25T17:31:13.416818Z",
     "iopub.status.idle": "2023-01-25T17:31:13.432859Z",
     "shell.execute_reply": "2023-01-25T17:31:13.431171Z"
    },
    "papermill": {
     "duration": 0.03322,
     "end_time": "2023-01-25T17:31:13.435380",
     "exception": false,
     "start_time": "2023-01-25T17:31:13.402160",
     "status": "completed"
    },
    "tags": []
   },
   "outputs": [
    {
     "name": "stdout",
     "output_type": "stream",
     "text": [
      "<class 'pandas.core.frame.DataFrame'>\n",
      "RangeIndex: 1119 entries, 0 to 1118\n",
      "Data columns (total 34 columns):\n",
      " #   Column                    Non-Null Count  Dtype \n",
      "---  ------                    --------------  ----- \n",
      " 0   id                        1119 non-null   int64 \n",
      " 1   Age                       1119 non-null   int64 \n",
      " 2   BusinessTravel            1119 non-null   object\n",
      " 3   DailyRate                 1119 non-null   int64 \n",
      " 4   Department                1119 non-null   object\n",
      " 5   DistanceFromHome          1119 non-null   int64 \n",
      " 6   Education                 1119 non-null   int64 \n",
      " 7   EducationField            1119 non-null   object\n",
      " 8   EmployeeCount             1119 non-null   int64 \n",
      " 9   EnvironmentSatisfaction   1119 non-null   int64 \n",
      " 10  Gender                    1119 non-null   object\n",
      " 11  HourlyRate                1119 non-null   int64 \n",
      " 12  JobInvolvement            1119 non-null   int64 \n",
      " 13  JobLevel                  1119 non-null   int64 \n",
      " 14  JobRole                   1119 non-null   object\n",
      " 15  JobSatisfaction           1119 non-null   int64 \n",
      " 16  MaritalStatus             1119 non-null   object\n",
      " 17  MonthlyIncome             1119 non-null   int64 \n",
      " 18  MonthlyRate               1119 non-null   int64 \n",
      " 19  NumCompaniesWorked        1119 non-null   int64 \n",
      " 20  Over18                    1119 non-null   object\n",
      " 21  OverTime                  1119 non-null   object\n",
      " 22  PercentSalaryHike         1119 non-null   int64 \n",
      " 23  PerformanceRating         1119 non-null   int64 \n",
      " 24  RelationshipSatisfaction  1119 non-null   int64 \n",
      " 25  StandardHours             1119 non-null   int64 \n",
      " 26  StockOptionLevel          1119 non-null   int64 \n",
      " 27  TotalWorkingYears         1119 non-null   int64 \n",
      " 28  TrainingTimesLastYear     1119 non-null   int64 \n",
      " 29  WorkLifeBalance           1119 non-null   int64 \n",
      " 30  YearsAtCompany            1119 non-null   int64 \n",
      " 31  YearsInCurrentRole        1119 non-null   int64 \n",
      " 32  YearsSinceLastPromotion   1119 non-null   int64 \n",
      " 33  YearsWithCurrManager      1119 non-null   int64 \n",
      "dtypes: int64(26), object(8)\n",
      "memory usage: 297.4+ KB\n"
     ]
    }
   ],
   "source": [
    "test.info()"
   ]
  },
  {
   "cell_type": "code",
   "execution_count": 5,
   "id": "10b5d8ed",
   "metadata": {
    "execution": {
     "iopub.execute_input": "2023-01-25T17:31:13.463508Z",
     "iopub.status.busy": "2023-01-25T17:31:13.462882Z",
     "iopub.status.idle": "2023-01-25T17:31:13.756796Z",
     "shell.execute_reply": "2023-01-25T17:31:13.755610Z"
    },
    "papermill": {
     "duration": 0.310803,
     "end_time": "2023-01-25T17:31:13.759301",
     "exception": false,
     "start_time": "2023-01-25T17:31:13.448498",
     "status": "completed"
    },
    "tags": []
   },
   "outputs": [
    {
     "data": {
      "text/plain": [
       "<AxesSubplot:xlabel='Attrition', ylabel='Count'>"
      ]
     },
     "execution_count": 5,
     "metadata": {},
     "output_type": "execute_result"
    },
    {
     "data": {
      "image/png": "[encoded data removed]",
      "text/plain": [
       "<Figure size 432x288 with 1 Axes>"
      ]
     },
     "metadata": {
      "needs_background": "light"
     },
     "output_type": "display_data"
    }
   ],
   "source": [
    "sns.histplot(data = train, x = 'Attrition')\n"
   ]
  },
  {
   "cell_type": "markdown",
   "id": "f79ceda7",
   "metadata": {
    "papermill": {
     "duration": 0.013056,
     "end_time": "2023-01-25T17:31:13.786281",
     "exception": false,
     "start_time": "2023-01-25T17:31:13.773225",
     "status": "completed"
    },
    "tags": []
   },
   "source": [
    "**Target** \n",
    "- It is a classification dataset\n",
    "- more than 80% of the dataset is 0 and only 1/7th is 1 \n",
    "Hence, we will have to use different type of train - test - split or algorithm which remembers this information\n",
    "\n",
    "*There is an imbalance in the data*"
   ]
  },
  {
   "cell_type": "code",
   "execution_count": 6,
   "id": "b3e29cc7",
   "metadata": {
    "execution": {
     "iopub.execute_input": "2023-01-25T17:31:13.815550Z",
     "iopub.status.busy": "2023-01-25T17:31:13.814380Z",
     "iopub.status.idle": "2023-01-25T17:32:09.197330Z",
     "shell.execute_reply": "2023-01-25T17:32:09.196006Z"
    },
    "papermill": {
     "duration": 55.414485,
     "end_time": "2023-01-25T17:32:09.214191",
     "exception": false,
     "start_time": "2023-01-25T17:31:13.799706",
     "status": "completed"
    },
    "tags": []
   },
   "outputs": [
    {
     "data": {
      "image/png": "[encoded data removed]",
      "text/plain": [
       "<Figure size 1152x576 with 36 Axes>"
      ]
     },
     "metadata": {
      "needs_background": "light"
     },
     "output_type": "display_data"
    }
   ],
   "source": [
    "#plotting the one with object dtype\n",
    "fig, axs = plt.subplots(nrows=6, ncols=6, figsize=(16, 8))\n",
    "axs = axs.ravel()\n",
    "for i, col in enumerate(train.columns):\n",
    "    if train[col].dtype == 'int64':\n",
    "    # Plot a histogram of the column on the i-th subplot\n",
    "        sns.countplot(x  = train[col], ax = axs[i])#, hue = train['Attrition'])\n",
    "   "
   ]
  },
  {
   "cell_type": "markdown",
   "id": "9919d615",
   "metadata": {
    "papermill": {
     "duration": 0.013922,
     "end_time": "2023-01-25T17:32:09.242461",
     "exception": false,
     "start_time": "2023-01-25T17:32:09.228539",
     "status": "completed"
    },
    "tags": []
   },
   "source": [
    "We observe some features are just a constant number, They won' contribute to the modeling. Hence, we could remove them to make the process faster "
   ]
  },
  {
   "cell_type": "code",
   "execution_count": 7,
   "id": "4e4e4329",
   "metadata": {
    "execution": {
     "iopub.execute_input": "2023-01-25T17:32:09.272839Z",
     "iopub.status.busy": "2023-01-25T17:32:09.272432Z",
     "iopub.status.idle": "2023-01-25T17:32:09.289623Z",
     "shell.execute_reply": "2023-01-25T17:32:09.288278Z"
    },
    "papermill": {
     "duration": 0.035217,
     "end_time": "2023-01-25T17:32:09.291902",
     "exception": false,
     "start_time": "2023-01-25T17:32:09.256685",
     "status": "completed"
    },
    "tags": []
   },
   "outputs": [
    {
     "name": "stdout",
     "output_type": "stream",
     "text": [
      "Column name :  EmployeeCount\n",
      "Column name :  Over18\n",
      "Column name :  StandardHours\n"
     ]
    }
   ],
   "source": [
    "#looking at the duplicated values \n",
    "# and dropping these columns\n",
    "for col in train.columns:\n",
    "    unique_vals = train[col].nunique()\n",
    "    if unique_vals == 1 :\n",
    "        print('Column name : ', col)\n",
    "        train = train.drop(col, axis = 1)\n",
    "        \n",
    " "
   ]
  },
  {
   "cell_type": "code",
   "execution_count": 8,
   "id": "d154212d",
   "metadata": {
    "execution": {
     "iopub.execute_input": "2023-01-25T17:32:09.323289Z",
     "iopub.status.busy": "2023-01-25T17:32:09.322840Z",
     "iopub.status.idle": "2023-01-25T17:32:09.338905Z",
     "shell.execute_reply": "2023-01-25T17:32:09.337290Z"
    },
    "papermill": {
     "duration": 0.035998,
     "end_time": "2023-01-25T17:32:09.342508",
     "exception": false,
     "start_time": "2023-01-25T17:32:09.306510",
     "status": "completed"
    },
    "tags": []
   },
   "outputs": [
    {
     "name": "stdout",
     "output_type": "stream",
     "text": [
      "Column name :  EmployeeCount\n",
      "Column name :  Over18\n",
      "Column name :  StandardHours\n"
     ]
    }
   ],
   "source": [
    "for col in test.columns:\n",
    "    unique_vals = test[col].nunique()\n",
    "    if unique_vals == 1 :\n",
    "        print('Column name : ', col)\n",
    "        test= test.drop(col, axis = 1)"
   ]
  },
  {
   "cell_type": "code",
   "execution_count": 9,
   "id": "92625f96",
   "metadata": {
    "execution": {
     "iopub.execute_input": "2023-01-25T17:32:09.374531Z",
     "iopub.status.busy": "2023-01-25T17:32:09.374088Z",
     "iopub.status.idle": "2023-01-25T17:32:10.218073Z",
     "shell.execute_reply": "2023-01-25T17:32:10.217005Z"
    },
    "papermill": {
     "duration": 0.863036,
     "end_time": "2023-01-25T17:32:10.221206",
     "exception": false,
     "start_time": "2023-01-25T17:32:09.358170",
     "status": "completed"
    },
    "tags": []
   },
   "outputs": [
    {
     "data": {
      "text/plain": [
       "<AxesSubplot:>"
      ]
     },
     "execution_count": 9,
     "metadata": {},
     "output_type": "execute_result"
    },
    {
     "data": {
      "image/png": "[encoded data removed]",
      "text/plain": [
       "<Figure size 720x432 with 2 Axes>"
      ]
     },
     "metadata": {
      "needs_background": "light"
     },
     "output_type": "display_data"
    }
   ],
   "source": [
    "plt.figure(figsize =(10,6))\n",
    "corr = train.corr()\n",
    "sns.heatmap(corr, cmap = 'inferno')"
   ]
  },
  {
   "cell_type": "markdown",
   "id": "bf929afe",
   "metadata": {
    "papermill": {
     "duration": 0.015677,
     "end_time": "2023-01-25T17:32:10.253285",
     "exception": false,
     "start_time": "2023-01-25T17:32:10.237608",
     "status": "completed"
    },
    "tags": []
   },
   "source": [
    "**CORRELATION :** \n",
    "\n",
    "*1. The following are strongly co-related Total Working Years with age, job level, monthly income, slightly on Num of companies worke at.*\n",
    "\n",
    "*2. Job level and monthly income and, total working years depends on years at company, thn also on years in current role, promotion*,\n",
    "*with these correlated features one can create more features too*"
   ]
  },
  {
   "cell_type": "code",
   "execution_count": 10,
   "id": "d3852834",
   "metadata": {
    "execution": {
     "iopub.execute_input": "2023-01-25T17:32:10.287776Z",
     "iopub.status.busy": "2023-01-25T17:32:10.286748Z",
     "iopub.status.idle": "2023-01-25T17:32:10.295260Z",
     "shell.execute_reply": "2023-01-25T17:32:10.294087Z"
    },
    "papermill": {
     "duration": 0.028069,
     "end_time": "2023-01-25T17:32:10.297309",
     "exception": false,
     "start_time": "2023-01-25T17:32:10.269240",
     "status": "completed"
    },
    "tags": []
   },
   "outputs": [],
   "source": [
    "#display the columns with object dtype\n",
    "train_dtypeObj = train.select_dtypes('object')\n",
    "test_dtypeObj = test.select_dtypes('object')"
   ]
  },
  {
   "cell_type": "code",
   "execution_count": 11,
   "id": "3eb15eb6",
   "metadata": {
    "execution": {
     "iopub.execute_input": "2023-01-25T17:32:10.331980Z",
     "iopub.status.busy": "2023-01-25T17:32:10.331196Z",
     "iopub.status.idle": "2023-01-25T17:32:11.552376Z",
     "shell.execute_reply": "2023-01-25T17:32:11.551605Z"
    },
    "papermill": {
     "duration": 1.241356,
     "end_time": "2023-01-25T17:32:11.554522",
     "exception": false,
     "start_time": "2023-01-25T17:32:10.313166",
     "status": "completed"
    },
    "tags": []
   },
   "outputs": [
    {
     "data": {
      "image/png": "[encoded data removed]",
      "text/plain": [
       "<Figure size 1728x864 with 8 Axes>"
      ]
     },
     "metadata": {
      "needs_background": "light"
     },
     "output_type": "display_data"
    }
   ],
   "source": [
    "#plotting the one with object dtype\n",
    "fig, axs = plt.subplots(nrows=2, ncols=4, figsize=(24, 12))\n",
    "axs = axs.ravel()\n",
    "for i, col in enumerate(train_dtypeObj.columns):\n",
    "    # Plot a histogram of the column on the i-th subplot\n",
    "    sns.countplot(x  = train_dtypeObj[col], ax = axs[i])\n",
    "   "
   ]
  },
  {
   "cell_type": "code",
   "execution_count": 12,
   "id": "ebdfad7a",
   "metadata": {
    "execution": {
     "iopub.execute_input": "2023-01-25T17:32:11.590027Z",
     "iopub.status.busy": "2023-01-25T17:32:11.589599Z",
     "iopub.status.idle": "2023-01-25T17:32:11.594042Z",
     "shell.execute_reply": "2023-01-25T17:32:11.593082Z"
    },
    "papermill": {
     "duration": 0.024579,
     "end_time": "2023-01-25T17:32:11.596297",
     "exception": false,
     "start_time": "2023-01-25T17:32:11.571718",
     "status": "completed"
    },
    "tags": []
   },
   "outputs": [],
   "source": [
    "#for col in train_dtypeObj.columns:\n",
    "   # display(col)\n",
    "   # display(train_dtypeObj[col].value_counts())"
   ]
  },
  {
   "cell_type": "markdown",
   "id": "ddcc9918",
   "metadata": {
    "papermill": {
     "duration": 0.016239,
     "end_time": "2023-01-25T17:32:11.629044",
     "exception": false,
     "start_time": "2023-01-25T17:32:11.612805",
     "status": "completed"
    },
    "tags": []
   },
   "source": [
    "* The 'OverTime' , 'Gender', column are categorical \n",
    "* Everyone is 'Over18' -> it can be changed to only one value\n",
    "* Department and, Marital status has just 3 options. "
   ]
  },
  {
   "cell_type": "code",
   "execution_count": 13,
   "id": "7e7e5dab",
   "metadata": {
    "execution": {
     "iopub.execute_input": "2023-01-25T17:32:11.665274Z",
     "iopub.status.busy": "2023-01-25T17:32:11.664271Z",
     "iopub.status.idle": "2023-01-25T17:32:11.821031Z",
     "shell.execute_reply": "2023-01-25T17:32:11.819441Z"
    },
    "papermill": {
     "duration": 0.177198,
     "end_time": "2023-01-25T17:32:11.823808",
     "exception": false,
     "start_time": "2023-01-25T17:32:11.646610",
     "status": "completed"
    },
    "tags": []
   },
   "outputs": [],
   "source": [
    "from sklearn.preprocessing import OneHotEncoder \n"
   ]
  },
  {
   "cell_type": "code",
   "execution_count": 14,
   "id": "6d2145de",
   "metadata": {
    "execution": {
     "iopub.execute_input": "2023-01-25T17:32:11.860340Z",
     "iopub.status.busy": "2023-01-25T17:32:11.859594Z",
     "iopub.status.idle": "2023-01-25T17:32:11.863992Z",
     "shell.execute_reply": "2023-01-25T17:32:11.863237Z"
    },
    "papermill": {
     "duration": 0.024861,
     "end_time": "2023-01-25T17:32:11.865989",
     "exception": false,
     "start_time": "2023-01-25T17:32:11.841128",
     "status": "completed"
    },
    "tags": []
   },
   "outputs": [],
   "source": [
    "OH_encoder = OneHotEncoder(handle_unknown = 'ignore', sparse = False) # want to return numpy array and not the "
   ]
  },
  {
   "cell_type": "code",
   "execution_count": 15,
   "id": "e33e2d33",
   "metadata": {
    "execution": {
     "iopub.execute_input": "2023-01-25T17:32:11.902973Z",
     "iopub.status.busy": "2023-01-25T17:32:11.901660Z",
     "iopub.status.idle": "2023-01-25T17:32:11.915286Z",
     "shell.execute_reply": "2023-01-25T17:32:11.914367Z"
    },
    "papermill": {
     "duration": 0.035049,
     "end_time": "2023-01-25T17:32:11.917479",
     "exception": false,
     "start_time": "2023-01-25T17:32:11.882430",
     "status": "completed"
    },
    "tags": []
   },
   "outputs": [],
   "source": [
    "OH_cols_train = pd.DataFrame(OH_encoder.fit_transform(train_dtypeObj)) # makes zero one\n",
    "\n",
    "#putting the index back \n",
    "OH_cols_train.index = train_dtypeObj.index\n",
    "OH_cols_train.columns = OH_encoder.get_feature_names_out() #gives the column names "
   ]
  },
  {
   "cell_type": "code",
   "execution_count": 16,
   "id": "499cb822",
   "metadata": {
    "execution": {
     "iopub.execute_input": "2023-01-25T17:32:11.952566Z",
     "iopub.status.busy": "2023-01-25T17:32:11.951487Z",
     "iopub.status.idle": "2023-01-25T17:32:11.963060Z",
     "shell.execute_reply": "2023-01-25T17:32:11.961783Z"
    },
    "papermill": {
     "duration": 0.031928,
     "end_time": "2023-01-25T17:32:11.965690",
     "exception": false,
     "start_time": "2023-01-25T17:32:11.933762",
     "status": "completed"
    },
    "tags": []
   },
   "outputs": [],
   "source": [
    "OH_cols_test = pd.DataFrame(OH_encoder.fit_transform(test_dtypeObj)) # makes zero one\n",
    "\n",
    "#putting the index back \n",
    "OH_cols_test.index = test_dtypeObj.index\n",
    "OH_cols_test.columns = OH_encoder.get_feature_names_out() #gives the column names "
   ]
  },
  {
   "cell_type": "code",
   "execution_count": 17,
   "id": "ea0cc2cc",
   "metadata": {
    "execution": {
     "iopub.execute_input": "2023-01-25T17:32:12.000148Z",
     "iopub.status.busy": "2023-01-25T17:32:11.999711Z",
     "iopub.status.idle": "2023-01-25T17:32:12.009258Z",
     "shell.execute_reply": "2023-01-25T17:32:12.007952Z"
    },
    "papermill": {
     "duration": 0.029721,
     "end_time": "2023-01-25T17:32:12.011775",
     "exception": false,
     "start_time": "2023-01-25T17:32:11.982054",
     "status": "completed"
    },
    "tags": []
   },
   "outputs": [],
   "source": [
    "\n",
    "#removing the object cols\n",
    "train = train.select_dtypes(exclude='object')\n",
    "#joining with encded one\n",
    "train = pd.concat([train, OH_cols_train], axis = 1)"
   ]
  },
  {
   "cell_type": "code",
   "execution_count": 18,
   "id": "bc157dd5",
   "metadata": {
    "execution": {
     "iopub.execute_input": "2023-01-25T17:32:12.048796Z",
     "iopub.status.busy": "2023-01-25T17:32:12.047624Z",
     "iopub.status.idle": "2023-01-25T17:32:12.057844Z",
     "shell.execute_reply": "2023-01-25T17:32:12.056332Z"
    },
    "papermill": {
     "duration": 0.032336,
     "end_time": "2023-01-25T17:32:12.060671",
     "exception": false,
     "start_time": "2023-01-25T17:32:12.028335",
     "status": "completed"
    },
    "tags": []
   },
   "outputs": [
    {
     "data": {
      "text/plain": [
       "(1677, 53)"
      ]
     },
     "execution_count": 18,
     "metadata": {},
     "output_type": "execute_result"
    }
   ],
   "source": [
    "train.shape"
   ]
  },
  {
   "cell_type": "code",
   "execution_count": 19,
   "id": "0b1b18e9",
   "metadata": {
    "execution": {
     "iopub.execute_input": "2023-01-25T17:32:12.096877Z",
     "iopub.status.busy": "2023-01-25T17:32:12.096474Z",
     "iopub.status.idle": "2023-01-25T17:32:12.104780Z",
     "shell.execute_reply": "2023-01-25T17:32:12.103886Z"
    },
    "papermill": {
     "duration": 0.028855,
     "end_time": "2023-01-25T17:32:12.107314",
     "exception": false,
     "start_time": "2023-01-25T17:32:12.078459",
     "status": "completed"
    },
    "tags": []
   },
   "outputs": [],
   "source": [
    "#removing the object cols\n",
    "test = test.select_dtypes(exclude='object')\n",
    "#joining with encded one\n",
    "test = pd.concat([test, OH_cols_test], axis = 1)"
   ]
  },
  {
   "cell_type": "code",
   "execution_count": 20,
   "id": "5037f41a",
   "metadata": {
    "execution": {
     "iopub.execute_input": "2023-01-25T17:32:12.143728Z",
     "iopub.status.busy": "2023-01-25T17:32:12.142874Z",
     "iopub.status.idle": "2023-01-25T17:32:12.159886Z",
     "shell.execute_reply": "2023-01-25T17:32:12.158687Z"
    },
    "papermill": {
     "duration": 0.039497,
     "end_time": "2023-01-25T17:32:12.163558",
     "exception": false,
     "start_time": "2023-01-25T17:32:12.124061",
     "status": "completed"
    },
    "tags": []
   },
   "outputs": [
    {
     "name": "stdout",
     "output_type": "stream",
     "text": [
      "<class 'pandas.core.frame.DataFrame'>\n",
      "RangeIndex: 1677 entries, 0 to 1676\n",
      "Data columns (total 53 columns):\n",
      " #   Column                             Non-Null Count  Dtype  \n",
      "---  ------                             --------------  -----  \n",
      " 0   id                                 1677 non-null   int64  \n",
      " 1   Age                                1677 non-null   int64  \n",
      " 2   DailyRate                          1677 non-null   int64  \n",
      " 3   DistanceFromHome                   1677 non-null   int64  \n",
      " 4   Education                          1677 non-null   int64  \n",
      " 5   EnvironmentSatisfaction            1677 non-null   int64  \n",
      " 6   HourlyRate                         1677 non-null   int64  \n",
      " 7   JobInvolvement                     1677 non-null   int64  \n",
      " 8   JobLevel                           1677 non-null   int64  \n",
      " 9   JobSatisfaction                    1677 non-null   int64  \n",
      " 10  MonthlyIncome                      1677 non-null   int64  \n",
      " 11  MonthlyRate                        1677 non-null   int64  \n",
      " 12  NumCompaniesWorked                 1677 non-null   int64  \n",
      " 13  PercentSalaryHike                  1677 non-null   int64  \n",
      " 14  PerformanceRating                  1677 non-null   int64  \n",
      " 15  RelationshipSatisfaction           1677 non-null   int64  \n",
      " 16  StockOptionLevel                   1677 non-null   int64  \n",
      " 17  TotalWorkingYears                  1677 non-null   int64  \n",
      " 18  TrainingTimesLastYear              1677 non-null   int64  \n",
      " 19  WorkLifeBalance                    1677 non-null   int64  \n",
      " 20  YearsAtCompany                     1677 non-null   int64  \n",
      " 21  YearsInCurrentRole                 1677 non-null   int64  \n",
      " 22  YearsSinceLastPromotion            1677 non-null   int64  \n",
      " 23  YearsWithCurrManager               1677 non-null   int64  \n",
      " 24  Attrition                          1677 non-null   int64  \n",
      " 25  BusinessTravel_Non-Travel          1677 non-null   float64\n",
      " 26  BusinessTravel_Travel_Frequently   1677 non-null   float64\n",
      " 27  BusinessTravel_Travel_Rarely       1677 non-null   float64\n",
      " 28  Department_Human Resources         1677 non-null   float64\n",
      " 29  Department_Research & Development  1677 non-null   float64\n",
      " 30  Department_Sales                   1677 non-null   float64\n",
      " 31  EducationField_Human Resources     1677 non-null   float64\n",
      " 32  EducationField_Life Sciences       1677 non-null   float64\n",
      " 33  EducationField_Marketing           1677 non-null   float64\n",
      " 34  EducationField_Medical             1677 non-null   float64\n",
      " 35  EducationField_Other               1677 non-null   float64\n",
      " 36  EducationField_Technical Degree    1677 non-null   float64\n",
      " 37  Gender_Female                      1677 non-null   float64\n",
      " 38  Gender_Male                        1677 non-null   float64\n",
      " 39  JobRole_Healthcare Representative  1677 non-null   float64\n",
      " 40  JobRole_Human Resources            1677 non-null   float64\n",
      " 41  JobRole_Laboratory Technician      1677 non-null   float64\n",
      " 42  JobRole_Manager                    1677 non-null   float64\n",
      " 43  JobRole_Manufacturing Director     1677 non-null   float64\n",
      " 44  JobRole_Research Director          1677 non-null   float64\n",
      " 45  JobRole_Research Scientist         1677 non-null   float64\n",
      " 46  JobRole_Sales Executive            1677 non-null   float64\n",
      " 47  JobRole_Sales Representative       1677 non-null   float64\n",
      " 48  MaritalStatus_Divorced             1677 non-null   float64\n",
      " 49  MaritalStatus_Married              1677 non-null   float64\n",
      " 50  MaritalStatus_Single               1677 non-null   float64\n",
      " 51  OverTime_No                        1677 non-null   float64\n",
      " 52  OverTime_Yes                       1677 non-null   float64\n",
      "dtypes: float64(28), int64(25)\n",
      "memory usage: 694.5 KB\n"
     ]
    }
   ],
   "source": [
    "train.info()"
   ]
  },
  {
   "cell_type": "code",
   "execution_count": 21,
   "id": "414aa45d",
   "metadata": {
    "execution": {
     "iopub.execute_input": "2023-01-25T17:32:12.201997Z",
     "iopub.status.busy": "2023-01-25T17:32:12.201053Z",
     "iopub.status.idle": "2023-01-25T17:32:12.218311Z",
     "shell.execute_reply": "2023-01-25T17:32:12.216838Z"
    },
    "papermill": {
     "duration": 0.038533,
     "end_time": "2023-01-25T17:32:12.220716",
     "exception": false,
     "start_time": "2023-01-25T17:32:12.182183",
     "status": "completed"
    },
    "tags": []
   },
   "outputs": [
    {
     "name": "stdout",
     "output_type": "stream",
     "text": [
      "<class 'pandas.core.frame.DataFrame'>\n",
      "RangeIndex: 1119 entries, 0 to 1118\n",
      "Data columns (total 52 columns):\n",
      " #   Column                             Non-Null Count  Dtype  \n",
      "---  ------                             --------------  -----  \n",
      " 0   id                                 1119 non-null   int64  \n",
      " 1   Age                                1119 non-null   int64  \n",
      " 2   DailyRate                          1119 non-null   int64  \n",
      " 3   DistanceFromHome                   1119 non-null   int64  \n",
      " 4   Education                          1119 non-null   int64  \n",
      " 5   EnvironmentSatisfaction            1119 non-null   int64  \n",
      " 6   HourlyRate                         1119 non-null   int64  \n",
      " 7   JobInvolvement                     1119 non-null   int64  \n",
      " 8   JobLevel                           1119 non-null   int64  \n",
      " 9   JobSatisfaction                    1119 non-null   int64  \n",
      " 10  MonthlyIncome                      1119 non-null   int64  \n",
      " 11  MonthlyRate                        1119 non-null   int64  \n",
      " 12  NumCompaniesWorked                 1119 non-null   int64  \n",
      " 13  PercentSalaryHike                  1119 non-null   int64  \n",
      " 14  PerformanceRating                  1119 non-null   int64  \n",
      " 15  RelationshipSatisfaction           1119 non-null   int64  \n",
      " 16  StockOptionLevel                   1119 non-null   int64  \n",
      " 17  TotalWorkingYears                  1119 non-null   int64  \n",
      " 18  TrainingTimesLastYear              1119 non-null   int64  \n",
      " 19  WorkLifeBalance                    1119 non-null   int64  \n",
      " 20  YearsAtCompany                     1119 non-null   int64  \n",
      " 21  YearsInCurrentRole                 1119 non-null   int64  \n",
      " 22  YearsSinceLastPromotion            1119 non-null   int64  \n",
      " 23  YearsWithCurrManager               1119 non-null   int64  \n",
      " 24  BusinessTravel_Non-Travel          1119 non-null   float64\n",
      " 25  BusinessTravel_Travel_Frequently   1119 non-null   float64\n",
      " 26  BusinessTravel_Travel_Rarely       1119 non-null   float64\n",
      " 27  Department_Human Resources         1119 non-null   float64\n",
      " 28  Department_Research & Development  1119 non-null   float64\n",
      " 29  Department_Sales                   1119 non-null   float64\n",
      " 30  EducationField_Human Resources     1119 non-null   float64\n",
      " 31  EducationField_Life Sciences       1119 non-null   float64\n",
      " 32  EducationField_Marketing           1119 non-null   float64\n",
      " 33  EducationField_Medical             1119 non-null   float64\n",
      " 34  EducationField_Other               1119 non-null   float64\n",
      " 35  EducationField_Technical Degree    1119 non-null   float64\n",
      " 36  Gender_Female                      1119 non-null   float64\n",
      " 37  Gender_Male                        1119 non-null   float64\n",
      " 38  JobRole_Healthcare Representative  1119 non-null   float64\n",
      " 39  JobRole_Human Resources            1119 non-null   float64\n",
      " 40  JobRole_Laboratory Technician      1119 non-null   float64\n",
      " 41  JobRole_Manager                    1119 non-null   float64\n",
      " 42  JobRole_Manufacturing Director     1119 non-null   float64\n",
      " 43  JobRole_Research Director          1119 non-null   float64\n",
      " 44  JobRole_Research Scientist         1119 non-null   float64\n",
      " 45  JobRole_Sales Executive            1119 non-null   float64\n",
      " 46  JobRole_Sales Representative       1119 non-null   float64\n",
      " 47  MaritalStatus_Divorced             1119 non-null   float64\n",
      " 48  MaritalStatus_Married              1119 non-null   float64\n",
      " 49  MaritalStatus_Single               1119 non-null   float64\n",
      " 50  OverTime_No                        1119 non-null   float64\n",
      " 51  OverTime_Yes                       1119 non-null   float64\n",
      "dtypes: float64(28), int64(24)\n",
      "memory usage: 454.7 KB\n"
     ]
    }
   ],
   "source": [
    "test.info()"
   ]
  },
  {
   "cell_type": "code",
   "execution_count": 22,
   "id": "b697532a",
   "metadata": {
    "execution": {
     "iopub.execute_input": "2023-01-25T17:32:12.257402Z",
     "iopub.status.busy": "2023-01-25T17:32:12.256816Z",
     "iopub.status.idle": "2023-01-25T17:32:12.264214Z",
     "shell.execute_reply": "2023-01-25T17:32:12.262813Z"
    },
    "papermill": {
     "duration": 0.028513,
     "end_time": "2023-01-25T17:32:12.266683",
     "exception": false,
     "start_time": "2023-01-25T17:32:12.238170",
     "status": "completed"
    },
    "tags": []
   },
   "outputs": [],
   "source": [
    "X = train.drop('Attrition', axis = 1)\n",
    "y = train.Attrition.values"
   ]
  },
  {
   "cell_type": "markdown",
   "id": "724ed8cf",
   "metadata": {
    "papermill": {
     "duration": 0.017675,
     "end_time": "2023-01-25T17:32:12.302117",
     "exception": false,
     "start_time": "2023-01-25T17:32:12.284442",
     "status": "completed"
    },
    "tags": []
   },
   "source": [
    "# CLASSIFICATION"
   ]
  },
  {
   "cell_type": "markdown",
   "id": "df21dca5",
   "metadata": {
    "papermill": {
     "duration": 0.0168,
     "end_time": "2023-01-25T17:32:12.336266",
     "exception": false,
     "start_time": "2023-01-25T17:32:12.319466",
     "status": "completed"
    },
    "tags": []
   },
   "source": [
    "* RepeatedStratifiedKFold"
   ]
  },
  {
   "cell_type": "code",
   "execution_count": 23,
   "id": "ec6e178b",
   "metadata": {
    "execution": {
     "iopub.execute_input": "2023-01-25T17:32:12.374120Z",
     "iopub.status.busy": "2023-01-25T17:32:12.373703Z",
     "iopub.status.idle": "2023-01-25T17:32:13.621742Z",
     "shell.execute_reply": "2023-01-25T17:32:13.620186Z"
    },
    "papermill": {
     "duration": 1.270382,
     "end_time": "2023-01-25T17:32:13.624602",
     "exception": false,
     "start_time": "2023-01-25T17:32:12.354220",
     "status": "completed"
    },
    "tags": []
   },
   "outputs": [
    {
     "data": {
      "text/html": [
       "<style type='text/css'>\n",
       ".datatable table.frame { margin-bottom: 0; }\n",
       ".datatable table.frame thead { border-bottom: none; }\n",
       ".datatable table.frame tr.coltypes td {  color: #FFFFFF;  line-height: 6px;  padding: 0 0.5em;}\n",
       ".datatable .bool    { background: #DDDD99; }\n",
       ".datatable .object  { background: #565656; }\n",
       ".datatable .int     { background: #5D9E5D; }\n",
       ".datatable .float   { background: #4040CC; }\n",
       ".datatable .str     { background: #CC4040; }\n",
       ".datatable .time    { background: #40CC40; }\n",
       ".datatable .row_index {  background: var(--jp-border-color3);  border-right: 1px solid var(--jp-border-color0);  color: var(--jp-ui-font-color3);  font-size: 9px;}\n",
       ".datatable .frame tbody td { text-align: left; }\n",
       ".datatable .frame tr.coltypes .row_index {  background: var(--jp-border-color0);}\n",
       ".datatable th:nth-child(2) { padding-left: 12px; }\n",
       ".datatable .hellipsis {  color: var(--jp-cell-editor-border-color);}\n",
       ".datatable .vellipsis {  background: var(--jp-layout-color0);  color: var(--jp-cell-editor-border-color);}\n",
       ".datatable .na {  color: var(--jp-cell-editor-border-color);  font-size: 80%;}\n",
       ".datatable .sp {  opacity: 0.25;}\n",
       ".datatable .footer { font-size: 9px; }\n",
       ".datatable .frame_dimensions {  background: var(--jp-border-color3);  border-top: 1px solid var(--jp-border-color0);  color: var(--jp-ui-font-color3);  display: inline-block;  opacity: 0.6;  padding: 1px 10px 1px 5px;}\n",
       "</style>\n"
      ],
      "text/plain": [
       "<IPython.core.display.HTML object>"
      ]
     },
     "metadata": {},
     "output_type": "display_data"
    }
   ],
   "source": [
    "from sklearn.model_selection import cross_val_score\n",
    "from sklearn.tree import DecisionTreeClassifier\n",
    "from sklearn.ensemble import RandomForestClassifier\n",
    "from lightgbm import LGBMClassifier\n",
    "from xgboost import XGBClassifier\n",
    "from sklearn.preprocessing import StandardScaler\n",
    "from sklearn.model_selection import train_test_split\n",
    "from sklearn.model_selection import GridSearchCV\n",
    "from sklearn.metrics import accuracy_score, roc_curve,classification_report, confusion_matrix, auc, confusion_matrix, f1_score, roc_auc_score, precision_score, recall_score "
   ]
  },
  {
   "cell_type": "markdown",
   "id": "06d83826",
   "metadata": {
    "papermill": {
     "duration": 0.017516,
     "end_time": "2023-01-25T17:32:13.660082",
     "exception": false,
     "start_time": "2023-01-25T17:32:13.642566",
     "status": "completed"
    },
    "tags": []
   },
   "source": [
    "We observe tht there is imbalance of the target. To take care of it we \"stratify\". \n"
   ]
  },
  {
   "cell_type": "code",
   "execution_count": 24,
   "id": "afaa7ef8",
   "metadata": {
    "execution": {
     "iopub.execute_input": "2023-01-25T17:32:13.699741Z",
     "iopub.status.busy": "2023-01-25T17:32:13.698360Z",
     "iopub.status.idle": "2023-01-25T17:32:13.703641Z",
     "shell.execute_reply": "2023-01-25T17:32:13.702476Z"
    },
    "papermill": {
     "duration": 0.026857,
     "end_time": "2023-01-25T17:32:13.705874",
     "exception": false,
     "start_time": "2023-01-25T17:32:13.679017",
     "status": "completed"
    },
    "tags": []
   },
   "outputs": [],
   "source": [
    "#X_train, X_test, y_train, y_test = train_test_split(X, y, test_size = 0.2, stratify = y )"
   ]
  },
  {
   "cell_type": "code",
   "execution_count": 25,
   "id": "d9088502",
   "metadata": {
    "execution": {
     "iopub.execute_input": "2023-01-25T17:32:13.743191Z",
     "iopub.status.busy": "2023-01-25T17:32:13.741824Z",
     "iopub.status.idle": "2023-01-25T17:32:13.746678Z",
     "shell.execute_reply": "2023-01-25T17:32:13.745851Z"
    },
    "papermill": {
     "duration": 0.025416,
     "end_time": "2023-01-25T17:32:13.748725",
     "exception": false,
     "start_time": "2023-01-25T17:32:13.723309",
     "status": "completed"
    },
    "tags": []
   },
   "outputs": [],
   "source": [
    "#sc = StandardScaler()\n",
    "#X_train_scaled = sc.fit_transform(X_train )\n",
    "#X_test_scaled = sc.transform(X_test)"
   ]
  },
  {
   "cell_type": "code",
   "execution_count": 26,
   "id": "94234024",
   "metadata": {
    "execution": {
     "iopub.execute_input": "2023-01-25T17:32:13.784877Z",
     "iopub.status.busy": "2023-01-25T17:32:13.784096Z",
     "iopub.status.idle": "2023-01-25T17:32:13.788981Z",
     "shell.execute_reply": "2023-01-25T17:32:13.787906Z"
    },
    "papermill": {
     "duration": 0.02584,
     "end_time": "2023-01-25T17:32:13.791639",
     "exception": false,
     "start_time": "2023-01-25T17:32:13.765799",
     "status": "completed"
    },
    "tags": []
   },
   "outputs": [],
   "source": [
    "#PCA\n",
    "#from sklearn.decomposition import PCA\n",
    "#pca = PCA(n_components = 0.95) #looking for 95 % variance\n",
    "#x_pca = pca.fit_transform(X_train_scaled)"
   ]
  },
  {
   "cell_type": "code",
   "execution_count": 27,
   "id": "1fa299e0",
   "metadata": {
    "execution": {
     "iopub.execute_input": "2023-01-25T17:32:13.827900Z",
     "iopub.status.busy": "2023-01-25T17:32:13.826774Z",
     "iopub.status.idle": "2023-01-25T17:32:13.831131Z",
     "shell.execute_reply": "2023-01-25T17:32:13.830335Z"
    },
    "papermill": {
     "duration": 0.024386,
     "end_time": "2023-01-25T17:32:13.833089",
     "exception": false,
     "start_time": "2023-01-25T17:32:13.808703",
     "status": "completed"
    },
    "tags": []
   },
   "outputs": [],
   "source": [
    " #pca.explained_variance_ratio_.cumsum()"
   ]
  },
  {
   "cell_type": "code",
   "execution_count": 28,
   "id": "e2eda6fb",
   "metadata": {
    "execution": {
     "iopub.execute_input": "2023-01-25T17:32:13.869840Z",
     "iopub.status.busy": "2023-01-25T17:32:13.868683Z",
     "iopub.status.idle": "2023-01-25T17:32:13.873470Z",
     "shell.execute_reply": "2023-01-25T17:32:13.872637Z"
    },
    "papermill": {
     "duration": 0.025405,
     "end_time": "2023-01-25T17:32:13.875492",
     "exception": false,
     "start_time": "2023-01-25T17:32:13.850087",
     "status": "completed"
    },
    "tags": []
   },
   "outputs": [],
   "source": [
    "#x = range(0, 34)\n",
    "#plt.scatter(x, y = pca.explained_variance_ratio_.cumsum())\n",
    "#plt.axhline(y =  0.95 , color = 'red')\n",
    "#plt.xlabel('Number of components')\n",
    "#plt.ylabel('Explained variance ratio')\n",
    "#plt.grid()\n",
    "#plt.show()"
   ]
  },
  {
   "cell_type": "code",
   "execution_count": 29,
   "id": "89e2ec0d",
   "metadata": {
    "execution": {
     "iopub.execute_input": "2023-01-25T17:32:13.912296Z",
     "iopub.status.busy": "2023-01-25T17:32:13.911528Z",
     "iopub.status.idle": "2023-01-25T17:32:13.916140Z",
     "shell.execute_reply": "2023-01-25T17:32:13.915276Z"
    },
    "papermill": {
     "duration": 0.025162,
     "end_time": "2023-01-25T17:32:13.918048",
     "exception": false,
     "start_time": "2023-01-25T17:32:13.892886",
     "status": "completed"
    },
    "tags": []
   },
   "outputs": [],
   "source": [
    "# number of components that explains the most variance\n",
    "#n_components = 35\n",
    "#pca = PCA(n_components = n_components)\n",
    "#X_train_pca = pca.fit_transform(X_train_scaled)\n",
    "#X_test_pca = pca.transform(X_test_scaled)"
   ]
  },
  {
   "cell_type": "markdown",
   "id": "8d89efcb",
   "metadata": {
    "papermill": {
     "duration": 0.016993,
     "end_time": "2023-01-25T17:32:13.952332",
     "exception": false,
     "start_time": "2023-01-25T17:32:13.935339",
     "status": "completed"
    },
    "tags": []
   },
   "source": [
    "**MODELING**\n",
    "1"
   ]
  },
  {
   "cell_type": "code",
   "execution_count": 30,
   "id": "fa23fe31",
   "metadata": {
    "execution": {
     "iopub.execute_input": "2023-01-25T17:32:13.988762Z",
     "iopub.status.busy": "2023-01-25T17:32:13.988336Z",
     "iopub.status.idle": "2023-01-25T17:32:13.992896Z",
     "shell.execute_reply": "2023-01-25T17:32:13.991949Z"
    },
    "papermill": {
     "duration": 0.025316,
     "end_time": "2023-01-25T17:32:13.994920",
     "exception": false,
     "start_time": "2023-01-25T17:32:13.969604",
     "status": "completed"
    },
    "tags": []
   },
   "outputs": [],
   "source": [
    "#decision tree classifier\n",
    "#clf = DecisionTreeClassifier(random_state = 42)\n",
    "#clf.fit(X_train_pca, y_train)\n",
    "#y_pred = clf.predict(X_test_pca)\n",
    "\n",
    "#print('Accuracy : ',accuracy_score(y_test, y_pred))"
   ]
  },
  {
   "cell_type": "code",
   "execution_count": 31,
   "id": "f804f3d4",
   "metadata": {
    "execution": {
     "iopub.execute_input": "2023-01-25T17:32:14.032575Z",
     "iopub.status.busy": "2023-01-25T17:32:14.031861Z",
     "iopub.status.idle": "2023-01-25T17:32:14.038885Z",
     "shell.execute_reply": "2023-01-25T17:32:14.037750Z"
    },
    "papermill": {
     "duration": 0.027808,
     "end_time": "2023-01-25T17:32:14.040391",
     "exception": true,
     "start_time": "2023-01-25T17:32:14.012583",
     "status": "failed"
    },
    "tags": []
   },
   "outputs": [
    {
     "ename": "IndentationError",
     "evalue": "unexpected indent (71318627.py, line 3)",
     "output_type": "error",
     "traceback": [
      "\u001b[0;36m  File \u001b[0;32m\"/tmp/ipykernel_19/71318627.py\"\u001b[0;36m, line \u001b[0;32m3\u001b[0m\n\u001b[0;31m    LGBMClassifier(random_state=42), XGBClassifier(random_state = 42)]\u001b[0m\n\u001b[0m    ^\u001b[0m\n\u001b[0;31mIndentationError\u001b[0m\u001b[0;31m:\u001b[0m unexpected indent\n"
     ]
    }
   ],
   "source": [
    "#checking different model \n",
    "#models = [RandomForestClassifier(random_state = 42), DecisionTreeClassifier(random_state = 42),\n",
    "          LGBMClassifier(random_state=42), XGBClassifier(random_state = 42)]\n",
    "#model_name  = [\"Random Forest\", \"Decision Tree\", \"LGBM\", \"XGB\"]\n",
    "#acc = [] #accuracy\n",
    "#f1  = []# F-1 score\n",
    "#roc_auc = []#AUC-\n",
    "#cf = []\n",
    "#for name, model in zip(model_name, models):\n",
    "#    model.fit(X_train_pca, y_train)\n",
    "#    y_pred = model.predict(X_test_pca)\n",
    "#    accuracy = accuracy_score(y_test, y_pred)\n",
    "#    f1score = f1_score(y_test, y_pred)\n",
    "#    rocAuc = roc_auc_score(y_test,y_pred )\n",
    "#    confusionmatrix = confusion_matrix(y_test, y_pred)\n",
    "#    recall = recall_score(y_test, y_pred)\n",
    "#    prec = precision_score(y_test, y_pred)\n",
    "#    class_report = classification_report(y_test, y_pred)\n",
    "#    cf.append(confusionmatrix)\n",
    "   # print(f'---{name}---')\n",
    "   # print(f'F1 - score  : {f1score}')\n",
    "   # print(f'recall      : {recall}')\n",
    "   # print(f'precision   : {prec}')\n",
    "#    print( class_report)\n",
    "#    print('Confusion marix : ', confusionmatrix)\n",
    "    \n",
    "    #acc.append(accuracy)\n",
    "    #f1.append(f1_score)\n",
    "    #roc_auc.append(rocAuc)\n",
    "    \n",
    "    "
   ]
  },
  {
   "cell_type": "code",
   "execution_count": null,
   "id": "9b649074",
   "metadata": {
    "papermill": {
     "duration": null,
     "end_time": null,
     "exception": null,
     "start_time": null,
     "status": "pending"
    },
    "tags": []
   },
   "outputs": [],
   "source": [
    "#plotting confusion matrix\n",
    "prinf cf"
   ]
  },
  {
   "cell_type": "markdown",
   "id": "6c9b7db9",
   "metadata": {
    "papermill": {
     "duration": null,
     "end_time": null,
     "exception": null,
     "start_time": null,
     "status": "pending"
    },
    "tags": []
   },
   "source": [
    "*Let's look at the confusion matrix*"
   ]
  },
  {
   "cell_type": "markdown",
   "id": "ee799b6c",
   "metadata": {
    "papermill": {
     "duration": null,
     "end_time": null,
     "exception": null,
     "start_time": null,
     "status": "pending"
    },
    "tags": []
   },
   "source": [
    "### Precision \n",
    "precision = $\\frac{#True +ves}{#True +ves + #False +ves}$\n",
    "### Recall\n",
    "recall = $\\frac{#True +ves}{#True +ves + #False -ves}$\n",
    "### F1 score"
   ]
  },
  {
   "cell_type": "code",
   "execution_count": null,
   "id": "18c01a60",
   "metadata": {
    "papermill": {
     "duration": null,
     "end_time": null,
     "exception": null,
     "start_time": null,
     "status": "pending"
    },
    "tags": []
   },
   "outputs": [],
   "source": [
    "#sns.histplot(y_test)"
   ]
  },
  {
   "cell_type": "code",
   "execution_count": null,
   "id": "81f175f7",
   "metadata": {
    "papermill": {
     "duration": null,
     "end_time": null,
     "exception": null,
     "start_time": null,
     "status": "pending"
    },
    "tags": []
   },
   "outputs": [],
   "source": [
    "print(f'There are {y_test.shape} samples')\n",
    "print(f'Out of which the number of positives in test are {y_test.sum()}')\n"
   ]
  },
  {
   "cell_type": "markdown",
   "id": "6efd48fa",
   "metadata": {
    "papermill": {
     "duration": null,
     "end_time": null,
     "exception": null,
     "start_time": null,
     "status": "pending"
    },
    "tags": []
   },
   "source": [
    "Jan 21, \n",
    "1. let's remove the train test split, use the CV model (cross-validation) \n",
    "2. "
   ]
  },
  {
   "cell_type": "code",
   "execution_count": null,
   "id": "4e0ea606",
   "metadata": {
    "execution": {
     "iopub.execute_input": "2023-01-25T17:29:04.223820Z",
     "iopub.status.busy": "2023-01-25T17:29:04.223389Z",
     "iopub.status.idle": "2023-01-25T17:29:04.229585Z",
     "shell.execute_reply": "2023-01-25T17:29:04.228132Z",
     "shell.execute_reply.started": "2023-01-25T17:29:04.223781Z"
    },
    "papermill": {
     "duration": null,
     "end_time": null,
     "exception": null,
     "start_time": null,
     "status": "pending"
    },
    "tags": []
   },
   "outputs": [],
   "source": [
    "from sklearn.model_selection import StratifiedKFold"
   ]
  },
  {
   "cell_type": "code",
   "execution_count": null,
   "id": "99859047",
   "metadata": {
    "execution": {
     "iopub.execute_input": "2023-01-25T17:29:05.045941Z",
     "iopub.status.busy": "2023-01-25T17:29:05.045213Z",
     "iopub.status.idle": "2023-01-25T17:29:05.052530Z",
     "shell.execute_reply": "2023-01-25T17:29:05.051467Z",
     "shell.execute_reply.started": "2023-01-25T17:29:05.045890Z"
    },
    "papermill": {
     "duration": null,
     "end_time": null,
     "exception": null,
     "start_time": null,
     "status": "pending"
    },
    "tags": []
   },
   "outputs": [],
   "source": [
    "cv = StratifiedKFold(n_splits = 5, random_state = 42, shuffle = True )"
   ]
  },
  {
   "cell_type": "code",
   "execution_count": null,
   "id": "b2ff1d2d",
   "metadata": {
    "papermill": {
     "duration": null,
     "end_time": null,
     "exception": null,
     "start_time": null,
     "status": "pending"
    },
    "tags": []
   },
   "outputs": [],
   "source": [
    "\n",
    "#checking different model \n",
    "models = [RandomForestClassifier(random_state = 42), DecisionTreeClassifier(random_state = 42),\n",
    "          LGBMClassifier(random_state=42), XGBClassifier(random_state = 42)]\n",
    "model_name  = [\"Random Forest\", \"Decision Tree\", \"LGBM\", \"XGB\"]    \n",
    "i = 1\n",
    "for name, model in zip(model_name, models):\n",
    "   # rocAuc=[]\n",
    "    rocAucScore = []\n",
    "    print(f'-----{name}------')\n",
    "    for train_idx, test_idx in cv.split(X,y):\n",
    "        print('\\n {} of kfold {}'.format(i, cv.n_splits))\n",
    "        x_train, x_val = X.iloc[train_idx], X.iloc[test_idx]\n",
    "        y_train, y_val = y[train_idx], y[test_idx]    \n",
    "        model.fit(x_train, y_train)\n",
    "        y_pred = model.predict(x_val)\n",
    "        y_score = model.predict_proba(x_val)\n",
    "        accuracy = accuracy_score(y_val, y_pred)\n",
    "        #rocAuc.append(roc_auc_score(y_val,y_pred ))\n",
    "        rocAucScore.append(roc_auc_score(y_val, y_score[:,1]))\n",
    "        print(f'ROC_AUC  : ',np.mean(rocAucScore))\n",
    "        i+=1\n",
    "   # print(f'ROC_AUC Score mean : ',np.mean(rocAucScore))"
   ]
  },
  {
   "cell_type": "markdown",
   "id": "3ec48b9b",
   "metadata": {
    "papermill": {
     "duration": null,
     "end_time": null,
     "exception": null,
     "start_time": null,
     "status": "pending"
    },
    "tags": []
   },
   "source": [
    "We observe that we get the best score for roc-auc byb Decision Tree or XGB Classifier\n",
    "Training these models better \n"
   ]
  },
  {
   "cell_type": "code",
   "execution_count": null,
   "id": "f094f058",
   "metadata": {
    "papermill": {
     "duration": null,
     "end_time": null,
     "exception": null,
     "start_time": null,
     "status": "pending"
    },
    "tags": []
   },
   "outputs": [],
   "source": [
    "#tuning through the model \n",
    "params = {\n",
    "    'n_estimators' : [300],\n",
    "    'max_depth' : np.arange(20,100,30),\n",
    "    'learning_rate':[ 0.01, 0.1, 1.0]\n",
    "\n",
    "}"
   ]
  },
  {
   "cell_type": "code",
   "execution_count": null,
   "id": "46f3bf01",
   "metadata": {
    "_kg_hide-output": true,
    "papermill": {
     "duration": null,
     "end_time": null,
     "exception": null,
     "start_time": null,
     "status": "pending"
    },
    "tags": []
   },
   "outputs": [],
   "source": [
    "i = 1\n",
    "for train_idx, test_idx in cv.split(X,y):\n",
    "    print('\\n{} of kfold {}'.format(i, cv.n_splits))\n",
    "    x_train, x_val = X.iloc[train_idx], X.iloc[test_idx]\n",
    "    y_train, y_val = y[train_idx], y[test_idx]    \n",
    "    model = GridSearchCV(estimator = XGBClassifier(), param_grid = params, scoring = 'roc_auc', verbose = 3) #e roc-auc_score in grid only serves labels,\n",
    "    model.fit(x_train, y_train)\n",
    "    y_pred = model.predict(x_val)\n",
    "    y_score = model.predict_proba(x_val)   \n",
    "    print(f'ROC_AUC  : ',roc_auc_score(y_val,y_pred ))\n",
    "    print(f'ROC - AUC scoring :',roc_auc_score(y_val, y_score[:,1]) ) # need to provide the probs\n",
    "    i+=1"
   ]
  },
  {
   "cell_type": "code",
   "execution_count": null,
   "id": "5008eede",
   "metadata": {
    "papermill": {
     "duration": null,
     "end_time": null,
     "exception": null,
     "start_time": null,
     "status": "pending"
    },
    "tags": []
   },
   "outputs": [],
   "source": [
    "best_param = {'learning_rate': 0.1, 'max_depth': 20, 'n_estimators': 300}\n",
    "            #model.best_params_"
   ]
  },
  {
   "cell_type": "code",
   "execution_count": null,
   "id": "f1abb6b6",
   "metadata": {
    "papermill": {
     "duration": null,
     "end_time": null,
     "exception": null,
     "start_time": null,
     "status": "pending"
    },
    "tags": []
   },
   "outputs": [],
   "source": [
    "print(best_param)"
   ]
  },
  {
   "cell_type": "code",
   "execution_count": null,
   "id": "b89987d2",
   "metadata": {
    "papermill": {
     "duration": null,
     "end_time": null,
     "exception": null,
     "start_time": null,
     "status": "pending"
    },
    "tags": []
   },
   "outputs": [],
   "source": [
    "# XGB Regressor\n",
    "i = 1\n",
    "rof_auc_xgb = []\n",
    "for train_idx, test_idx in cv.split(X,y):\n",
    "    print('\\n{} of kfold {}'.format(i, cv.n_splits))\n",
    "    x_train, x_val = X.iloc[train_idx], X.iloc[test_idx]\n",
    "    y_train, y_val = y[train_idx], y[test_idx]    \n",
    "    xgb = XGBClassifier(**best_param)\n",
    "    xgb.fit(x_train, y_train)\n",
    "    y_pred = xgb.predict(x_val)\n",
    "    y_score = xgb.predict_proba(x_val)\n",
    "    fpr_xgb, tpr_xgb, thresholds_xgb = roc_curve(y_val, y_score[:,1])\n",
    "    rof_auc_xgb.append(roc_auc_score(y_val, y_score[:,1]))\n",
    "    print(f'ROC_AUC  : ',roc_auc_score(y_val,y_pred ))\n",
    "    print(f'ROC - AUC scoring :',roc_auc_score(y_val, y_score[:,1]) ) # need to provide the probs\n",
    "    i+=1\n",
    "print('xgb- rof-auc : ', np.mean(rof_auc_xgb))"
   ]
  },
  {
   "cell_type": "code",
   "execution_count": null,
   "id": "fcfaf097",
   "metadata": {
    "papermill": {
     "duration": null,
     "end_time": null,
     "exception": null,
     "start_time": null,
     "status": "pending"
    },
    "tags": []
   },
   "outputs": [],
   "source": [
    "# Random Forest Classifier\n",
    "paramater = {\n",
    "    'max_depth': [2,8,16,32, 64],\n",
    "    'n_estimators' : [128, 256, 512, 1024, 2048]\n",
    "}"
   ]
  },
  {
   "cell_type": "code",
   "execution_count": null,
   "id": "1ecc8f47",
   "metadata": {
    "papermill": {
     "duration": null,
     "end_time": null,
     "exception": null,
     "start_time": null,
     "status": "pending"
    },
    "tags": []
   },
   "outputs": [],
   "source": [
    "i = 1\n",
    "for train_idx, test_idx in cv.split(X,y):\n",
    "    print('\\n{} of kfold {}'.format(i, cv.n_splits))\n",
    "    x_train, x_val = X.iloc[train_idx], X.iloc[test_idx]\n",
    "    y_train, y_val = y[train_idx], y[test_idx]    \n",
    "    model = GridSearchCV(estimator = RandomForestClassifier(), param_grid = paramater, scoring = 'roc_auc', verbose = 3) #e roc-auc_score in grid only serves labels,\n",
    "    model.fit(x_train, y_train)\n",
    "    y_pred = model.predict(x_val)\n",
    "    y_score = model.predict_proba(x_val)   \n",
    "    print(f'ROC_AUC  : ',roc_auc_score(y_val,y_pred ))\n",
    "    print(f'ROC - AUC scoring :',roc_auc_score(y_val, y_score[:,1]) ) # need to provide the probs\n",
    "    i+=1"
   ]
  },
  {
   "cell_type": "code",
   "execution_count": null,
   "id": "cb967b39",
   "metadata": {
    "execution": {
     "iopub.execute_input": "2023-01-25T17:29:22.220870Z",
     "iopub.status.busy": "2023-01-25T17:29:22.220419Z",
     "iopub.status.idle": "2023-01-25T17:29:22.227062Z",
     "shell.execute_reply": "2023-01-25T17:29:22.225622Z",
     "shell.execute_reply.started": "2023-01-25T17:29:22.220830Z"
    },
    "papermill": {
     "duration": null,
     "end_time": null,
     "exception": null,
     "start_time": null,
     "status": "pending"
    },
    "tags": []
   },
   "outputs": [],
   "source": [
    "#rf_best_param  = model.best_params_ initially were max_dept : 32, n_est 1024\n",
    "#rf_best_param  = model.best_params_\n",
    "rf_best_param = {'max_depth': 32, 'n_estimators': 1024}"
   ]
  },
  {
   "cell_type": "code",
   "execution_count": null,
   "id": "9b6ee3ae",
   "metadata": {
    "papermill": {
     "duration": null,
     "end_time": null,
     "exception": null,
     "start_time": null,
     "status": "pending"
    },
    "tags": []
   },
   "outputs": [],
   "source": [
    "rf_best_param #it is still the same\n"
   ]
  },
  {
   "cell_type": "code",
   "execution_count": null,
   "id": "a7582d04",
   "metadata": {
    "execution": {
     "iopub.execute_input": "2023-01-25T17:29:26.225646Z",
     "iopub.status.busy": "2023-01-25T17:29:26.224786Z",
     "iopub.status.idle": "2023-01-25T17:29:44.530867Z",
     "shell.execute_reply": "2023-01-25T17:29:44.529694Z",
     "shell.execute_reply.started": "2023-01-25T17:29:26.225605Z"
    },
    "papermill": {
     "duration": null,
     "end_time": null,
     "exception": null,
     "start_time": null,
     "status": "pending"
    },
    "tags": []
   },
   "outputs": [],
   "source": [
    "# Random Forest Regressor\n",
    "i = 1\n",
    "roc_auc_rf = []\n",
    "for train_idx, test_idx in cv.split(X,y):\n",
    "    print('\\n{} of kfold {}'.format(i, cv.n_splits))\n",
    "    x_train, x_val = X.iloc[train_idx], X.iloc[test_idx]\n",
    "    y_train, y_val = y[train_idx], y[test_idx]    \n",
    "    rf = RandomForestClassifier(**rf_best_param)\n",
    "    rf.fit(x_train, y_train)\n",
    "    y_pred = rf.predict(x_val)\n",
    "    y_score = rf.predict_proba(x_val)\n",
    "    roc_auc_rf.append(roc_auc_score(y_val, y_score[:,1]))\n",
    "    fpr_rf, tpr_rf, thresholds_rf = roc_curve(y_val, y_score[:,1])\n",
    "    print(f'ROC_AUC  : ',roc_auc_score(y_val,y_pred ))\n",
    "    print(f'ROC - AUC scoring :',roc_auc_score(y_val, y_score[:,1]) ) # need to provide the probs\n",
    "    i+=1\n",
    "print('RF- rof-auc : ', np.mean(roc_auc_rf))\n",
    "preds = rf.predict_proba(test)"
   ]
  },
  {
   "cell_type": "code",
   "execution_count": null,
   "id": "958bc1ee",
   "metadata": {
    "papermill": {
     "duration": null,
     "end_time": null,
     "exception": null,
     "start_time": null,
     "status": "pending"
    },
    "tags": []
   },
   "outputs": [],
   "source": [
    "feature_imp2 = pd.Series(rf.feature_importances_,index=X.columns).sort_values(ascending=False)\n",
    "feature_imp1 = pd.Series(xgb.feature_importances_,index=X.columns).sort_values(ascending=False)\n",
    "\n",
    "\n",
    "\n",
    "# Creating a bar plot\n",
    "\n",
    "\n",
    "plt.figure(figsize=(15,20))\n",
    "\n",
    "# Creating a bar plot\n",
    "#sns.color_palette(\"flare\", as_cmap=True)\n",
    "sns.barplot(x=feature_imp2, y=feature_imp2.index, color = 'pink', label = 'Random Forest') #palette='flare'\n",
    "sns.barplot(x=feature_imp1, y=feature_imp1.index, color = 'cyan', label = 'XGB Reg' )#palette = 'blend:#7AB,#EDA',\n",
    "\n",
    "# Add labels to your graph\n",
    "plt.xlabel('Feature Importance Score')\n",
    "plt.ylabel('Features')\n",
    "plt.title(\"Visualizing Important Features\")\n",
    "plt.grid()\n",
    "plt.legend()\n",
    "plt.show()\n"
   ]
  },
  {
   "cell_type": "code",
   "execution_count": null,
   "id": "b3bbb66c",
   "metadata": {
    "papermill": {
     "duration": null,
     "end_time": null,
     "exception": null,
     "start_time": null,
     "status": "pending"
    },
    "tags": []
   },
   "outputs": [],
   "source": [
    "#plot ROC curve\n",
    "\n",
    "plt.figure(figsize=(10,6))\n",
    "\n",
    "plt.plot([0,1], [0,1], 'k--')\n",
    "plt.plot(fpr_rf, tpr_rf,color = 'red', label = 'Random Forest(a=0.82')\n",
    "plt.plot(fpr_xgb, tpr_xgb,color = 'cyan', label = 'XGB Classifier (a=0.81)')\n",
    "plt.xlabel('False Positive Rate')\n",
    "plt.ylabel('True Positive Rate')\n",
    "plt.grid()\n",
    "plt.legend()\n",
    "plt.title('ROC - Curve')"
   ]
  },
  {
   "cell_type": "code",
   "execution_count": null,
   "id": "2316337e",
   "metadata": {
    "papermill": {
     "duration": null,
     "end_time": null,
     "exception": null,
     "start_time": null,
     "status": "pending"
    },
    "tags": []
   },
   "outputs": [],
   "source": [
    "#test_preds = []\n",
    "#rf = RandomForestClassifier(**rf_best_param)\n",
    "#preds = rf.predict_proba(test)\n",
    "#test_preds.append(preds[:, 1])"
   ]
  },
  {
   "cell_type": "code",
   "execution_count": null,
   "id": "f7aa0973",
   "metadata": {
    "execution": {
     "iopub.execute_input": "2023-01-25T17:29:54.694278Z",
     "iopub.status.busy": "2023-01-25T17:29:54.693844Z",
     "iopub.status.idle": "2023-01-25T17:29:54.699839Z",
     "shell.execute_reply": "2023-01-25T17:29:54.698553Z",
     "shell.execute_reply.started": "2023-01-25T17:29:54.694233Z"
    },
    "papermill": {
     "duration": null,
     "end_time": null,
     "exception": null,
     "start_time": null,
     "status": "pending"
    },
    "tags": []
   },
   "outputs": [],
   "source": [
    "preds\n",
    "test_preds = preds[:,1]"
   ]
  },
  {
   "cell_type": "code",
   "execution_count": null,
   "id": "3955b25d",
   "metadata": {
    "execution": {
     "iopub.execute_input": "2023-01-25T17:29:57.303556Z",
     "iopub.status.busy": "2023-01-25T17:29:57.302704Z",
     "iopub.status.idle": "2023-01-25T17:29:57.324297Z",
     "shell.execute_reply": "2023-01-25T17:29:57.323091Z",
     "shell.execute_reply.started": "2023-01-25T17:29:57.303503Z"
    },
    "papermill": {
     "duration": null,
     "end_time": null,
     "exception": null,
     "start_time": null,
     "status": "pending"
    },
    "tags": []
   },
   "outputs": [],
   "source": [
    "submission = pd.DataFrame(data={'id': test.id, 'Attrition': test_preds})\n",
    "submission.head()"
   ]
  },
  {
   "cell_type": "code",
   "execution_count": null,
   "id": "4e69c353",
   "metadata": {
    "execution": {
     "iopub.execute_input": "2023-01-25T17:30:20.027914Z",
     "iopub.status.busy": "2023-01-25T17:30:20.027490Z",
     "iopub.status.idle": "2023-01-25T17:30:20.039593Z",
     "shell.execute_reply": "2023-01-25T17:30:20.038091Z",
     "shell.execute_reply.started": "2023-01-25T17:30:20.027878Z"
    },
    "papermill": {
     "duration": null,
     "end_time": null,
     "exception": null,
     "start_time": null,
     "status": "pending"
    },
    "tags": []
   },
   "outputs": [],
   "source": [
    "submission.to_csv('./submission.csv', index=False)  \n"
   ]
  },
  {
   "cell_type": "code",
   "execution_count": null,
   "id": "f4a2570c",
   "metadata": {
    "papermill": {
     "duration": null,
     "end_time": null,
     "exception": null,
     "start_time": null,
     "status": "pending"
    },
    "tags": []
   },
   "outputs": [],
   "source": []
  }
 ],
 "metadata": {
  "kernelspec": {
   "display_name": "Python 3",
   "language": "python",
   "name": "python3"
  },
  "language_info": {
   "codemirror_mode": {
    "name": "ipython",
    "version": 3
   },
   "file_extension": ".py",
   "mimetype": "text/x-python",
   "name": "python",
   "nbconvert_exporter": "python",
   "pygments_lexer": "ipython3",
   "version": "3.7.12"
  },
  "papermill": {
   "default_parameters": {},
   "duration": 72.363143,
   "end_time": "2023-01-25T17:32:15.383236",
   "environment_variables": {},
   "exception": true,
   "input_path": "__notebook__.ipynb",
   "output_path": "__notebook__.ipynb",
   "parameters": {},
   "start_time": "2023-01-25T17:31:03.020093",
   "version": "2.3.4"
  }
 },
 "nbformat": 4,
 "nbformat_minor": 5
}
